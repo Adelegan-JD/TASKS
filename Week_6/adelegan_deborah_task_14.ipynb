{
 "cells": [
  {
   "cell_type": "code",
   "execution_count": 1,
   "id": "6a4d226d",
   "metadata": {},
   "outputs": [
    {
     "ename": "ModuleNotFoundError",
     "evalue": "No module named 'matplotlib'",
     "output_type": "error",
     "traceback": [
      "\u001b[31m---------------------------------------------------------------------------\u001b[39m",
      "\u001b[31mModuleNotFoundError\u001b[39m                       Traceback (most recent call last)",
      "\u001b[36mCell\u001b[39m\u001b[36m \u001b[39m\u001b[32mIn[1]\u001b[39m\u001b[32m, line 5\u001b[39m\n\u001b[32m      3\u001b[39m \u001b[38;5;28;01mimport\u001b[39;00m\u001b[38;5;250m \u001b[39m\u001b[34;01mpandas\u001b[39;00m\u001b[38;5;250m \u001b[39m\u001b[38;5;28;01mas\u001b[39;00m\u001b[38;5;250m \u001b[39m\u001b[34;01mpd\u001b[39;00m\n\u001b[32m      4\u001b[39m \u001b[38;5;28;01mimport\u001b[39;00m\u001b[38;5;250m \u001b[39m\u001b[34;01mnumpy\u001b[39;00m\u001b[38;5;250m \u001b[39m\u001b[38;5;28;01mas\u001b[39;00m\u001b[38;5;250m \u001b[39m\u001b[34;01mnp\u001b[39;00m\n\u001b[32m----> \u001b[39m\u001b[32m5\u001b[39m \u001b[38;5;28;01mimport\u001b[39;00m\u001b[38;5;250m \u001b[39m\u001b[34;01mmatplotlib\u001b[39;00m\u001b[34;01m.\u001b[39;00m\u001b[34;01mpyplot\u001b[39;00m\u001b[38;5;250m \u001b[39m\u001b[38;5;28;01mas\u001b[39;00m\u001b[38;5;250m \u001b[39m\u001b[34;01mplt\u001b[39;00m\n\u001b[32m      6\u001b[39m \u001b[38;5;28;01mimport\u001b[39;00m\u001b[38;5;250m \u001b[39m\u001b[34;01mseaborn\u001b[39;00m\u001b[38;5;250m \u001b[39m\u001b[38;5;28;01mas\u001b[39;00m\u001b[38;5;250m \u001b[39m\u001b[34;01msns\u001b[39;00m\n",
      "\u001b[31mModuleNotFoundError\u001b[39m: No module named 'matplotlib'"
     ]
    }
   ],
   "source": [
    "# import necessary packages and libraries\n",
    "import os\n",
    "import pandas as pd\n",
    "import numpy as np\n",
    "import matplotlib.pyplot as plt\n",
    "import seaborn as sns"
   ]
  },
  {
   "cell_type": "markdown",
   "id": "41526339",
   "metadata": {},
   "source": [
    "Import the data"
   ]
  },
  {
   "cell_type": "code",
   "execution_count": null,
   "id": "b5255ee4",
   "metadata": {},
   "outputs": [],
   "source": [
    "# Load in the dataset\n",
    "df = pd.read_excel('eletronic_sales.xlsx')"
   ]
  },
  {
   "cell_type": "markdown",
   "id": "6f99a094",
   "metadata": {},
   "source": [
    "# Data Wrangling"
   ]
  },
  {
   "cell_type": "markdown",
   "id": "c8b71587",
   "metadata": {},
   "source": [
    "Getting Basic Information on the data\n"
   ]
  },
  {
   "cell_type": "code",
   "execution_count": null,
   "id": "680c2f84",
   "metadata": {},
   "outputs": [
    {
     "data": {
      "text/html": [
       "<div>\n",
       "<style scoped>\n",
       "    .dataframe tbody tr th:only-of-type {\n",
       "        vertical-align: middle;\n",
       "    }\n",
       "\n",
       "    .dataframe tbody tr th {\n",
       "        vertical-align: top;\n",
       "    }\n",
       "\n",
       "    .dataframe thead th {\n",
       "        text-align: right;\n",
       "    }\n",
       "</style>\n",
       "<table border=\"1\" class=\"dataframe\">\n",
       "  <thead>\n",
       "    <tr style=\"text-align: right;\">\n",
       "      <th></th>\n",
       "      <th>Date</th>\n",
       "      <th>Branch</th>\n",
       "      <th>Sales Agent</th>\n",
       "      <th>Products</th>\n",
       "      <th>Units</th>\n",
       "      <th>Price</th>\n",
       "    </tr>\n",
       "  </thead>\n",
       "  <tbody>\n",
       "    <tr>\n",
       "      <th>0</th>\n",
       "      <td>2014-09-01</td>\n",
       "      <td>Woji</td>\n",
       "      <td>Chinedu</td>\n",
       "      <td>Apple</td>\n",
       "      <td>2</td>\n",
       "      <td>125.00</td>\n",
       "    </tr>\n",
       "    <tr>\n",
       "      <th>1</th>\n",
       "      <td>2015-06-17</td>\n",
       "      <td>Woji</td>\n",
       "      <td>Emeka</td>\n",
       "      <td>Apple</td>\n",
       "      <td>5</td>\n",
       "      <td>125.00</td>\n",
       "    </tr>\n",
       "    <tr>\n",
       "      <th>2</th>\n",
       "      <td>2015-09-10</td>\n",
       "      <td>Woji</td>\n",
       "      <td>Ibrahim</td>\n",
       "      <td>Lenovo</td>\n",
       "      <td>7</td>\n",
       "      <td>1.29</td>\n",
       "    </tr>\n",
       "    <tr>\n",
       "      <th>3</th>\n",
       "      <td>2015-11-17</td>\n",
       "      <td>Woji</td>\n",
       "      <td>Tolu</td>\n",
       "      <td>HP</td>\n",
       "      <td>11</td>\n",
       "      <td>4.99</td>\n",
       "    </tr>\n",
       "    <tr>\n",
       "      <th>4</th>\n",
       "      <td>2015-10-31</td>\n",
       "      <td>Woji</td>\n",
       "      <td>Tonye</td>\n",
       "      <td>Lenovo</td>\n",
       "      <td>14</td>\n",
       "      <td>1.29</td>\n",
       "    </tr>\n",
       "    <tr>\n",
       "      <th>5</th>\n",
       "      <td>2014-02-26</td>\n",
       "      <td>Woji</td>\n",
       "      <td>Ibrahim</td>\n",
       "      <td>Compaq</td>\n",
       "      <td>27</td>\n",
       "      <td>19.99</td>\n",
       "    </tr>\n",
       "    <tr>\n",
       "      <th>6</th>\n",
       "      <td>2014-10-05</td>\n",
       "      <td>Woji</td>\n",
       "      <td>George</td>\n",
       "      <td>HP</td>\n",
       "      <td>28</td>\n",
       "      <td>8.99</td>\n",
       "    </tr>\n",
       "    <tr>\n",
       "      <th>7</th>\n",
       "      <td>2015-12-21</td>\n",
       "      <td>Woji</td>\n",
       "      <td>Tonye</td>\n",
       "      <td>HP</td>\n",
       "      <td>28</td>\n",
       "      <td>4.99</td>\n",
       "    </tr>\n",
       "    <tr>\n",
       "      <th>8</th>\n",
       "      <td>2014-02-09</td>\n",
       "      <td>Woji</td>\n",
       "      <td>Tolu</td>\n",
       "      <td>Lenovo</td>\n",
       "      <td>36</td>\n",
       "      <td>4.99</td>\n",
       "    </tr>\n",
       "    <tr>\n",
       "      <th>9</th>\n",
       "      <td>2015-08-07</td>\n",
       "      <td>Woji</td>\n",
       "      <td>Emeka</td>\n",
       "      <td>Dell</td>\n",
       "      <td>42</td>\n",
       "      <td>23.95</td>\n",
       "    </tr>\n",
       "    <tr>\n",
       "      <th>10</th>\n",
       "      <td>2015-01-15</td>\n",
       "      <td>Woji</td>\n",
       "      <td>Ibrahim</td>\n",
       "      <td>HP</td>\n",
       "      <td>46</td>\n",
       "      <td>8.99</td>\n",
       "    </tr>\n",
       "    <tr>\n",
       "      <th>11</th>\n",
       "      <td>2014-01-23</td>\n",
       "      <td>Woji</td>\n",
       "      <td>Emeka</td>\n",
       "      <td>HP</td>\n",
       "      <td>50</td>\n",
       "      <td>19.99</td>\n",
       "    </tr>\n",
       "    <tr>\n",
       "      <th>12</th>\n",
       "      <td>2015-03-24</td>\n",
       "      <td>Woji</td>\n",
       "      <td>Tolu</td>\n",
       "      <td>Dell</td>\n",
       "      <td>50</td>\n",
       "      <td>4.99</td>\n",
       "    </tr>\n",
       "    <tr>\n",
       "      <th>13</th>\n",
       "      <td>2015-05-14</td>\n",
       "      <td>Woji</td>\n",
       "      <td>Ibrahim</td>\n",
       "      <td>Lenovo</td>\n",
       "      <td>53</td>\n",
       "      <td>1.29</td>\n",
       "    </tr>\n",
       "    <tr>\n",
       "      <th>14</th>\n",
       "      <td>2015-07-21</td>\n",
       "      <td>Woji</td>\n",
       "      <td>George</td>\n",
       "      <td>Dell</td>\n",
       "      <td>55</td>\n",
       "      <td>12.49</td>\n",
       "    </tr>\n",
       "    <tr>\n",
       "      <th>15</th>\n",
       "      <td>2015-04-10</td>\n",
       "      <td>Woji</td>\n",
       "      <td>Tonye</td>\n",
       "      <td>Lenovo</td>\n",
       "      <td>66</td>\n",
       "      <td>1.99</td>\n",
       "    </tr>\n",
       "    <tr>\n",
       "      <th>16</th>\n",
       "      <td>2014-12-12</td>\n",
       "      <td>Woji</td>\n",
       "      <td>Chinedu</td>\n",
       "      <td>Lenovo</td>\n",
       "      <td>67</td>\n",
       "      <td>1.29</td>\n",
       "    </tr>\n",
       "    <tr>\n",
       "      <th>17</th>\n",
       "      <td>2014-04-18</td>\n",
       "      <td>Woji</td>\n",
       "      <td>Tonye</td>\n",
       "      <td>Lenovo</td>\n",
       "      <td>75</td>\n",
       "      <td>1.99</td>\n",
       "    </tr>\n",
       "    <tr>\n",
       "      <th>18</th>\n",
       "      <td>2015-05-31</td>\n",
       "      <td>Woji</td>\n",
       "      <td>Ibrahim</td>\n",
       "      <td>HP</td>\n",
       "      <td>80</td>\n",
       "      <td>8.99</td>\n",
       "    </tr>\n",
       "    <tr>\n",
       "      <th>19</th>\n",
       "      <td>2015-02-01</td>\n",
       "      <td>Woji</td>\n",
       "      <td>Chinedu</td>\n",
       "      <td>HP</td>\n",
       "      <td>87</td>\n",
       "      <td>15.00</td>\n",
       "    </tr>\n",
       "    <tr>\n",
       "      <th>20</th>\n",
       "      <td>2014-05-05</td>\n",
       "      <td>Woji</td>\n",
       "      <td>Tolu</td>\n",
       "      <td>Lenovo</td>\n",
       "      <td>90</td>\n",
       "      <td>4.99</td>\n",
       "    </tr>\n",
       "    <tr>\n",
       "      <th>21</th>\n",
       "      <td>2014-06-25</td>\n",
       "      <td>Woji</td>\n",
       "      <td>George</td>\n",
       "      <td>Lenovo</td>\n",
       "      <td>90</td>\n",
       "      <td>4.99</td>\n",
       "    </tr>\n",
       "    <tr>\n",
       "      <th>22</th>\n",
       "      <td>2015-12-04</td>\n",
       "      <td>Woji</td>\n",
       "      <td>Tolu</td>\n",
       "      <td>HP</td>\n",
       "      <td>94</td>\n",
       "      <td>19.99</td>\n",
       "    </tr>\n",
       "    <tr>\n",
       "      <th>23</th>\n",
       "      <td>2014-11-25</td>\n",
       "      <td>Woji</td>\n",
       "      <td>Emeka</td>\n",
       "      <td>Dell</td>\n",
       "      <td>96</td>\n",
       "      <td>4.99</td>\n",
       "    </tr>\n",
       "    <tr>\n",
       "      <th>24</th>\n",
       "      <td>2015-02-18</td>\n",
       "      <td>GRA</td>\n",
       "      <td>Blessing</td>\n",
       "      <td>HP</td>\n",
       "      <td>4</td>\n",
       "      <td>4.99</td>\n",
       "    </tr>\n",
       "    <tr>\n",
       "      <th>25</th>\n",
       "      <td>2014-11-08</td>\n",
       "      <td>GRA</td>\n",
       "      <td>Chioma</td>\n",
       "      <td>Compaq</td>\n",
       "      <td>15</td>\n",
       "      <td>19.99</td>\n",
       "    </tr>\n",
       "    <tr>\n",
       "      <th>26</th>\n",
       "      <td>2014-09-18</td>\n",
       "      <td>GRA</td>\n",
       "      <td>Blessing</td>\n",
       "      <td>Dell</td>\n",
       "      <td>16</td>\n",
       "      <td>15.99</td>\n",
       "    </tr>\n",
       "    <tr>\n",
       "      <th>27</th>\n",
       "      <td>2014-07-12</td>\n",
       "      <td>GRA</td>\n",
       "      <td>Torbari</td>\n",
       "      <td>HP</td>\n",
       "      <td>29</td>\n",
       "      <td>1.99</td>\n",
       "    </tr>\n",
       "    <tr>\n",
       "      <th>28</th>\n",
       "      <td>2014-08-15</td>\n",
       "      <td>GRA</td>\n",
       "      <td>Blessing</td>\n",
       "      <td>Lenovo</td>\n",
       "      <td>35</td>\n",
       "      <td>4.99</td>\n",
       "    </tr>\n",
       "    <tr>\n",
       "      <th>29</th>\n",
       "      <td>2014-04-01</td>\n",
       "      <td>GRA</td>\n",
       "      <td>Blessing</td>\n",
       "      <td>HP</td>\n",
       "      <td>60</td>\n",
       "      <td>4.99</td>\n",
       "    </tr>\n",
       "    <tr>\n",
       "      <th>30</th>\n",
       "      <td>2014-06-08</td>\n",
       "      <td>GRA</td>\n",
       "      <td>Blessing</td>\n",
       "      <td>HP</td>\n",
       "      <td>60</td>\n",
       "      <td>8.99</td>\n",
       "    </tr>\n",
       "    <tr>\n",
       "      <th>31</th>\n",
       "      <td>2015-07-04</td>\n",
       "      <td>GRA</td>\n",
       "      <td>Blessing</td>\n",
       "      <td>Dell</td>\n",
       "      <td>62</td>\n",
       "      <td>4.99</td>\n",
       "    </tr>\n",
       "    <tr>\n",
       "      <th>32</th>\n",
       "      <td>2014-10-22</td>\n",
       "      <td>GRA</td>\n",
       "      <td>Blessing</td>\n",
       "      <td>Compaq</td>\n",
       "      <td>64</td>\n",
       "      <td>8.99</td>\n",
       "    </tr>\n",
       "    <tr>\n",
       "      <th>33</th>\n",
       "      <td>2014-12-29</td>\n",
       "      <td>GRA</td>\n",
       "      <td>Chioma</td>\n",
       "      <td>Dell</td>\n",
       "      <td>74</td>\n",
       "      <td>15.99</td>\n",
       "    </tr>\n",
       "    <tr>\n",
       "      <th>34</th>\n",
       "      <td>2014-07-29</td>\n",
       "      <td>GRA</td>\n",
       "      <td>Chioma</td>\n",
       "      <td>HP</td>\n",
       "      <td>81</td>\n",
       "      <td>19.99</td>\n",
       "    </tr>\n",
       "    <tr>\n",
       "      <th>35</th>\n",
       "      <td>2014-01-06</td>\n",
       "      <td>GRA</td>\n",
       "      <td>Blessing</td>\n",
       "      <td>Lenovo</td>\n",
       "      <td>95</td>\n",
       "      <td>1.99</td>\n",
       "    </tr>\n",
       "    <tr>\n",
       "      <th>36</th>\n",
       "      <td>2015-04-27</td>\n",
       "      <td>GRA</td>\n",
       "      <td>Torbari</td>\n",
       "      <td>Compaq</td>\n",
       "      <td>96</td>\n",
       "      <td>4.99</td>\n",
       "    </tr>\n",
       "    <tr>\n",
       "      <th>37</th>\n",
       "      <td>2015-08-24</td>\n",
       "      <td>Town</td>\n",
       "      <td>Uche</td>\n",
       "      <td>Apple</td>\n",
       "      <td>3</td>\n",
       "      <td>275.00</td>\n",
       "    </tr>\n",
       "    <tr>\n",
       "      <th>38</th>\n",
       "      <td>2015-03-07</td>\n",
       "      <td>Town</td>\n",
       "      <td>Uche</td>\n",
       "      <td>HP</td>\n",
       "      <td>7</td>\n",
       "      <td>19.99</td>\n",
       "    </tr>\n",
       "    <tr>\n",
       "      <th>39</th>\n",
       "      <td>2014-05-22</td>\n",
       "      <td>Town</td>\n",
       "      <td>Tunde</td>\n",
       "      <td>Lenovo</td>\n",
       "      <td>32</td>\n",
       "      <td>1.99</td>\n",
       "    </tr>\n",
       "    <tr>\n",
       "      <th>40</th>\n",
       "      <td>2014-03-15</td>\n",
       "      <td>Town</td>\n",
       "      <td>Uche</td>\n",
       "      <td>Lenovo</td>\n",
       "      <td>56</td>\n",
       "      <td>2.99</td>\n",
       "    </tr>\n",
       "    <tr>\n",
       "      <th>41</th>\n",
       "      <td>2015-10-14</td>\n",
       "      <td>Town</td>\n",
       "      <td>Tunde</td>\n",
       "      <td>HP</td>\n",
       "      <td>57</td>\n",
       "      <td>19.99</td>\n",
       "    </tr>\n",
       "    <tr>\n",
       "      <th>42</th>\n",
       "      <td>2015-09-27</td>\n",
       "      <td>Town</td>\n",
       "      <td>Uche</td>\n",
       "      <td>Compaq</td>\n",
       "      <td>76</td>\n",
       "      <td>1.99</td>\n",
       "    </tr>\n",
       "  </tbody>\n",
       "</table>\n",
       "</div>"
      ],
      "text/plain": [
       "         Date Branch Sales Agent Products  Units   Price\n",
       "0  2014-09-01   Woji     Chinedu    Apple      2  125.00\n",
       "1  2015-06-17   Woji       Emeka    Apple      5  125.00\n",
       "2  2015-09-10   Woji     Ibrahim   Lenovo      7    1.29\n",
       "3  2015-11-17   Woji        Tolu       HP     11    4.99\n",
       "4  2015-10-31   Woji       Tonye   Lenovo     14    1.29\n",
       "5  2014-02-26   Woji     Ibrahim   Compaq     27   19.99\n",
       "6  2014-10-05   Woji      George       HP     28    8.99\n",
       "7  2015-12-21   Woji       Tonye       HP     28    4.99\n",
       "8  2014-02-09   Woji        Tolu   Lenovo     36    4.99\n",
       "9  2015-08-07   Woji       Emeka     Dell     42   23.95\n",
       "10 2015-01-15   Woji     Ibrahim       HP     46    8.99\n",
       "11 2014-01-23   Woji       Emeka       HP     50   19.99\n",
       "12 2015-03-24   Woji        Tolu     Dell     50    4.99\n",
       "13 2015-05-14   Woji     Ibrahim   Lenovo     53    1.29\n",
       "14 2015-07-21   Woji      George     Dell     55   12.49\n",
       "15 2015-04-10   Woji       Tonye   Lenovo     66    1.99\n",
       "16 2014-12-12   Woji     Chinedu   Lenovo     67    1.29\n",
       "17 2014-04-18   Woji       Tonye   Lenovo     75    1.99\n",
       "18 2015-05-31   Woji     Ibrahim       HP     80    8.99\n",
       "19 2015-02-01   Woji     Chinedu       HP     87   15.00\n",
       "20 2014-05-05   Woji        Tolu   Lenovo     90    4.99\n",
       "21 2014-06-25   Woji      George   Lenovo     90    4.99\n",
       "22 2015-12-04   Woji        Tolu       HP     94   19.99\n",
       "23 2014-11-25   Woji       Emeka     Dell     96    4.99\n",
       "24 2015-02-18    GRA    Blessing       HP      4    4.99\n",
       "25 2014-11-08    GRA      Chioma   Compaq     15   19.99\n",
       "26 2014-09-18    GRA    Blessing     Dell     16   15.99\n",
       "27 2014-07-12    GRA     Torbari       HP     29    1.99\n",
       "28 2014-08-15    GRA    Blessing   Lenovo     35    4.99\n",
       "29 2014-04-01    GRA    Blessing       HP     60    4.99\n",
       "30 2014-06-08    GRA    Blessing       HP     60    8.99\n",
       "31 2015-07-04    GRA    Blessing     Dell     62    4.99\n",
       "32 2014-10-22    GRA    Blessing   Compaq     64    8.99\n",
       "33 2014-12-29    GRA      Chioma     Dell     74   15.99\n",
       "34 2014-07-29    GRA      Chioma       HP     81   19.99\n",
       "35 2014-01-06    GRA    Blessing   Lenovo     95    1.99\n",
       "36 2015-04-27    GRA     Torbari   Compaq     96    4.99\n",
       "37 2015-08-24   Town        Uche    Apple      3  275.00\n",
       "38 2015-03-07   Town        Uche       HP      7   19.99\n",
       "39 2014-05-22   Town       Tunde   Lenovo     32    1.99\n",
       "40 2014-03-15   Town        Uche   Lenovo     56    2.99\n",
       "41 2015-10-14   Town       Tunde       HP     57   19.99\n",
       "42 2015-09-27   Town        Uche   Compaq     76    1.99"
      ]
     },
     "execution_count": 4,
     "metadata": {},
     "output_type": "execute_result"
    }
   ],
   "source": [
    "# Checking the first ten rows\n",
    "\n",
    "df.head(10)\n",
    "df"
   ]
  },
  {
   "cell_type": "code",
   "execution_count": null,
   "id": "faed54cb",
   "metadata": {},
   "outputs": [
    {
     "data": {
      "text/html": [
       "<div>\n",
       "<style scoped>\n",
       "    .dataframe tbody tr th:only-of-type {\n",
       "        vertical-align: middle;\n",
       "    }\n",
       "\n",
       "    .dataframe tbody tr th {\n",
       "        vertical-align: top;\n",
       "    }\n",
       "\n",
       "    .dataframe thead th {\n",
       "        text-align: right;\n",
       "    }\n",
       "</style>\n",
       "<table border=\"1\" class=\"dataframe\">\n",
       "  <thead>\n",
       "    <tr style=\"text-align: right;\">\n",
       "      <th></th>\n",
       "      <th>Date</th>\n",
       "      <th>Units</th>\n",
       "      <th>Price</th>\n",
       "    </tr>\n",
       "  </thead>\n",
       "  <tbody>\n",
       "    <tr>\n",
       "      <th>count</th>\n",
       "      <td>43</td>\n",
       "      <td>43.000000</td>\n",
       "      <td>43.000000</td>\n",
       "    </tr>\n",
       "    <tr>\n",
       "      <th>mean</th>\n",
       "      <td>2014-12-29 00:00:00</td>\n",
       "      <td>49.325581</td>\n",
       "      <td>20.308605</td>\n",
       "    </tr>\n",
       "    <tr>\n",
       "      <th>min</th>\n",
       "      <td>2014-01-06 00:00:00</td>\n",
       "      <td>2.000000</td>\n",
       "      <td>1.290000</td>\n",
       "    </tr>\n",
       "    <tr>\n",
       "      <th>25%</th>\n",
       "      <td>2014-07-03 12:00:00</td>\n",
       "      <td>27.500000</td>\n",
       "      <td>3.990000</td>\n",
       "    </tr>\n",
       "    <tr>\n",
       "      <th>50%</th>\n",
       "      <td>2014-12-29 00:00:00</td>\n",
       "      <td>53.000000</td>\n",
       "      <td>4.990000</td>\n",
       "    </tr>\n",
       "    <tr>\n",
       "      <th>75%</th>\n",
       "      <td>2015-06-25 12:00:00</td>\n",
       "      <td>74.500000</td>\n",
       "      <td>17.990000</td>\n",
       "    </tr>\n",
       "    <tr>\n",
       "      <th>max</th>\n",
       "      <td>2015-12-21 00:00:00</td>\n",
       "      <td>96.000000</td>\n",
       "      <td>275.000000</td>\n",
       "    </tr>\n",
       "    <tr>\n",
       "      <th>std</th>\n",
       "      <td>NaN</td>\n",
       "      <td>30.078248</td>\n",
       "      <td>47.345118</td>\n",
       "    </tr>\n",
       "  </tbody>\n",
       "</table>\n",
       "</div>"
      ],
      "text/plain": [
       "                      Date      Units       Price\n",
       "count                   43  43.000000   43.000000\n",
       "mean   2014-12-29 00:00:00  49.325581   20.308605\n",
       "min    2014-01-06 00:00:00   2.000000    1.290000\n",
       "25%    2014-07-03 12:00:00  27.500000    3.990000\n",
       "50%    2014-12-29 00:00:00  53.000000    4.990000\n",
       "75%    2015-06-25 12:00:00  74.500000   17.990000\n",
       "max    2015-12-21 00:00:00  96.000000  275.000000\n",
       "std                    NaN  30.078248   47.345118"
      ]
     },
     "execution_count": 5,
     "metadata": {},
     "output_type": "execute_result"
    }
   ],
   "source": [
    "# checking the statistical summary\n",
    "df.describe()"
   ]
  },
  {
   "cell_type": "code",
   "execution_count": null,
   "id": "d4607f02",
   "metadata": {},
   "outputs": [
    {
     "data": {
      "text/plain": [
       "(43, 6)"
      ]
     },
     "execution_count": 6,
     "metadata": {},
     "output_type": "execute_result"
    }
   ],
   "source": [
    "# checking the shape of the file\n",
    "df.shape"
   ]
  },
  {
   "cell_type": "code",
   "execution_count": null,
   "id": "2b93405e",
   "metadata": {},
   "outputs": [
    {
     "data": {
      "text/plain": [
       "Index(['Date', 'Branch', 'Sales Agent', 'Products', 'Units', 'Price'], dtype='object')"
      ]
     },
     "execution_count": 7,
     "metadata": {},
     "output_type": "execute_result"
    }
   ],
   "source": [
    "# Check for the column names\n",
    "df.columns"
   ]
  },
  {
   "cell_type": "code",
   "execution_count": null,
   "id": "b9dfaa90",
   "metadata": {},
   "outputs": [
    {
     "data": {
      "text/plain": [
       "Date           datetime64[ns]\n",
       "Branch                 object\n",
       "Sales Agent            object\n",
       "Products               object\n",
       "Units                   int64\n",
       "Price                 float64\n",
       "dtype: object"
      ]
     },
     "execution_count": 8,
     "metadata": {},
     "output_type": "execute_result"
    }
   ],
   "source": [
    "# checking for the data type\n",
    "df.dtypes"
   ]
  },
  {
   "cell_type": "code",
   "execution_count": null,
   "id": "2e66d2b8",
   "metadata": {},
   "outputs": [
    {
     "data": {
      "text/plain": [
       "Date           0\n",
       "Branch         0\n",
       "Sales Agent    0\n",
       "Products       0\n",
       "Units          0\n",
       "Price          0\n",
       "dtype: int64"
      ]
     },
     "execution_count": 9,
     "metadata": {},
     "output_type": "execute_result"
    }
   ],
   "source": [
    "# checking for missing values\n",
    "df.isnull().sum()"
   ]
  },
  {
   "cell_type": "markdown",
   "id": "bdbc734c",
   "metadata": {},
   "source": [
    "Feature Engineering"
   ]
  },
  {
   "cell_type": "code",
   "execution_count": null,
   "id": "cf9fb9a4",
   "metadata": {},
   "outputs": [],
   "source": [
    "# Create a new column for the monthly revenue\n",
    "\n",
    "df['Revenue'] = df['Units'] * df['Price']\n",
    "\n",
    "# To round the monthly revenue to 2 decimal places\n",
    "# df['Revenue(NGN)'] = round(df['Revenue'], 2)"
   ]
  },
  {
   "cell_type": "code",
   "execution_count": null,
   "id": "6a16e7ac",
   "metadata": {},
   "outputs": [
    {
     "data": {
      "text/plain": [
       "<Axes: xlabel='Data Types', ylabel='Count'>"
      ]
     },
     "execution_count": 43,
     "metadata": {},
     "output_type": "execute_result"
    },
    {
     "data": {
      "image/png": "[encoded data removed]",
      "text/plain": [
       "<Figure size 640x480 with 1 Axes>"
      ]
     },
     "metadata": {},
     "output_type": "display_data"
    }
   ],
   "source": [
    "# Visualizing the ratio of the data types\n",
    "df.dtypes.value_counts().plot(kind='bar', xlabel= 'Data Types', ylabel='Count', color='purple')"
   ]
  },
  {
   "cell_type": "code",
   "execution_count": null,
   "id": "2c647f4b",
   "metadata": {},
   "outputs": [],
   "source": [
    "# Extract the date, month and year from the datetime\n",
    "\n",
    "# Extracting the year\n",
    "df['Year'] = df['Date'].dt.year\n",
    "df['Month'] = df['Date'].dt.month_name()\n",
    "df['Day'] = df['Date'].dt.day_name()\n",
    "\n"
   ]
  },
  {
   "cell_type": "code",
   "execution_count": null,
   "id": "d71ebb65",
   "metadata": {},
   "outputs": [
    {
     "data": {
      "text/html": [
       "<div>\n",
       "<style scoped>\n",
       "    .dataframe tbody tr th:only-of-type {\n",
       "        vertical-align: middle;\n",
       "    }\n",
       "\n",
       "    .dataframe tbody tr th {\n",
       "        vertical-align: top;\n",
       "    }\n",
       "\n",
       "    .dataframe thead th {\n",
       "        text-align: right;\n",
       "    }\n",
       "</style>\n",
       "<table border=\"1\" class=\"dataframe\">\n",
       "  <thead>\n",
       "    <tr style=\"text-align: right;\">\n",
       "      <th></th>\n",
       "      <th>Date</th>\n",
       "      <th>Branch</th>\n",
       "      <th>Sales Agent</th>\n",
       "      <th>Products</th>\n",
       "      <th>Units</th>\n",
       "      <th>Price</th>\n",
       "      <th>Revenue</th>\n",
       "      <th>Year</th>\n",
       "      <th>Month</th>\n",
       "      <th>Day</th>\n",
       "    </tr>\n",
       "  </thead>\n",
       "  <tbody>\n",
       "    <tr>\n",
       "      <th>0</th>\n",
       "      <td>2014-09-01</td>\n",
       "      <td>Woji</td>\n",
       "      <td>Chinedu</td>\n",
       "      <td>Apple</td>\n",
       "      <td>2</td>\n",
       "      <td>125.00</td>\n",
       "      <td>250.00</td>\n",
       "      <td>2014</td>\n",
       "      <td>September</td>\n",
       "      <td>Monday</td>\n",
       "    </tr>\n",
       "    <tr>\n",
       "      <th>1</th>\n",
       "      <td>2015-06-17</td>\n",
       "      <td>Woji</td>\n",
       "      <td>Emeka</td>\n",
       "      <td>Apple</td>\n",
       "      <td>5</td>\n",
       "      <td>125.00</td>\n",
       "      <td>625.00</td>\n",
       "      <td>2015</td>\n",
       "      <td>June</td>\n",
       "      <td>Wednesday</td>\n",
       "    </tr>\n",
       "    <tr>\n",
       "      <th>2</th>\n",
       "      <td>2015-09-10</td>\n",
       "      <td>Woji</td>\n",
       "      <td>Ibrahim</td>\n",
       "      <td>Lenovo</td>\n",
       "      <td>7</td>\n",
       "      <td>1.29</td>\n",
       "      <td>9.03</td>\n",
       "      <td>2015</td>\n",
       "      <td>September</td>\n",
       "      <td>Thursday</td>\n",
       "    </tr>\n",
       "    <tr>\n",
       "      <th>3</th>\n",
       "      <td>2015-11-17</td>\n",
       "      <td>Woji</td>\n",
       "      <td>Tolu</td>\n",
       "      <td>HP</td>\n",
       "      <td>11</td>\n",
       "      <td>4.99</td>\n",
       "      <td>54.89</td>\n",
       "      <td>2015</td>\n",
       "      <td>November</td>\n",
       "      <td>Tuesday</td>\n",
       "    </tr>\n",
       "    <tr>\n",
       "      <th>4</th>\n",
       "      <td>2015-10-31</td>\n",
       "      <td>Woji</td>\n",
       "      <td>Tonye</td>\n",
       "      <td>Lenovo</td>\n",
       "      <td>14</td>\n",
       "      <td>1.29</td>\n",
       "      <td>18.06</td>\n",
       "      <td>2015</td>\n",
       "      <td>October</td>\n",
       "      <td>Saturday</td>\n",
       "    </tr>\n",
       "  </tbody>\n",
       "</table>\n",
       "</div>"
      ],
      "text/plain": [
       "        Date Branch Sales Agent Products  Units   Price  Revenue  Year  \\\n",
       "0 2014-09-01   Woji     Chinedu    Apple      2  125.00   250.00  2014   \n",
       "1 2015-06-17   Woji       Emeka    Apple      5  125.00   625.00  2015   \n",
       "2 2015-09-10   Woji     Ibrahim   Lenovo      7    1.29     9.03  2015   \n",
       "3 2015-11-17   Woji        Tolu       HP     11    4.99    54.89  2015   \n",
       "4 2015-10-31   Woji       Tonye   Lenovo     14    1.29    18.06  2015   \n",
       "\n",
       "       Month        Day  \n",
       "0  September     Monday  \n",
       "1       June  Wednesday  \n",
       "2  September   Thursday  \n",
       "3   November    Tuesday  \n",
       "4    October   Saturday  "
      ]
     },
     "execution_count": 13,
     "metadata": {},
     "output_type": "execute_result"
    }
   ],
   "source": [
    "df.head()"
   ]
  },
  {
   "cell_type": "markdown",
   "id": "aa5742c5",
   "metadata": {},
   "source": [
    "#2.0 Steps to Analysis\n",
    "**Note:** This is after you have followed the ETL(Extract Transform Load) frame work, this is you importing your dataset, cleaning and preparing it for analysis\n",
    "\n",
    "### A. Work on the KPI's (Key performance index of this data)\n",
    "1. Total units sold\n",
    "2. Total Revenue\n",
    "3. Average Revenue per unit\n",
    "4. Numbers of products\n",
    "5. Numbers of Sales Agents\n",
    "\n",
    "### B. Work on the insights by creating models(Note that creating models in data analysis is different from building models in machine learning)\n",
    "1. Total monthly revenue by Year\n",
    "2. Total revenue by branch\n",
    "3. Total revenue by products\n",
    "4. Total revenue by sales agent\n",
    "5. Total revenue by week\n",
    "6. Total revenue by month\n",
    "7. Trends of sales\n",
    "\n",
    "### C. Build your dash board\n",
    "1. Add the title of your analysis.\n",
    "2. Add the business/company\n",
    "3. Add your KPI's\n",
    "4. Add Charts with appropriate labelling\n",
    "5. Add your slicer if you are working with streamlit or excel or PowerBi or Tableau to make your dashboard interactive(if not, exclude it)\n",
    "\n",
    "### C. Report your insights\n",
    "1. Start with the an executive summary briefly explaining what you and briefly introducing the KPI's.\n",
    "2. Explain your insights in a narative and relatable way using your visuals.\n",
    "\n",
    "### D. Make recommendation\n",
    "1. What should the business owner to increase monthly sales\n",
    "2. Which of the brannches should be given more attention\n",
    "3. Which products should be removed from the stock, which products should be purchased more\n",
    "4. Which of the sales agents should be given more incentives/promoted to sales managers position\n",
    "\n"
   ]
  },
  {
   "cell_type": "markdown",
   "id": "2e23bb0b",
   "metadata": {},
   "source": [
    "### A. Working on the KPIs"
   ]
  },
  {
   "cell_type": "markdown",
   "id": "6f76a5ef",
   "metadata": {},
   "source": [
    "Total Units Sold"
   ]
  },
  {
   "cell_type": "code",
   "execution_count": null,
   "id": "ec326d68",
   "metadata": {},
   "outputs": [
    {
     "name": "stdout",
     "output_type": "stream",
     "text": [
      "The total number of units sold is 2121 units\n"
     ]
    }
   ],
   "source": [
    "# Get the total units sold\n",
    "\n",
    "total_units_sold = df['Units'].sum()\n",
    "print('The total number of units sold is', total_units_sold, 'units')"
   ]
  },
  {
   "cell_type": "markdown",
   "id": "16e4b48b",
   "metadata": {},
   "source": [
    "Total Monthly Revenue per year"
   ]
  },
  {
   "cell_type": "code",
   "execution_count": null,
   "id": "81745d71",
   "metadata": {},
   "outputs": [
    {
     "name": "stdout",
     "output_type": "stream",
     "text": [
      "The total Revenue is NGN 19627.88 Kobo\n"
     ]
    }
   ],
   "source": [
    "# Get the total revenue and round it to 2 decimal places\n",
    "Total_Revenue = round(df['Revenue'].sum(), 2)\n",
    "print('The total Revenue is NGN', Total_Revenue, 'Kobo')"
   ]
  },
  {
   "cell_type": "markdown",
   "id": "3688c9ed",
   "metadata": {},
   "source": [
    "Average Revenue per Units"
   ]
  },
  {
   "cell_type": "code",
   "execution_count": null,
   "id": "15140f5d",
   "metadata": {},
   "outputs": [
    {
     "name": "stdout",
     "output_type": "stream",
     "text": [
      "The average revenue per unit is NGN 9.25 Kobo\n"
     ]
    }
   ],
   "source": [
    "# Getting the average revenue per units and rounding it to 2 decimal places\n",
    "average_revenue_per_unit = round(Total_Revenue / total_units_sold, 2)\n",
    "print('The average revenue per unit is NGN', average_revenue_per_unit, 'Kobo')"
   ]
  },
  {
   "cell_type": "markdown",
   "id": "b21e1973",
   "metadata": {},
   "source": [
    "Number of products"
   ]
  },
  {
   "cell_type": "code",
   "execution_count": null,
   "id": "e5eaeab1",
   "metadata": {},
   "outputs": [
    {
     "name": "stdout",
     "output_type": "stream",
     "text": [
      "In total, there are 5 products\n"
     ]
    }
   ],
   "source": [
    "# Getting the number of products using the nunique() function\n",
    "number_of_products = df['Products'].nunique()\n",
    "print('In total, there are', number_of_products, 'products')\n"
   ]
  },
  {
   "cell_type": "markdown",
   "id": "a21e4ad7",
   "metadata": {},
   "source": [
    "Number of Sales Agent\n"
   ]
  },
  {
   "cell_type": "code",
   "execution_count": null,
   "id": "630c6dfd",
   "metadata": {},
   "outputs": [
    {
     "name": "stdout",
     "output_type": "stream",
     "text": [
      "There are currently  11 agents working here\n"
     ]
    }
   ],
   "source": [
    "# Getting the total number of Sales Agent\n",
    "number_of_sales_agent = df['Sales Agent'].nunique()\n",
    "print('There are currently ',number_of_sales_agent, 'agents working here')"
   ]
  },
  {
   "cell_type": "markdown",
   "id": "00f05f86",
   "metadata": {},
   "source": [
    "### B. Working on the insights by creating models and plotting their charts"
   ]
  },
  {
   "cell_type": "markdown",
   "id": "984a4326",
   "metadata": {},
   "source": [
    "**Total Monthly Revenue by Year**"
   ]
  },
  {
   "cell_type": "code",
   "execution_count": null,
   "id": "c0329f77",
   "metadata": {},
   "outputs": [],
   "source": [
    "# Set index using the date column\n",
    "df.set_index('Date', inplace=True)"
   ]
  },
  {
   "cell_type": "markdown",
   "id": "e142521e",
   "metadata": {},
   "source": [
    "Generate the total monthly revenue for year 2014"
   ]
  },
  {
   "cell_type": "code",
   "execution_count": null,
   "id": "84f36919",
   "metadata": {},
   "outputs": [
    {
     "data": {
      "text/plain": [
       "array([2014, 2015], dtype=int32)"
      ]
     },
     "execution_count": 20,
     "metadata": {},
     "output_type": "execute_result"
    }
   ],
   "source": [
    "# To do this, I will filter, group and visualize\n",
    "\n",
    "# First, generate the unique years present in the data\n",
    "\n",
    "df.Year.unique()"
   ]
  },
  {
   "cell_type": "code",
   "execution_count": null,
   "id": "97888c26",
   "metadata": {},
   "outputs": [
    {
     "data": {
      "text/html": [
       "<div>\n",
       "<style scoped>\n",
       "    .dataframe tbody tr th:only-of-type {\n",
       "        vertical-align: middle;\n",
       "    }\n",
       "\n",
       "    .dataframe tbody tr th {\n",
       "        vertical-align: top;\n",
       "    }\n",
       "\n",
       "    .dataframe thead th {\n",
       "        text-align: right;\n",
       "    }\n",
       "</style>\n",
       "<table border=\"1\" class=\"dataframe\">\n",
       "  <thead>\n",
       "    <tr style=\"text-align: right;\">\n",
       "      <th></th>\n",
       "      <th>Branch</th>\n",
       "      <th>Sales Agent</th>\n",
       "      <th>Products</th>\n",
       "      <th>Units</th>\n",
       "      <th>Price</th>\n",
       "      <th>Revenue</th>\n",
       "      <th>Year</th>\n",
       "      <th>Month</th>\n",
       "      <th>Day</th>\n",
       "    </tr>\n",
       "    <tr>\n",
       "      <th>Date</th>\n",
       "      <th></th>\n",
       "      <th></th>\n",
       "      <th></th>\n",
       "      <th></th>\n",
       "      <th></th>\n",
       "      <th></th>\n",
       "      <th></th>\n",
       "      <th></th>\n",
       "      <th></th>\n",
       "    </tr>\n",
       "  </thead>\n",
       "  <tbody>\n",
       "    <tr>\n",
       "      <th>2014-09-01</th>\n",
       "      <td>Woji</td>\n",
       "      <td>Chinedu</td>\n",
       "      <td>Apple</td>\n",
       "      <td>2</td>\n",
       "      <td>125.00</td>\n",
       "      <td>250.00</td>\n",
       "      <td>2014</td>\n",
       "      <td>September</td>\n",
       "      <td>Monday</td>\n",
       "    </tr>\n",
       "    <tr>\n",
       "      <th>2014-02-26</th>\n",
       "      <td>Woji</td>\n",
       "      <td>Ibrahim</td>\n",
       "      <td>Compaq</td>\n",
       "      <td>27</td>\n",
       "      <td>19.99</td>\n",
       "      <td>539.73</td>\n",
       "      <td>2014</td>\n",
       "      <td>February</td>\n",
       "      <td>Wednesday</td>\n",
       "    </tr>\n",
       "    <tr>\n",
       "      <th>2014-10-05</th>\n",
       "      <td>Woji</td>\n",
       "      <td>George</td>\n",
       "      <td>HP</td>\n",
       "      <td>28</td>\n",
       "      <td>8.99</td>\n",
       "      <td>251.72</td>\n",
       "      <td>2014</td>\n",
       "      <td>October</td>\n",
       "      <td>Sunday</td>\n",
       "    </tr>\n",
       "  </tbody>\n",
       "</table>\n",
       "</div>"
      ],
      "text/plain": [
       "           Branch Sales Agent Products  Units   Price  Revenue  Year  \\\n",
       "Date                                                                   \n",
       "2014-09-01   Woji     Chinedu    Apple      2  125.00   250.00  2014   \n",
       "2014-02-26   Woji     Ibrahim   Compaq     27   19.99   539.73  2014   \n",
       "2014-10-05   Woji      George       HP     28    8.99   251.72  2014   \n",
       "\n",
       "                Month        Day  \n",
       "Date                              \n",
       "2014-09-01  September     Monday  \n",
       "2014-02-26   February  Wednesday  \n",
       "2014-10-05    October     Sunday  "
      ]
     },
     "execution_count": 21,
     "metadata": {},
     "output_type": "execute_result"
    }
   ],
   "source": [
    "# Step 1: Filter the data to get the revenue for year 2014\n",
    "\n",
    "df_2014 = df[df['Year'] == 2014]\n",
    "df_2014.head(3)"
   ]
  },
  {
   "cell_type": "code",
   "execution_count": null,
   "id": "04d19975",
   "metadata": {},
   "outputs": [
    {
     "name": "stdout",
     "output_type": "stream",
     "text": [
      "The total monthly revenue for year 2014 according to each month is:\n",
      " Month\n",
      "April         448.65\n",
      "August        174.65\n",
      "December     1269.69\n",
      "February      719.37\n",
      "January      1188.55\n",
      "July         1676.90\n",
      "June          988.50\n",
      "March         167.44\n",
      "May           512.78\n",
      "November      778.89\n",
      "October       827.08\n",
      "September     505.84\n",
      "Name: Revenue, dtype: float64\n"
     ]
    }
   ],
   "source": [
    "# Step 2: Use the .groupby() and .sort_index() to arrange the output of the result by index\n",
    "total_monthly_revenue = df_2014.groupby('Month')['Revenue'].sum().sort_index()\n",
    "print('The total monthly revenue for year 2014 according to each month is:\\n', total_monthly_revenue)"
   ]
  },
  {
   "cell_type": "code",
   "execution_count": null,
   "id": "098a7416",
   "metadata": {},
   "outputs": [
    {
     "name": "stdout",
     "output_type": "stream",
     "text": [
      "The total monthly revenue for year 2014 according to price is:\n",
      " Month\n",
      "March         167.44\n",
      "August        174.65\n",
      "April         448.65\n",
      "September     505.84\n",
      "May           512.78\n",
      "February      719.37\n",
      "November      778.89\n",
      "October       827.08\n",
      "June          988.50\n",
      "January      1188.55\n",
      "December     1269.69\n",
      "July         1676.90\n",
      "Name: Revenue, dtype: float64\n"
     ]
    }
   ],
   "source": [
    "# Using the .sort_values to arrange the output according to the price\n",
    "\n",
    "total_monthly_revenue2014 = df_2014.groupby('Month')['Revenue'].sum().sort_values()\n",
    "print('The total monthly revenue for year 2014 according to price is:\\n', total_monthly_revenue2014)"
   ]
  },
  {
   "cell_type": "code",
   "execution_count": null,
   "id": "a0f231df",
   "metadata": {},
   "outputs": [
    {
     "data": {
      "text/plain": [
       "<Axes: xlabel='Month', ylabel='Revenue'>"
      ]
     },
     "execution_count": 42,
     "metadata": {},
     "output_type": "execute_result"
    },
    {
     "data": {
      "image/png": "[encoded data removed]",
      "text/plain": [
       "<Figure size 640x480 with 1 Axes>"
      ]
     },
     "metadata": {},
     "output_type": "display_data"
    }
   ],
   "source": [
    "# Visualizing the monthly revenue using pandas\n",
    "total_monthly_revenue2014.plot(kind= 'bar', xlabel = 'Month', ylabel = 'Revenue', color='purple')\n"
   ]
  },
  {
   "cell_type": "code",
   "execution_count": null,
   "id": "ae6e23dc",
   "metadata": {},
   "outputs": [
    {
     "data": {
      "image/png": "[encoded data removed]",
      "text/plain": [
       "<Figure size 640x480 with 1 Axes>"
      ]
     },
     "metadata": {},
     "output_type": "display_data"
    }
   ],
   "source": [
    "# Using matplotlib to visualize\n",
    "plt.bar(total_monthly_revenue.index, total_monthly_revenue.values, color='purple')\n",
    "plt.xlabel('Month')\n",
    "plt.ylabel('Revenue')\n",
    "plt.title('Monthly Revenue in 2014')\n",
    "plt.xticks(rotation = 50)\n",
    "plt.show()"
   ]
  },
  {
   "cell_type": "code",
   "execution_count": null,
   "id": "84ed6282",
   "metadata": {},
   "outputs": [
    {
     "data": {
      "text/plain": [
       "<Axes: ylabel='Month'>"
      ]
     },
     "execution_count": 45,
     "metadata": {},
     "output_type": "execute_result"
    },
    {
     "data": {
      "image/png": "[encoded data removed]",
      "text/plain": [
       "<Figure size 640x480 with 1 Axes>"
      ]
     },
     "metadata": {},
     "output_type": "display_data"
    }
   ],
   "source": [
    "# Using seaborn to visualize\n",
    "sns.barplot(x =total_monthly_revenue.values, y = total_monthly_revenue.index, orient='h', color='purple')"
   ]
  },
  {
   "cell_type": "markdown",
   "id": "e96d3188",
   "metadata": {},
   "source": [
    "**Total Revenue by Branch**"
   ]
  },
  {
   "cell_type": "code",
   "execution_count": null,
   "id": "a38901b5",
   "metadata": {},
   "outputs": [
    {
     "data": {
      "text/plain": [
       "array(['Woji', 'GRA', 'Town'], dtype=object)"
      ]
     },
     "execution_count": 27,
     "metadata": {},
     "output_type": "execute_result"
    }
   ],
   "source": [
    "# First check the branches available\n",
    "df['Branch'].unique()"
   ]
  },
  {
   "cell_type": "code",
   "execution_count": null,
   "id": "d362541e",
   "metadata": {},
   "outputs": [],
   "source": [
    "# Sort the revenue by branch in descending order\n",
    "total_revenue_by_branch = df.groupby('Branch')['Revenue'].sum().sort_values(ascending=False)\n"
   ]
  },
  {
   "cell_type": "code",
   "execution_count": null,
   "id": "39e3d2d6",
   "metadata": {},
   "outputs": [
    {
     "data": {
      "image/png": "[encoded data removed]",
      "text/plain": [
       "<Figure size 640x480 with 1 Axes>"
      ]
     },
     "metadata": {},
     "output_type": "display_data"
    }
   ],
   "source": [
    "#plot the chart using matplotlib\n",
    "plt.pie(total_revenue_by_branch.values, labels=total_revenue_by_branch.index, autopct='%1.1f%%', colors=['purple', 'indigo', 'violet'])\n",
    "plt.xlabel('Branch')\n",
    "plt.ylabel('Revenue')\n",
    "plt.title('Total Revenue by Branch')\n",
    "plt.show()"
   ]
  },
  {
   "cell_type": "markdown",
   "id": "77ef37c9",
   "metadata": {},
   "source": [
    "**Total Revenue by Product**"
   ]
  },
  {
   "cell_type": "code",
   "execution_count": null,
   "id": "19545179",
   "metadata": {},
   "outputs": [
    {
     "data": {
      "text/plain": [
       "array(['Apple', 'Lenovo', 'HP', 'Compaq', 'Dell'], dtype=object)"
      ]
     },
     "execution_count": 30,
     "metadata": {},
     "output_type": "execute_result"
    }
   ],
   "source": [
    "# First check for the unique products present\n",
    "df['Products'].unique()"
   ]
  },
  {
   "cell_type": "code",
   "execution_count": null,
   "id": "c8c078b5",
   "metadata": {},
   "outputs": [
    {
     "name": "stdout",
     "output_type": "stream",
     "text": [
      "Products\n",
      "HP        9577.65\n",
      "Dell      4169.87\n",
      "Lenovo    2135.14\n",
      "Compaq    2045.22\n",
      "Apple     1700.00\n",
      "Name: Revenue, dtype: float64\n"
     ]
    }
   ],
   "source": [
    "# Get the total revenue by product\n",
    "total_revenue_by_product = df.groupby('Products')['Revenue'].sum().sort_values(ascending=False)\n",
    "print(total_revenue_by_product)"
   ]
  },
  {
   "cell_type": "code",
   "execution_count": null,
   "id": "d924f8c5",
   "metadata": {},
   "outputs": [
    {
     "data": {
      "text/plain": [
       "([<matplotlib.patches.Wedge at 0x29526b27750>,\n",
       "  <matplotlib.patches.Wedge at 0x29526b27b10>,\n",
       "  <matplotlib.patches.Wedge at 0x29526b27ed0>,\n",
       "  <matplotlib.patches.Wedge at 0x29526789450>,\n",
       "  <matplotlib.patches.Wedge at 0x29526789090>],\n",
       " [Text(0.04159214585780989, 1.0992133975725291, 'HP'),\n",
       "  Text(-0.9129442159923572, -0.6136227330258394, 'Dell'),\n",
       "  Text(0.03315834624568238, -1.099500124635851, 'Lenovo'),\n",
       "  Text(0.7080056482069058, -0.841859847069047, 'Compaq'),\n",
       "  Text(1.059530123113638, -0.29562800647908705, 'Apple')],\n",
       " [Text(0.022686625013350847, 0.5995709441304704, '48.8%'),\n",
       "  Text(-0.4979695723594675, -0.33470330892318506, '21.2%'),\n",
       "  Text(0.018086370679463115, -0.5997273407104641, '10.9%'),\n",
       "  Text(0.3861848990219486, -0.45919628021948017, '10.4%'),\n",
       "  Text(0.577925521698348, -0.16125163989768385, '8.7%')])"
      ]
     },
     "execution_count": 50,
     "metadata": {},
     "output_type": "execute_result"
    },
    {
     "data": {
      "image/png": "[encoded data removed]",
      "text/plain": [
       "<Figure size 640x480 with 1 Axes>"
      ]
     },
     "metadata": {},
     "output_type": "display_data"
    }
   ],
   "source": [
    "# Plot the visualization using matplotlib\n",
    "\n",
    "plt.pie(total_revenue_by_product.values, labels=total_revenue_by_product.index, autopct='%1.1f%%', colors=['purple', 'indigo', 'violet', 'blue', ])\n"
   ]
  },
  {
   "cell_type": "markdown",
   "id": "1cb9f4ad",
   "metadata": {},
   "source": [
    "**Total Revenue by Sales Agent**"
   ]
  },
  {
   "cell_type": "code",
   "execution_count": null,
   "id": "63e6800b",
   "metadata": {},
   "outputs": [
    {
     "data": {
      "text/plain": [
       "array(['Chinedu', 'Emeka', 'Ibrahim', 'Tolu', 'Tonye', 'George',\n",
       "       'Blessing', 'Chioma', 'Torbari', 'Uche', 'Tunde'], dtype=object)"
      ]
     },
     "execution_count": 33,
     "metadata": {},
     "output_type": "execute_result"
    }
   ],
   "source": [
    "# First check for the sales agents available\n",
    "\n",
    "df['Sales Agent'].unique()\n"
   ]
  },
  {
   "cell_type": "code",
   "execution_count": null,
   "id": "9ef6925a",
   "metadata": {},
   "outputs": [],
   "source": [
    "# Sort the total revenue by sales agents\n",
    "\n",
    "total_revenue_by_sales_agent = df.groupby('Sales Agent')['Revenue'].sum().sort_values(ascending=False)"
   ]
  },
  {
   "cell_type": "code",
   "execution_count": null,
   "id": "63ea7f9d",
   "metadata": {},
   "outputs": [
    {
     "data": {
      "text/plain": [
       "<Axes: ylabel='Sales Agent'>"
      ]
     },
     "execution_count": 48,
     "metadata": {},
     "output_type": "execute_result"
    },
    {
     "data": {
      "image/png": "[encoded data removed]",
      "text/plain": [
       "<Figure size 640x480 with 1 Axes>"
      ]
     },
     "metadata": {},
     "output_type": "display_data"
    }
   ],
   "source": [
    "# Plot the chart using seaborn\n",
    "sns.barplot(x = total_revenue_by_sales_agent.values, y = total_revenue_by_sales_agent.index, orient='h', color='purple')"
   ]
  },
  {
   "cell_type": "code",
   "execution_count": null,
   "id": "8b7d9fe6",
   "metadata": {},
   "outputs": [],
   "source": []
  }
 ],
 "metadata": {
  "kernelspec": {
   "display_name": "Python 3",
   "language": "python",
   "name": "python3"
  },
  "language_info": {
   "codemirror_mode": {
    "name": "ipython",
    "version": 3
   },
   "file_extension": ".py",
   "mimetype": "text/x-python",
   "name": "python",
   "nbconvert_exporter": "python",
   "pygments_lexer": "ipython3",
   "version": "3.13.7"
  }
 },
 "nbformat": 4,
 "nbformat_minor": 5
}
