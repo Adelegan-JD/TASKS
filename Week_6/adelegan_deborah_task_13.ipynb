{
 "cells": [
  {
   "cell_type": "code",
   "execution_count": 4,
   "id": "222c9526",
   "metadata": {},
   "outputs": [],
   "source": [
    "# import necessary libraries\n",
    "import numpy as np\n"
   ]
  },
  {
   "cell_type": "code",
   "execution_count": 75,
   "id": "a5df444b",
   "metadata": {},
   "outputs": [
    {
     "name": "stdout",
     "output_type": "stream",
     "text": [
      "[[ 4 43 21 23 33 48]\n",
      " [ 5 13  9 32  2 15]\n",
      " [29 24 14  2 17 35]\n",
      " [10 15  8 43  6 26]\n",
      " [ 8 44 32 11  4 25]\n",
      " [47 44 38 25 15 30]]\n"
     ]
    }
   ],
   "source": [
    "# 1. Create a 6x6 NumPy array with random integers between 1 and 50. Display the array.\n",
    "\n",
    "range_array = np.random.randint(1,50, size=(6, 6))\n",
    "print(range_array)\n"
   ]
  },
  {
   "cell_type": "code",
   "execution_count": null,
   "id": "643daee6",
   "metadata": {},
   "outputs": [
    {
     "name": "stdout",
     "output_type": "stream",
     "text": [
      "The first two rows are:\n",
      " [[ 4 43 21 23 33 48]\n",
      " [ 5 13  9 32  2 15]]\n",
      "\n",
      "The last three columns are:\n",
      " [23 32  2 43 11 25] \n",
      " [33  2 17  6  4 15] \n",
      " [48 15 35 26 25 30]\n",
      "\n",
      " The even numbers in the array are:\n",
      " [np.int32(2), np.int32(2), np.int32(4), np.int32(4), np.int32(6), np.int32(8), np.int32(8), np.int32(10), np.int32(14), np.int32(24), np.int32(26), np.int32(30), np.int32(32), np.int32(32), np.int32(38), np.int32(44), np.int32(44), np.int32(48)]\n"
     ]
    }
   ],
   "source": [
    "# 2. Extract the following from the array you created in Question 1: The first two rows. The last three columns. All even numbers in the array.\n",
    "\n",
    "\n",
    "# print first two rows\n",
    "rows = np.array([0, 1])\n",
    "print(\"The first two rows are:\\n\", range_array[rows])\n",
    "\n",
    "# print last three columns\n",
    "column1 = range_array[:, -3]\n",
    "column2 = range_array[:, -2]\n",
    "column3 = range_array[:, -1]\n",
    "print(\"\\nThe last three columns are:\\n\", column1, \"\\n\", column2, \"\\n\", column3)\n",
    "\n",
    "# print all even numbers in the array\n",
    "even_numbers = range_array[range_array % 2 == 0]\n",
    "print(\"\\n The even numbers in the array are:\\n\", even_numbers)\n"
   ]
  },
  {
   "cell_type": "code",
   "execution_count": 80,
   "id": "8ae327a1",
   "metadata": {},
   "outputs": [
    {
     "name": "stdout",
     "output_type": "stream",
     "text": [
      "The reshaped form of the array into 3D is:\n",
      " [[[ 4 43 21 23 33 48]\n",
      "  [ 5 13  9 32  2 15]]\n",
      "\n",
      " [[29 24 14  2 17 35]\n",
      "  [10 15  8 43  6 26]]\n",
      "\n",
      " [[ 8 44 32 11  4 25]\n",
      "  [47 44 38 25 15 30]]]\n"
     ]
    }
   ],
   "source": [
    "# 3. Perform the following array transformations: Reshape the array into a 3D (3, 2, 6) array. Flatten the reshaped array back to 1D.\n",
    "\n",
    "# Reshape the (3,2,6) into a 3D array\n",
    "transformed3d = range_array.reshape(3, 2,6)\n",
    "print(\"The reshaped form of the array into 3D is:\\n\", transformed3d)\n",
    "\n",
    "flattened = transformed3d.flatten()"
   ]
  },
  {
   "cell_type": "code",
   "execution_count": 90,
   "id": "bba6326b",
   "metadata": {},
   "outputs": [
    {
     "ename": "ValueError",
     "evalue": "setting an array element with a sequence. The requested array has an inhomogeneous shape after 1 dimensions. The detected shape was (5,) + inhomogeneous part.",
     "output_type": "error",
     "traceback": [
      "\u001b[31m---------------------------------------------------------------------------\u001b[39m",
      "\u001b[31mValueError\u001b[39m                                Traceback (most recent call last)",
      "\u001b[36mCell\u001b[39m\u001b[36m \u001b[39m\u001b[32mIn[90]\u001b[39m\u001b[32m, line 2\u001b[39m\n\u001b[32m      1\u001b[39m identity = np.eye(\u001b[32m4\u001b[39m)\n\u001b[32m----> \u001b[39m\u001b[32m2\u001b[39m diagonal_number = \u001b[43mnp\u001b[49m\u001b[43m.\u001b[49m\u001b[43mdiag\u001b[49m\u001b[43m(\u001b[49m\u001b[43m[\u001b[49m\u001b[43midentity\u001b[49m\u001b[43m,\u001b[49m\u001b[43m \u001b[49m\u001b[32;43m10\u001b[39;49m\u001b[43m,\u001b[49m\u001b[43m \u001b[49m\u001b[32;43m20\u001b[39;49m\u001b[43m,\u001b[49m\u001b[43m \u001b[49m\u001b[32;43m30\u001b[39;49m\u001b[43m,\u001b[49m\u001b[43m \u001b[49m\u001b[32;43m40\u001b[39;49m\u001b[43m]\u001b[49m\u001b[43m)\u001b[49m \n\u001b[32m      3\u001b[39m \u001b[38;5;28mprint\u001b[39m(diagonal_number)\n",
      "\u001b[36mFile \u001b[39m\u001b[32mc:\\Users\\ncc\\Desktop\\numpy\\numpy_environment\\Lib\\site-packages\\numpy\\lib\\_twodim_base_impl.py:314\u001b[39m, in \u001b[36mdiag\u001b[39m\u001b[34m(v, k)\u001b[39m\n\u001b[32m    258\u001b[39m \u001b[38;5;129m@array_function_dispatch\u001b[39m(_diag_dispatcher)\n\u001b[32m    259\u001b[39m \u001b[38;5;28;01mdef\u001b[39;00m\u001b[38;5;250m \u001b[39m\u001b[34mdiag\u001b[39m(v, k=\u001b[32m0\u001b[39m):\n\u001b[32m    260\u001b[39m \u001b[38;5;250m    \u001b[39m\u001b[33;03m\"\"\"\u001b[39;00m\n\u001b[32m    261\u001b[39m \u001b[33;03m    Extract a diagonal or construct a diagonal array.\u001b[39;00m\n\u001b[32m    262\u001b[39m \n\u001b[32m   (...)\u001b[39m\u001b[32m    312\u001b[39m \n\u001b[32m    313\u001b[39m \u001b[33;03m    \"\"\"\u001b[39;00m\n\u001b[32m--> \u001b[39m\u001b[32m314\u001b[39m     v = \u001b[43masanyarray\u001b[49m\u001b[43m(\u001b[49m\u001b[43mv\u001b[49m\u001b[43m)\u001b[49m\n\u001b[32m    315\u001b[39m     s = v.shape\n\u001b[32m    316\u001b[39m     \u001b[38;5;28;01mif\u001b[39;00m \u001b[38;5;28mlen\u001b[39m(s) == \u001b[32m1\u001b[39m:\n",
      "\u001b[31mValueError\u001b[39m: setting an array element with a sequence. The requested array has an inhomogeneous shape after 1 dimensions. The detected shape was (5,) + inhomogeneous part."
     ]
    }
   ],
   "source": [
    "identity = np.eye(4)\n",
    "diagonal_number = np.diag([identity, 10, 20, 30, 40]) \n",
    "print(diagonal_number)"
   ]
  }
 ],
 "metadata": {
  "kernelspec": {
   "display_name": "numpy_environment",
   "language": "python",
   "name": "python3"
  },
  "language_info": {
   "codemirror_mode": {
    "name": "ipython",
    "version": 3
   },
   "file_extension": ".py",
   "mimetype": "text/x-python",
   "name": "python",
   "nbconvert_exporter": "python",
   "pygments_lexer": "ipython3",
   "version": "3.13.7"
  }
 },
 "nbformat": 4,
 "nbformat_minor": 5
}
