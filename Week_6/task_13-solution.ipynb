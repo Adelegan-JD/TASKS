{
 "cells": [
  {
   "cell_type": "code",
   "execution_count": 1,
   "id": "222c9526",
   "metadata": {},
   "outputs": [],
   "source": [
    "# import necessary libraries\n",
    "import numpy as np\n"
   ]
  },
  {
   "cell_type": "code",
   "execution_count": 2,
   "id": "a5df444b",
   "metadata": {},
   "outputs": [
    {
     "name": "stdout",
     "output_type": "stream",
     "text": [
      "[[24 18  5 47 35 21]\n",
      " [42 13 18 38 24 45]\n",
      " [41 45 18 38 29  7]\n",
      " [28  4 43 45 30  3]\n",
      " [40 31  5 24 19 10]\n",
      " [25 13  4 15 47 17]]\n"
     ]
    }
   ],
   "source": [
    "# 1. Create a 6x6 NumPy array with random integers between 1 and 50. Display the array.\n",
    "\n",
    "range_array = np.random.randint(1,50, size=(6, 6))\n",
    "print(range_array)\n"
   ]
  },
  {
   "cell_type": "code",
   "execution_count": 3,
   "id": "643daee6",
   "metadata": {},
   "outputs": [
    {
     "name": "stdout",
     "output_type": "stream",
     "text": [
      "The first two rows are:\n",
      " [[24 18  5 47 35 21]\n",
      " [42 13 18 38 24 45]]\n",
      "\n",
      "The last three columns are:\n",
      " [47 38 38 45 24 15] \n",
      " [35 24 29 30 19 47] \n",
      " [21 45  7  3 10 17]\n",
      "\n",
      " The even numbers in the array are:\n",
      " [24 18 42 18 38 24 18 38 28  4 30 40 24 10  4]\n"
     ]
    }
   ],
   "source": [
    "# 2. Extract the following from the array you created in Question 1: The first two rows. The last three columns. All even numbers in the array.\n",
    "\n",
    "\n",
    "# print first two rows\n",
    "rows = np.array([0, 1])\n",
    "print(\"The first two rows are:\\n\", range_array[rows])\n",
    "\n",
    "# print last three columns\n",
    "column1 = range_array[:, -3]\n",
    "column2 = range_array[:, -2]\n",
    "column3 = range_array[:, -1]\n",
    "print(\"\\nThe last three columns are:\\n\", column1, \"\\n\", column2, \"\\n\", column3)\n",
    "\n",
    "# print all even numbers in the array\n",
    "even_numbers = range_array[range_array % 2 == 0]\n",
    "print(\"\\n The even numbers in the array are:\\n\", even_numbers)\n"
   ]
  },
  {
   "cell_type": "code",
   "execution_count": 4,
   "id": "8ae327a1",
   "metadata": {},
   "outputs": [
    {
     "name": "stdout",
     "output_type": "stream",
     "text": [
      "The reshaped form of the array into 3D is:\n",
      " [[[24 18  5 47 35 21]\n",
      "  [42 13 18 38 24 45]]\n",
      "\n",
      " [[41 45 18 38 29  7]\n",
      "  [28  4 43 45 30  3]]\n",
      "\n",
      " [[40 31  5 24 19 10]\n",
      "  [25 13  4 15 47 17]]]\n"
     ]
    }
   ],
   "source": [
    "# 3. Perform the following array transformations: Reshape the array into a 3D (3, 2, 6) array. Flatten the reshaped array back to 1D.\n",
    "\n",
    "# Reshape the (3,2,6) into a 3D array\n",
    "transformed3d = range_array.reshape(3, 2,6)\n",
    "print(\"The reshaped form of the array into 3D is:\\n\", transformed3d)\n",
    "\n",
    "flattened = transformed3d.flatten()"
   ]
  },
  {
   "cell_type": "code",
   "execution_count": 5,
   "id": "bba6326b",
   "metadata": {},
   "outputs": [
    {
     "name": "stdout",
     "output_type": "stream",
     "text": [
      "This is the 4 x 4 identity matrix:\n",
      " [[1. 0. 0. 0.]\n",
      " [0. 1. 0. 0.]\n",
      " [0. 0. 1. 0.]\n",
      " [0. 0. 0. 1.]]\n",
      "\n",
      "This is the identity matrix whose diagonal numbers have been replaced:\n",
      " [[10.  0.  0.  0.]\n",
      " [ 0. 20.  0.  0.]\n",
      " [ 0.  0. 30.  0.]\n",
      " [ 0.  0.  0. 40.]]\n"
     ]
    }
   ],
   "source": [
    "# Generate a 4x4 identity matrix and replace the diagonal with numbers from 10 to 40, with a step of 10.\n",
    "\n",
    "# create the identity matrix \n",
    "identity_matrix = np.eye(4) \n",
    "print(\"This is the 4 x 4 identity matrix:\\n\", identity_matrix)                                                # create a scalar with with the diagonal numbers will be multiplied\n",
    "\n",
    "#create a variable to save the diagonal numbers with a step of 10\n",
    "number = np.arange(10, 41, 10)        \n",
    "\n",
    "# fill the identity matrix with the new diagonal numbers \n",
    "np.fill_diagonal(identity_matrix, number)      \n",
    "print(\"\\nThis is the identity matrix whose diagonal numbers have been replaced:\\n\", identity_matrix)\n",
    "\n",
    "\n"
   ]
  },
  {
   "cell_type": "code",
   "execution_count": 6,
   "id": "ccd160a6",
   "metadata": {},
   "outputs": [
    {
     "name": "stdout",
     "output_type": "stream",
     "text": [
      "First array:\n",
      " [[4 5 4 1]\n",
      " [6 6 2 3]\n",
      " [7 8 1 4]]\n",
      "\n",
      "Second array:\n",
      " [[ 1  5  2]\n",
      " [ 2  3  2]\n",
      " [ 8  6 10]\n",
      " [ 1  3  9]]\n",
      "\n",
      "Reshaped first array:\n",
      " [[4 5 4]\n",
      " [1 6 6]\n",
      " [2 3 7]\n",
      " [8 1 4]]\n",
      "\n",
      " First array multiplied by second array\n",
      " [[ 4 25  8]\n",
      " [ 2 18 12]\n",
      " [16 18 70]\n",
      " [ 8  3 36]]\n"
     ]
    }
   ],
   "source": [
    "# 5. Perform matrix multiplication between: A 3x4 matrix of random integers (1-10) A 4x3 matrix of random integers (1-10)\n",
    "#  create two range arrays of different shapes\n",
    "range_array1 = np.random.randint(1,11, size=(3, 4))\n",
    "range_array2 = np.random.randint(1,11, size=(4, 3))\n",
    "print(\"First array:\\n\", range_array1)\n",
    "print(\"\\nSecond array:\\n\", range_array2)\n",
    "\n",
    "# reshape one of the arrays to allow for multiplication\n",
    "array1_reshaped = range_array1.reshape(4, 3)\n",
    "print(\"\\nReshaped first array:\\n\", array1_reshaped)\n",
    "\n",
    "# Multiply both arrays\n",
    "multiplied = array1_reshaped * range_array2\n",
    "print(\"\\n First array multiplied by second array\\n\", multiplied)"
   ]
  },
  {
   "cell_type": "code",
   "execution_count": 7,
   "id": "ef8eb6df",
   "metadata": {},
   "outputs": [
    {
     "ename": "ValueError",
     "evalue": "invalid literal for int() with base 10: ''",
     "output_type": "error",
     "traceback": [
      "\u001b[31m---------------------------------------------------------------------------\u001b[39m",
      "\u001b[31mValueError\u001b[39m                                Traceback (most recent call last)",
      "\u001b[36mCell\u001b[39m\u001b[36m \u001b[39m\u001b[32mIn[7]\u001b[39m\u001b[32m, line 24\u001b[39m\n\u001b[32m     21\u001b[39m     \u001b[38;5;28mprint\u001b[39m(\u001b[33m\"\u001b[39m\u001b[33mThe odd numbers in the array above are:\u001b[39m\u001b[38;5;130;01m\\n\u001b[39;00m\u001b[33m\"\u001b[39m, odd_arrays)\n\u001b[32m     22\u001b[39m     \u001b[38;5;28mprint\u001b[39m(\u001b[33m\"\u001b[39m\u001b[33mThe odd numbers have now been replaced with -1:\u001b[39m\u001b[38;5;130;01m\\n\u001b[39;00m\u001b[33m\"\u001b[39m, replaced_odd)\n\u001b[32m---> \u001b[39m\u001b[32m24\u001b[39m number = \u001b[38;5;28;43mint\u001b[39;49m\u001b[43m(\u001b[49m\u001b[38;5;28;43minput\u001b[39;49m\u001b[43m(\u001b[49m\u001b[33;43m\"\u001b[39;49m\u001b[33;43mPlease enter a list of numbers separated by commas for the 2D array\u001b[39;49m\u001b[33;43m\"\u001b[39;49m\u001b[43m)\u001b[49m\u001b[43m)\u001b[49m\n\u001b[32m     25\u001b[39m list_of_numbers = np.array([number], ndmin=\u001b[32m2\u001b[39m)\n",
      "\u001b[31mValueError\u001b[39m: invalid literal for int() with base 10: ''"
     ]
    }
   ],
   "source": [
    "# 6. Create a function that takes a 2D NumPy array as input and returns a new array where: All even numbers are squared. All odd numbers are replaced by -1.\n",
    "\n",
    "# First create a function to take 2D numpy array as input\n",
    "def numpy_array(input_numpy):\n",
    "    # create a copy of the inpu tby flattening\n",
    "    array_copy = input_numpy.flatten()\n",
    "    print(\"The copy of the array enetered is:\\n\", array_copy)\n",
    "\n",
    "    # check if there are even numbers in the array \n",
    "    even_arrays = array_copy[array_copy % 2 == 0]\n",
    "    # square the even numbers\n",
    "    squared_even = pow(even_arrays, 2)\n",
    "    print(\"\\n The even numbers in the array above are:\\n\", even_arrays)\n",
    "    print(\"\\n The square of the even numbers above are:\\n\", squared_even)\n",
    "\n",
    "\n",
    "    # check if there are odd numbers in the array\n",
    "    odd_arrays = array_copy[array_copy % 2 != 0]\n",
    "    # replace odd numbers with -1\n",
    "    replaced_odd = array_copy[odd_arrays, -1]\n",
    "    print(\"The odd numbers in the array above are:\\n\", odd_arrays)\n",
    "    print(\"The odd numbers have now been replaced with -1:\\n\", replaced_odd)\n",
    "\n",
    "number = int(input(\"Please enter a list of numbers separated by commas for the 2D array\"))\n",
    "list_of_numbers = np.array([number], ndmin=2)\n",
    "\n"
   ]
  },
  {
   "cell_type": "code",
   "execution_count": null,
   "id": "ad89938f",
   "metadata": {},
   "outputs": [],
   "source": [
    "number = int(input(\"Please enter a list of numbers separated by commas for the 2D array\"))\n",
    "list_of_numbers = np.array([number])\n",
    "print(list_of_numbers)"
   ]
  }
 ],
 "metadata": {
  "kernelspec": {
   "display_name": "numpy_environment",
   "language": "python",
   "name": "python3"
  },
  "language_info": {
   "codemirror_mode": {
    "name": "ipython",
    "version": 3
   },
   "file_extension": ".py",
   "mimetype": "text/x-python",
   "name": "python",
   "nbconvert_exporter": "python",
   "pygments_lexer": "ipython3",
   "version": "3.13.7"
  }
 },
 "nbformat": 4,
 "nbformat_minor": 5
}
