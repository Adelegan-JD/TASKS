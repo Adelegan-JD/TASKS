{
 "cells": [
  {
   "cell_type": "markdown",
   "id": "bddbb6f8",
   "metadata": {},
   "source": [
    "**Question**"
   ]
  },
  {
   "cell_type": "markdown",
   "id": "bd0c29fe",
   "metadata": {},
   "source": [
    "Given the following Concepts:\n",
    "\n",
    "- Chi-square test (for categorical data),\n",
    "- ANOVA (for comparing more than two means),\n",
    "- Two Tailed Tests\n",
    "- Proportion Tests\n",
    "\n",
    "\n",
    " Read about them, and explain them in a Jupyter notebook"
   ]
  },
  {
   "cell_type": "markdown",
   "id": "11eee939",
   "metadata": {},
   "source": []
  },
  {
   "cell_type": "markdown",
   "id": "f2127f32",
   "metadata": {},
   "source": [
    "**Chi-Square test (for categorical data)**"
   ]
  },
  {
   "cell_type": "markdown",
   "id": "59279553",
   "metadata": {},
   "source": [
    "The chi-square (\\(\\chi ^{2}\\)) test is a test used to determine if there is a relationship between two categorical variables or if observed frequencies differ significantly from expected frequencies in a single categorical variable. It's commonly used to analyze contingency tables.  \n",
    "\n",
    "The chi-square distribution is not symmetrical. It is mostly skewed.\n",
    "\n",
    "Chi-square test\n",
    "\n",
    "chi ^ 2 = (sigma * s ^ 2)/(sigma * p ^ 2) * (n - 1)\n",
    "\n",
    "chi ^ 2 = Sigma * ((0ij - Eij) ^ 2)/(Eij).\n",
    "\n",
    "\n",
    "*Example*\n",
    "\n",
    "Let's have a categorical data like gender(male and female) and study the relationship with another categorical data like attendance (the number of days present). We would have an expected outcome and an observed outcome\n",
    "\n",
    "\n",
    " <table>\n",
    "    <thead>\n",
    "      <tr>\n",
    "        <th>Student</th>\n",
    "        <th>Student1</th>\n",
    "      </tr>\n",
    "    </thead>\n",
    "    <tbody>\n",
    "      <tr>\n",
    "        <td>Data 1</td>\n",
    "        <td>Data 2</td>\n",
    "      </tr>\n",
    "    </tbody>\n",
    "  </table>\n"
   ]
  },
  {
   "cell_type": "markdown",
   "id": "b6829d85",
   "metadata": {},
   "source": [
    "**ANOVA - For comparing more than two means**"
   ]
  },
  {
   "cell_type": "markdown",
   "id": "8617ea32",
   "metadata": {},
   "source": [
    "ANOVA (for comparing more than two means): Analysis of Variance (ANOVA) is a statistical method used to compare the means of two or more groups to determine if there is a statistically significant difference between them. It assesses the variation within and between groups to draw conclusions about population means."
   ]
  },
  {
   "cell_type": "markdown",
   "id": "29ae080c",
   "metadata": {},
   "source": [
    "**Two-tailed Tests**"
   ]
  },
  {
   "cell_type": "markdown",
   "id": "af0f0897",
   "metadata": {},
   "source": [
    "Two-Tailed Tests: In hypothesis testing, a two-tailed test is used when you are interested in detecting a difference in either direction (e.g., greater than or less than) from a null hypothesis. This means the critical region for rejecting the null hypothesis is split between both ends (tails) of the sampling distribution. "
   ]
  },
  {
   "cell_type": "markdown",
   "id": "903f951a",
   "metadata": {},
   "source": [
    "**Proportion Tests**"
   ]
  },
  {
   "cell_type": "markdown",
   "id": "2d2067d6",
   "metadata": {},
   "source": [
    "Proportion Tests: Proportion tests are statistical tests used to compare observed proportions to expected proportions or to compare proportions between two or more groups. These tests are used when dealing with categorical data where the interest lies in the proportion of successes or occurrences within a population or sample."
   ]
  }
 ],
 "metadata": {
  "language_info": {
   "name": "python"
  }
 },
 "nbformat": 4,
 "nbformat_minor": 5
}
