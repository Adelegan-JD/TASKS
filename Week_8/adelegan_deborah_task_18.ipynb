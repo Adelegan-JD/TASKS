{
 "cells": [
  {
   "cell_type": "code",
   "execution_count": null,
   "id": "796fd3e3",
   "metadata": {},
   "outputs": [],
   "source": [
    "# Import necessary packages\n",
    "import pandas as pd\n",
    "import numpy as np\n",
    "import matplotlib.pyplot as plt\n",
    "import scipy.stats as stats"
   ]
  },
  {
   "cell_type": "code",
   "execution_count": null,
   "id": "77fbd228",
   "metadata": {},
   "outputs": [],
   "source": [
    "# importing the dataset directly from kagglehub\n",
    "import kagglehub\n",
    "\n",
    "path = kagglehub.dataset_download(\"abrambeyer/openintro-possum\")\n",
    "print(\"Path to dataset files:\", path)"
   ]
  }
 ],
 "metadata": {
  "language_info": {
   "name": "python"
  }
 },
 "nbformat": 4,
 "nbformat_minor": 5
}
