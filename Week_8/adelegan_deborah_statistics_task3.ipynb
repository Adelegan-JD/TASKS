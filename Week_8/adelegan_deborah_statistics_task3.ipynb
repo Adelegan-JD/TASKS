{
 "cells": [
  {
   "cell_type": "markdown",
   "id": "bee8eab7",
   "metadata": {},
   "source": [
    "#### **Statistics Class 3: Measures of Spread**\n"
   ]
  },
  {
   "cell_type": "markdown",
   "id": "9f360c20",
   "metadata": {},
   "source": [
    "**Question**\n",
    "\n",
    "Given the dataset ([4, 8, 6, 5, 3]).  Find the variance\n"
   ]
  },
  {
   "cell_type": "markdown",
   "id": "2d13cf30",
   "metadata": {},
   "source": [
    "#### **Solution**"
   ]
  },
  {
   "cell_type": "markdown",
   "id": "ba78e81d",
   "metadata": {},
   "source": [
    "**Step 1: Calculate the mean**\n",
    "\n",
    "mean = (4 + 8 + 6 + 5 + 3) / 5\n",
    "\n",
    "mean = 26 / 5\n",
    "\n",
    "mean = 5.2"
   ]
  },
  {
   "cell_type": "markdown",
   "id": "d99b509c",
   "metadata": {},
   "source": [
    "**Step 2: Calculate the difference bbetween each value of the dataset and the mean**\n",
    "\n",
    "(xi - x) = [(4 - 5.2), (8 - 5.2), (6 - 5.2), (5 - 5.2), (3 - 5.2)]\n",
    "result = [-1.2, 2.8, 0.8, -0.2, -2.2]\n",
    "\n"
   ]
  },
  {
   "cell_type": "markdown",
   "id": "41789d2c",
   "metadata": {},
   "source": [
    "**Step 3: Square the result of the difference above**\n",
    "\n",
    "squared_result = [1.44, 7.84, 0.64, 0.04, 4.84]"
   ]
  },
  {
   "cell_type": "markdown",
   "id": "c35e33c4",
   "metadata": {},
   "source": [
    "**Step 4: Add all the squared results together**\n",
    "\n",
    "result = [1.44 + 7.84 + 0.64 + 0.04 + 4.84]\n",
    "result = 14.8"
   ]
  },
  {
   "cell_type": "markdown",
   "id": "5710dc9f",
   "metadata": {},
   "source": [
    "**Step 5: Divide the cumulative result by the number of values in the dataset**\n",
    "\n",
    "variancce = 14.8 / 5\n",
    "\n",
    "variance = 2.96"
   ]
  }
 ],
 "metadata": {
  "language_info": {
   "name": "python"
  }
 },
 "nbformat": 4,
 "nbformat_minor": 5
}
