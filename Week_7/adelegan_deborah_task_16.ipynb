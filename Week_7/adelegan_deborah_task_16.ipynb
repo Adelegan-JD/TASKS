{
 "cells": [
  {
   "cell_type": "markdown",
   "id": "ca9cc46d",
   "metadata": {},
   "source": [
    "Carry out the following operations in numpy\n",
    "\n",
    "Let A = [[2, - 1], [0, 3]] B = [[1, 4], [- 2, 5]] and let the scalars (c = 2), (d = 3) .\n",
    "\n",
    "a) Compute the following: (CA), (dB), and (c + d) * A\n",
    "\n",
    "b) Using the results gotten, Verify the Scalar Multiplication Properties\n",
    "\n",
    "c) Find the transpose of both matrices\n",
    "\n",
    "d) Check if (A) and (B) are invertible by computing their determinants. If they are invertible, find: A ^ - 1 and B ^ - 1"
   ]
  },
  {
   "cell_type": "code",
   "execution_count": 1,
   "id": "4f26cc8c",
   "metadata": {},
   "outputs": [],
   "source": [
    "# import necessary packages\n",
    "import numpy as np"
   ]
  },
  {
   "cell_type": "code",
   "execution_count": 2,
   "id": "5ec37764",
   "metadata": {},
   "outputs": [],
   "source": [
    "A = [[2, - 1], \n",
    "     [0, 3]]\n",
    "\n",
    "B = [[1, 4], \n",
    "    [- 2, 5]]\n",
    "\n",
    "c = 2\n",
    "d = 3"
   ]
  },
  {
   "cell_type": "markdown",
   "id": "e78e5371",
   "metadata": {},
   "source": [
    "\n",
    "**Question 1**\n",
    "\n",
    "Compute the following: (cA), (dB), and (c + d) * A"
   ]
  },
  {
   "cell_type": "code",
   "execution_count": null,
   "id": "f4a2dead",
   "metadata": {},
   "outputs": [
    {
     "name": "stdout",
     "output_type": "stream",
     "text": [
      "cA = [[ 4 -2]\n",
      " [ 0  6]]\n"
     ]
    }
   ],
   "source": [
    "# To compute cA, multiply the scalar 2 by the matrix A\n",
    "cA = np.dot(c, A)\n",
    "print(f'cA = {cA}')\n",
    "\n",
    "# To compute dB\n",
    "dB = np.dot(d, B)\n",
    "print(dB)\n",
    "\n",
    "# To compute (c+d)*A\n",
    "# Mu"
   ]
  }
 ],
 "metadata": {
  "kernelspec": {
   "display_name": "Python 3",
   "language": "python",
   "name": "python3"
  },
  "language_info": {
   "codemirror_mode": {
    "name": "ipython",
    "version": 3
   },
   "file_extension": ".py",
   "mimetype": "text/x-python",
   "name": "python",
   "nbconvert_exporter": "python",
   "pygments_lexer": "ipython3",
   "version": "3.13.7"
  }
 },
 "nbformat": 4,
 "nbformat_minor": 5
}
