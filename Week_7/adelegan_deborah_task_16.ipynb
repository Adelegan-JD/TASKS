{
 "cells": [
  {
   "cell_type": "markdown",
   "id": "ca9cc46d",
   "metadata": {},
   "source": [
    "Carry out the following operations in numpy\n",
    "\n",
    "Let A = [[2, - 1], [0, 3]] B = [[1, 4], [- 2, 5]] and let the scalars (c = 2), (d = 3) .\n",
    "\n",
    "a) Compute the following: (CA), (dB), and (c + d) * A\n",
    "\n",
    "b) Using the results gotten, Verify the Scalar Multiplication Properties\n",
    "\n",
    "c) Find the transpose of both matrices\n",
    "\n",
    "d) Check if (A) and (B) are invertible by computing their determinants. If they are invertible, find: A ^ - 1 and B ^ - 1"
   ]
  },
  {
   "cell_type": "code",
   "execution_count": null,
   "id": "4f26cc8c",
   "metadata": {},
   "outputs": [],
   "source": [
    "# import necessary packages\n",
    "import numpy as np"
   ]
  }
 ],
 "metadata": {
  "language_info": {
   "name": "python"
  }
 },
 "nbformat": 4,
 "nbformat_minor": 5
}
