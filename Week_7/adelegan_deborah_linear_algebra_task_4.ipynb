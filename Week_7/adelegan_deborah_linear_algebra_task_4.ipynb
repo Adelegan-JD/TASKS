{
 "cells": [
  {
   "cell_type": "markdown",
   "id": "47db80e6",
   "metadata": {},
   "source": [
    "## **CLASS TASK 4**\n",
    "\n",
    "### Case Study: Student Performance Analysis with Linear Algebra "
   ]
  },
  {
   "cell_type": "markdown",
   "id": "69951c4c",
   "metadata": {},
   "source": [
    "1. **Introduction** \n",
    "\n",
    "In this case study, we will use Linear Algebra concepts (vectors, vector operations, matrices, \n",
    "and matrix operations) to analyze student performance data. \n",
    "\n",
    "Linear Algebra is powerful because it allows us to represent and manipulate data in a \n",
    "structured way. For example: \n",
    "- Each student’s scores can be represented as a vector. \n",
    "- A group of students’ scores across subjects can be represented as a matrix. \n",
    "- We can then use vector and matrix operations to compute totals, averages, and weighted \n",
    "grades. \n",
    "\n"
   ]
  },
  {
   "cell_type": "markdown",
   "id": "86629957",
   "metadata": {},
   "source": [
    "2. **Problem Setup**\n",
    "\n",
    "We have the scores of 4 students in 3 subjects (Mathematics, English, Science): \n",
    "\n",
    "Student         Math       English     Science\n",
    "\n",
    "Student 1        80           70          90\n",
    "\n",
    "Student 2        60           85          75\n",
    "\n",
    "Student 3        95           88          92\n",
    "\n",
    "Student 4        70           60          65\n",
    " \n",
    "\n",
    "We will represent this dataset as a matrix: \n",
    "\n",
    "[[80, 70, 90], \n",
    "\n",
    "[60, 85, 75], \n",
    "\n",
    "[95, 88, 92], \n",
    "\n",
    "[70, 60, 65]] \n"
   ]
  },
  {
   "cell_type": "markdown",
   "id": "9eb809f0",
   "metadata": {},
   "source": [
    "3. **Step-by-Step Analysis**\n",
    "\n",
    "3.1 Representing Data as a Matrix \n",
    "\n",
    "Represent the scores as a 4x3 matrix, where rows = students and columns = subjects. "
   ]
  },
  {
   "cell_type": "code",
   "execution_count": 2,
   "id": "2f1eaad6",
   "metadata": {},
   "outputs": [],
   "source": [
    "# import necessary packages\n",
    "import numpy as np"
   ]
  },
  {
   "cell_type": "code",
   "execution_count": null,
   "id": "6173efee",
   "metadata": {},
   "outputs": [
    {
     "data": {
      "text/plain": [
       "array([[80, 70, 90],\n",
       "       [60, 85, 75],\n",
       "       [95, 88, 92],\n",
       "       [70, 60, 65]])"
      ]
     },
     "execution_count": 11,
     "metadata": {},
     "output_type": "execute_result"
    }
   ],
   "source": [
    "student_1 = [80, 70, 90]\n",
    "student_2 = [60, 85, 75]\n",
    "student_3 = [95, 88, 92]\n",
    "student_4 = [70, 60, 65]\n",
    "\n",
    "student = np.array([student_1, student_2, student_3, student_4])\n",
    "\n",
    "student"
   ]
  },
  {
   "cell_type": "markdown",
   "id": "add0806b",
   "metadata": {},
   "source": [
    "3.2 **Total Scores per Student (Vector Addition)** \n",
    "\n",
    "Compute the total score for each student by summing across the row vector."
   ]
  },
  {
   "cell_type": "code",
   "execution_count": null,
   "id": "a1434de6",
   "metadata": {},
   "outputs": [
    {
     "name": "stdout",
     "output_type": "stream",
     "text": [
      "The sum of the total scores of student 1 is 240\n"
     ]
    }
   ],
   "source": [
    "total_score1 = np.sum(student_1)\n",
    "total_score2 = np.sum(student_2)\n",
    "total_score3 = np.sum(student_3)\n",
    "total_score4 = np.sum(student_4)\n",
    "\n",
    "print('The sum of the total scores of student 1 is:', total_score1)\n"
   ]
  },
  {
   "cell_type": "markdown",
   "id": "c5a2c489",
   "metadata": {},
   "source": [
    "**3.3 Applying Weights (Scalar Multiplication)** \n",
    "\n",
    "Apply subject weights (e.g., Math is twice as important as others) using scalar \n",
    "multiplication."
   ]
  },
  {
   "cell_type": "code",
   "execution_count": null,
   "id": "69b0588f",
   "metadata": {},
   "outputs": [],
   "source": []
  },
  {
   "cell_type": "code",
   "execution_count": null,
   "id": "f5b7c3b4",
   "metadata": {},
   "outputs": [
    {
     "ename": "NameError",
     "evalue": "name 's' is not defined",
     "output_type": "error",
     "traceback": [
      "\u001b[31m---------------------------------------------------------------------------\u001b[39m",
      "\u001b[31mNameError\u001b[39m                                 Traceback (most recent call last)",
      "\u001b[36mCell\u001b[39m\u001b[36m \u001b[39m\u001b[32mIn[12]\u001b[39m\u001b[32m, line 1\u001b[39m\n\u001b[32m----> \u001b[39m\u001b[32m1\u001b[39m student_array =   np.array(\u001b[43ms\u001b[49m)\n\u001b[32m      3\u001b[39m students = student_array[[\u001b[32m0\u001b[39m, \u001b[32m1\u001b[39m, \u001b[32m2\u001b[39m, \u001b[32m3\u001b[39m], :]\n\u001b[32m      4\u001b[39m subjects = student_array[:, [\u001b[32m0\u001b[39m, \u001b[32m1\u001b[39m, \u001b[32m2\u001b[39m]]\n",
      "\u001b[31mNameError\u001b[39m: name 's' is not defined"
     ]
    }
   ],
   "source": []
  },
  {
   "cell_type": "code",
   "execution_count": null,
   "id": "e2d2a040",
   "metadata": {},
   "outputs": [],
   "source": []
  }
 ],
 "metadata": {
  "kernelspec": {
   "display_name": "Python 3",
   "language": "python",
   "name": "python3"
  },
  "language_info": {
   "codemirror_mode": {
    "name": "ipython",
    "version": 3
   },
   "file_extension": ".py",
   "mimetype": "text/x-python",
   "name": "python",
   "nbconvert_exporter": "python",
   "pygments_lexer": "ipython3",
   "version": "3.13.7"
  }
 },
 "nbformat": 4,
 "nbformat_minor": 5
}
