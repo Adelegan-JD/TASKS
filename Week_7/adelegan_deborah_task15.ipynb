{
 "cells": [
  {
   "cell_type": "markdown",
   "id": "035658e5",
   "metadata": {},
   "source": [
    "### **Data Ingestion**"
   ]
  },
  {
   "cell_type": "code",
   "execution_count": 56,
   "id": "5209fa68",
   "metadata": {},
   "outputs": [],
   "source": [
    "# import necessary packages\n",
    "import os\n",
    "import pandas as pd\n",
    "import numpy as np\n",
    "import matplotlib.pyplot as plt\n",
    "import seaborn as sns\n",
    "import gdown as gd"
   ]
  },
  {
   "cell_type": "markdown",
   "id": "7adbb6fa",
   "metadata": {},
   "source": [
    "### **Data Ingestion**"
   ]
  },
  {
   "cell_type": "code",
   "execution_count": null,
   "id": "0252cc8f",
   "metadata": {},
   "outputs": [],
   "source": []
  },
  {
   "cell_type": "code",
   "execution_count": 57,
   "id": "e090d5a8",
   "metadata": {},
   "outputs": [],
   "source": [
    "# #download the dataset from google drive\n",
    "\n",
    "# url = 'https://docs.google.com/spreadsheets/d/14g3FeBnTxvtvfEttIId2STkTeQlhi09m/view?usp=sharing'\n",
    "# id = '14g3FeBnTxvtvfEttIId2STkTeQlhi09m'\n",
    "\n",
    "# gd.download(f'https://drive.google.com/uc?id={id}', quiet=False)"
   ]
  },
  {
   "cell_type": "code",
   "execution_count": 58,
   "id": "57e41592",
   "metadata": {},
   "outputs": [],
   "source": [
    "#assign a variable name to the dataset\n",
    "\n",
    "file = pd.read_csv('sales_data.xls')"
   ]
  },
  {
   "cell_type": "markdown",
   "id": "487771d0",
   "metadata": {},
   "source": [
    "### **Preliminary Data Analysis**"
   ]
  },
  {
   "cell_type": "code",
   "execution_count": 59,
   "id": "c650090d",
   "metadata": {},
   "outputs": [
    {
     "data": {
      "text/html": [
       "<div>\n",
       "<style scoped>\n",
       "    .dataframe tbody tr th:only-of-type {\n",
       "        vertical-align: middle;\n",
       "    }\n",
       "\n",
       "    .dataframe tbody tr th {\n",
       "        vertical-align: top;\n",
       "    }\n",
       "\n",
       "    .dataframe thead th {\n",
       "        text-align: right;\n",
       "    }\n",
       "</style>\n",
       "<table border=\"1\" class=\"dataframe\">\n",
       "  <thead>\n",
       "    <tr style=\"text-align: right;\">\n",
       "      <th></th>\n",
       "      <th>customer_id</th>\n",
       "      <th>device_id</th>\n",
       "      <th>item_id</th>\n",
       "      <th>line_item_id</th>\n",
       "      <th>order_id</th>\n",
       "      <th>event_id</th>\n",
       "      <th>event_timestamp</th>\n",
       "      <th>quantity</th>\n",
       "      <th>currency</th>\n",
       "      <th>checked_out_at</th>\n",
       "      <th>status</th>\n",
       "      <th>location</th>\n",
       "    </tr>\n",
       "  </thead>\n",
       "  <tbody>\n",
       "    <tr>\n",
       "      <th>0</th>\n",
       "      <td>cda7bec0-7cbf-4145-baf9-e049bab94504</td>\n",
       "      <td>33b485de-7338-4997-b1d0-b988ba17b245</td>\n",
       "      <td>4</td>\n",
       "      <td>3201</td>\n",
       "      <td>9e950ce3-2e12-479c-a051-493c1a497d49</td>\n",
       "      <td>14786</td>\n",
       "      <td>2024-03-26 22:05:58.863661</td>\n",
       "      <td>2</td>\n",
       "      <td>NGN</td>\n",
       "      <td>2024-03-30 04:19:10.406794</td>\n",
       "      <td>success</td>\n",
       "      <td>Saint Helena</td>\n",
       "    </tr>\n",
       "    <tr>\n",
       "      <th>1</th>\n",
       "      <td>cda7bec0-7cbf-4145-baf9-e049bab94504</td>\n",
       "      <td>33b485de-7338-4997-b1d0-b988ba17b245</td>\n",
       "      <td>5</td>\n",
       "      <td>3202</td>\n",
       "      <td>9e950ce3-2e12-479c-a051-493c1a497d49</td>\n",
       "      <td>14786</td>\n",
       "      <td>2024-03-26 22:05:58.863661</td>\n",
       "      <td>4</td>\n",
       "      <td>NGN</td>\n",
       "      <td>2024-03-30 04:19:10.406794</td>\n",
       "      <td>success</td>\n",
       "      <td>Saint Helena</td>\n",
       "    </tr>\n",
       "    <tr>\n",
       "      <th>2</th>\n",
       "      <td>cda7bec0-7cbf-4145-baf9-e049bab94504</td>\n",
       "      <td>33b485de-7338-4997-b1d0-b988ba17b245</td>\n",
       "      <td>9</td>\n",
       "      <td>3203</td>\n",
       "      <td>9e950ce3-2e12-479c-a051-493c1a497d49</td>\n",
       "      <td>14786</td>\n",
       "      <td>2024-03-26 22:05:58.863661</td>\n",
       "      <td>5</td>\n",
       "      <td>NGN</td>\n",
       "      <td>2024-03-30 04:19:10.406794</td>\n",
       "      <td>success</td>\n",
       "      <td>Saint Helena</td>\n",
       "    </tr>\n",
       "    <tr>\n",
       "      <th>3</th>\n",
       "      <td>cda7bec0-7cbf-4145-baf9-e049bab94504</td>\n",
       "      <td>33b485de-7338-4997-b1d0-b988ba17b245</td>\n",
       "      <td>12</td>\n",
       "      <td>3204</td>\n",
       "      <td>9e950ce3-2e12-479c-a051-493c1a497d49</td>\n",
       "      <td>14786</td>\n",
       "      <td>2024-03-26 22:05:58.863661</td>\n",
       "      <td>1</td>\n",
       "      <td>NGN</td>\n",
       "      <td>2024-03-30 04:19:10.406794</td>\n",
       "      <td>success</td>\n",
       "      <td>Saint Helena</td>\n",
       "    </tr>\n",
       "    <tr>\n",
       "      <th>4</th>\n",
       "      <td>cda7bec0-7cbf-4145-baf9-e049bab94504</td>\n",
       "      <td>33b485de-7338-4997-b1d0-b988ba17b245</td>\n",
       "      <td>6</td>\n",
       "      <td>3205</td>\n",
       "      <td>9e950ce3-2e12-479c-a051-493c1a497d49</td>\n",
       "      <td>14786</td>\n",
       "      <td>2024-03-26 22:05:58.863661</td>\n",
       "      <td>2</td>\n",
       "      <td>NGN</td>\n",
       "      <td>2024-03-30 04:19:10.406794</td>\n",
       "      <td>success</td>\n",
       "      <td>Saint Helena</td>\n",
       "    </tr>\n",
       "    <tr>\n",
       "      <th>5</th>\n",
       "      <td>cda7bec0-7cbf-4145-baf9-e049bab94504</td>\n",
       "      <td>33b485de-7338-4997-b1d0-b988ba17b245</td>\n",
       "      <td>11</td>\n",
       "      <td>3206</td>\n",
       "      <td>9e950ce3-2e12-479c-a051-493c1a497d49</td>\n",
       "      <td>14786</td>\n",
       "      <td>2024-03-26 22:05:58.863661</td>\n",
       "      <td>4</td>\n",
       "      <td>NGN</td>\n",
       "      <td>2024-03-30 04:19:10.406794</td>\n",
       "      <td>success</td>\n",
       "      <td>Saint Helena</td>\n",
       "    </tr>\n",
       "    <tr>\n",
       "      <th>6</th>\n",
       "      <td>cda7bec0-7cbf-4145-baf9-e049bab94504</td>\n",
       "      <td>33b485de-7338-4997-b1d0-b988ba17b245</td>\n",
       "      <td>4</td>\n",
       "      <td>3201</td>\n",
       "      <td>9e950ce3-2e12-479c-a051-493c1a497d49</td>\n",
       "      <td>14787</td>\n",
       "      <td>2024-03-27 07:14:33.987347</td>\n",
       "      <td>2</td>\n",
       "      <td>NGN</td>\n",
       "      <td>2024-03-30 04:19:10.406794</td>\n",
       "      <td>success</td>\n",
       "      <td>Saint Helena</td>\n",
       "    </tr>\n",
       "    <tr>\n",
       "      <th>7</th>\n",
       "      <td>cda7bec0-7cbf-4145-baf9-e049bab94504</td>\n",
       "      <td>33b485de-7338-4997-b1d0-b988ba17b245</td>\n",
       "      <td>5</td>\n",
       "      <td>3202</td>\n",
       "      <td>9e950ce3-2e12-479c-a051-493c1a497d49</td>\n",
       "      <td>14787</td>\n",
       "      <td>2024-03-27 07:14:33.987347</td>\n",
       "      <td>4</td>\n",
       "      <td>NGN</td>\n",
       "      <td>2024-03-30 04:19:10.406794</td>\n",
       "      <td>success</td>\n",
       "      <td>Saint Helena</td>\n",
       "    </tr>\n",
       "    <tr>\n",
       "      <th>8</th>\n",
       "      <td>cda7bec0-7cbf-4145-baf9-e049bab94504</td>\n",
       "      <td>33b485de-7338-4997-b1d0-b988ba17b245</td>\n",
       "      <td>9</td>\n",
       "      <td>3203</td>\n",
       "      <td>9e950ce3-2e12-479c-a051-493c1a497d49</td>\n",
       "      <td>14787</td>\n",
       "      <td>2024-03-27 07:14:33.987347</td>\n",
       "      <td>5</td>\n",
       "      <td>NGN</td>\n",
       "      <td>2024-03-30 04:19:10.406794</td>\n",
       "      <td>success</td>\n",
       "      <td>Saint Helena</td>\n",
       "    </tr>\n",
       "    <tr>\n",
       "      <th>9</th>\n",
       "      <td>cda7bec0-7cbf-4145-baf9-e049bab94504</td>\n",
       "      <td>33b485de-7338-4997-b1d0-b988ba17b245</td>\n",
       "      <td>12</td>\n",
       "      <td>3204</td>\n",
       "      <td>9e950ce3-2e12-479c-a051-493c1a497d49</td>\n",
       "      <td>14787</td>\n",
       "      <td>2024-03-27 07:14:33.987347</td>\n",
       "      <td>1</td>\n",
       "      <td>NGN</td>\n",
       "      <td>2024-03-30 04:19:10.406794</td>\n",
       "      <td>success</td>\n",
       "      <td>Saint Helena</td>\n",
       "    </tr>\n",
       "  </tbody>\n",
       "</table>\n",
       "</div>"
      ],
      "text/plain": [
       "                            customer_id                             device_id  \\\n",
       "0  cda7bec0-7cbf-4145-baf9-e049bab94504  33b485de-7338-4997-b1d0-b988ba17b245   \n",
       "1  cda7bec0-7cbf-4145-baf9-e049bab94504  33b485de-7338-4997-b1d0-b988ba17b245   \n",
       "2  cda7bec0-7cbf-4145-baf9-e049bab94504  33b485de-7338-4997-b1d0-b988ba17b245   \n",
       "3  cda7bec0-7cbf-4145-baf9-e049bab94504  33b485de-7338-4997-b1d0-b988ba17b245   \n",
       "4  cda7bec0-7cbf-4145-baf9-e049bab94504  33b485de-7338-4997-b1d0-b988ba17b245   \n",
       "5  cda7bec0-7cbf-4145-baf9-e049bab94504  33b485de-7338-4997-b1d0-b988ba17b245   \n",
       "6  cda7bec0-7cbf-4145-baf9-e049bab94504  33b485de-7338-4997-b1d0-b988ba17b245   \n",
       "7  cda7bec0-7cbf-4145-baf9-e049bab94504  33b485de-7338-4997-b1d0-b988ba17b245   \n",
       "8  cda7bec0-7cbf-4145-baf9-e049bab94504  33b485de-7338-4997-b1d0-b988ba17b245   \n",
       "9  cda7bec0-7cbf-4145-baf9-e049bab94504  33b485de-7338-4997-b1d0-b988ba17b245   \n",
       "\n",
       "   item_id  line_item_id                              order_id  event_id  \\\n",
       "0        4          3201  9e950ce3-2e12-479c-a051-493c1a497d49     14786   \n",
       "1        5          3202  9e950ce3-2e12-479c-a051-493c1a497d49     14786   \n",
       "2        9          3203  9e950ce3-2e12-479c-a051-493c1a497d49     14786   \n",
       "3       12          3204  9e950ce3-2e12-479c-a051-493c1a497d49     14786   \n",
       "4        6          3205  9e950ce3-2e12-479c-a051-493c1a497d49     14786   \n",
       "5       11          3206  9e950ce3-2e12-479c-a051-493c1a497d49     14786   \n",
       "6        4          3201  9e950ce3-2e12-479c-a051-493c1a497d49     14787   \n",
       "7        5          3202  9e950ce3-2e12-479c-a051-493c1a497d49     14787   \n",
       "8        9          3203  9e950ce3-2e12-479c-a051-493c1a497d49     14787   \n",
       "9       12          3204  9e950ce3-2e12-479c-a051-493c1a497d49     14787   \n",
       "\n",
       "              event_timestamp  quantity currency              checked_out_at  \\\n",
       "0  2024-03-26 22:05:58.863661         2      NGN  2024-03-30 04:19:10.406794   \n",
       "1  2024-03-26 22:05:58.863661         4      NGN  2024-03-30 04:19:10.406794   \n",
       "2  2024-03-26 22:05:58.863661         5      NGN  2024-03-30 04:19:10.406794   \n",
       "3  2024-03-26 22:05:58.863661         1      NGN  2024-03-30 04:19:10.406794   \n",
       "4  2024-03-26 22:05:58.863661         2      NGN  2024-03-30 04:19:10.406794   \n",
       "5  2024-03-26 22:05:58.863661         4      NGN  2024-03-30 04:19:10.406794   \n",
       "6  2024-03-27 07:14:33.987347         2      NGN  2024-03-30 04:19:10.406794   \n",
       "7  2024-03-27 07:14:33.987347         4      NGN  2024-03-30 04:19:10.406794   \n",
       "8  2024-03-27 07:14:33.987347         5      NGN  2024-03-30 04:19:10.406794   \n",
       "9  2024-03-27 07:14:33.987347         1      NGN  2024-03-30 04:19:10.406794   \n",
       "\n",
       "    status      location  \n",
       "0  success  Saint Helena  \n",
       "1  success  Saint Helena  \n",
       "2  success  Saint Helena  \n",
       "3  success  Saint Helena  \n",
       "4  success  Saint Helena  \n",
       "5  success  Saint Helena  \n",
       "6  success  Saint Helena  \n",
       "7  success  Saint Helena  \n",
       "8  success  Saint Helena  \n",
       "9  success  Saint Helena  "
      ]
     },
     "execution_count": 59,
     "metadata": {},
     "output_type": "execute_result"
    }
   ],
   "source": [
    "file.head(10)"
   ]
  },
  {
   "cell_type": "code",
   "execution_count": 60,
   "id": "8f5bb836",
   "metadata": {},
   "outputs": [
    {
     "data": {
      "text/plain": [
       "(578320, 12)"
      ]
     },
     "execution_count": 60,
     "metadata": {},
     "output_type": "execute_result"
    }
   ],
   "source": [
    "file.shape"
   ]
  },
  {
   "cell_type": "code",
   "execution_count": 61,
   "id": "9bbfea55",
   "metadata": {},
   "outputs": [
    {
     "data": {
      "text/plain": [
       "Index(['customer_id', 'device_id', 'item_id', 'line_item_id', 'order_id',\n",
       "       'event_id', 'event_timestamp', 'quantity', 'currency', 'checked_out_at',\n",
       "       'status', 'location'],\n",
       "      dtype='object')"
      ]
     },
     "execution_count": 61,
     "metadata": {},
     "output_type": "execute_result"
    }
   ],
   "source": [
    "file.columns"
   ]
  },
  {
   "cell_type": "markdown",
   "id": "d4ae8f50",
   "metadata": {},
   "source": [
    "### **Data Cleaning**"
   ]
  },
  {
   "cell_type": "code",
   "execution_count": 62,
   "id": "e97a4eb9",
   "metadata": {},
   "outputs": [
    {
     "data": {
      "text/plain": [
       "customer_id        0\n",
       "device_id          0\n",
       "item_id            0\n",
       "line_item_id       0\n",
       "order_id           0\n",
       "event_id           0\n",
       "event_timestamp    0\n",
       "quantity           0\n",
       "currency           0\n",
       "checked_out_at     0\n",
       "status             0\n",
       "location           0\n",
       "dtype: int64"
      ]
     },
     "execution_count": 62,
     "metadata": {},
     "output_type": "execute_result"
    }
   ],
   "source": [
    "# check for missing values\n",
    "file.isna().sum()"
   ]
  },
  {
   "cell_type": "markdown",
   "id": "664f8d74",
   "metadata": {},
   "source": [
    "### **Exploratory Data Analysis**"
   ]
  },
  {
   "cell_type": "code",
   "execution_count": 63,
   "id": "76227d32",
   "metadata": {},
   "outputs": [],
   "source": [
    "# set the index as location\n",
    "\n",
    "file.set_index('location', inplace=True)"
   ]
  },
  {
   "cell_type": "code",
   "execution_count": 64,
   "id": "01fcfe09",
   "metadata": {},
   "outputs": [
    {
     "data": {
      "text/html": [
       "<div>\n",
       "<style scoped>\n",
       "    .dataframe tbody tr th:only-of-type {\n",
       "        vertical-align: middle;\n",
       "    }\n",
       "\n",
       "    .dataframe tbody tr th {\n",
       "        vertical-align: top;\n",
       "    }\n",
       "\n",
       "    .dataframe thead th {\n",
       "        text-align: right;\n",
       "    }\n",
       "</style>\n",
       "<table border=\"1\" class=\"dataframe\">\n",
       "  <thead>\n",
       "    <tr style=\"text-align: right;\">\n",
       "      <th></th>\n",
       "      <th>customer_id</th>\n",
       "      <th>device_id</th>\n",
       "      <th>item_id</th>\n",
       "      <th>line_item_id</th>\n",
       "      <th>order_id</th>\n",
       "      <th>event_id</th>\n",
       "      <th>event_timestamp</th>\n",
       "      <th>quantity</th>\n",
       "      <th>currency</th>\n",
       "      <th>checked_out_at</th>\n",
       "      <th>status</th>\n",
       "    </tr>\n",
       "    <tr>\n",
       "      <th>location</th>\n",
       "      <th></th>\n",
       "      <th></th>\n",
       "      <th></th>\n",
       "      <th></th>\n",
       "      <th></th>\n",
       "      <th></th>\n",
       "      <th></th>\n",
       "      <th></th>\n",
       "      <th></th>\n",
       "      <th></th>\n",
       "      <th></th>\n",
       "    </tr>\n",
       "  </thead>\n",
       "  <tbody>\n",
       "    <tr>\n",
       "      <th>Saint Helena</th>\n",
       "      <td>cda7bec0-7cbf-4145-baf9-e049bab94504</td>\n",
       "      <td>33b485de-7338-4997-b1d0-b988ba17b245</td>\n",
       "      <td>4</td>\n",
       "      <td>3201</td>\n",
       "      <td>9e950ce3-2e12-479c-a051-493c1a497d49</td>\n",
       "      <td>14786</td>\n",
       "      <td>2024-03-26 22:05:58.863661</td>\n",
       "      <td>2</td>\n",
       "      <td>NGN</td>\n",
       "      <td>2024-03-30 04:19:10.406794</td>\n",
       "      <td>success</td>\n",
       "    </tr>\n",
       "    <tr>\n",
       "      <th>Saint Helena</th>\n",
       "      <td>cda7bec0-7cbf-4145-baf9-e049bab94504</td>\n",
       "      <td>33b485de-7338-4997-b1d0-b988ba17b245</td>\n",
       "      <td>5</td>\n",
       "      <td>3202</td>\n",
       "      <td>9e950ce3-2e12-479c-a051-493c1a497d49</td>\n",
       "      <td>14786</td>\n",
       "      <td>2024-03-26 22:05:58.863661</td>\n",
       "      <td>4</td>\n",
       "      <td>NGN</td>\n",
       "      <td>2024-03-30 04:19:10.406794</td>\n",
       "      <td>success</td>\n",
       "    </tr>\n",
       "    <tr>\n",
       "      <th>Saint Helena</th>\n",
       "      <td>cda7bec0-7cbf-4145-baf9-e049bab94504</td>\n",
       "      <td>33b485de-7338-4997-b1d0-b988ba17b245</td>\n",
       "      <td>9</td>\n",
       "      <td>3203</td>\n",
       "      <td>9e950ce3-2e12-479c-a051-493c1a497d49</td>\n",
       "      <td>14786</td>\n",
       "      <td>2024-03-26 22:05:58.863661</td>\n",
       "      <td>5</td>\n",
       "      <td>NGN</td>\n",
       "      <td>2024-03-30 04:19:10.406794</td>\n",
       "      <td>success</td>\n",
       "    </tr>\n",
       "    <tr>\n",
       "      <th>Saint Helena</th>\n",
       "      <td>cda7bec0-7cbf-4145-baf9-e049bab94504</td>\n",
       "      <td>33b485de-7338-4997-b1d0-b988ba17b245</td>\n",
       "      <td>12</td>\n",
       "      <td>3204</td>\n",
       "      <td>9e950ce3-2e12-479c-a051-493c1a497d49</td>\n",
       "      <td>14786</td>\n",
       "      <td>2024-03-26 22:05:58.863661</td>\n",
       "      <td>1</td>\n",
       "      <td>NGN</td>\n",
       "      <td>2024-03-30 04:19:10.406794</td>\n",
       "      <td>success</td>\n",
       "    </tr>\n",
       "    <tr>\n",
       "      <th>Saint Helena</th>\n",
       "      <td>cda7bec0-7cbf-4145-baf9-e049bab94504</td>\n",
       "      <td>33b485de-7338-4997-b1d0-b988ba17b245</td>\n",
       "      <td>6</td>\n",
       "      <td>3205</td>\n",
       "      <td>9e950ce3-2e12-479c-a051-493c1a497d49</td>\n",
       "      <td>14786</td>\n",
       "      <td>2024-03-26 22:05:58.863661</td>\n",
       "      <td>2</td>\n",
       "      <td>NGN</td>\n",
       "      <td>2024-03-30 04:19:10.406794</td>\n",
       "      <td>success</td>\n",
       "    </tr>\n",
       "  </tbody>\n",
       "</table>\n",
       "</div>"
      ],
      "text/plain": [
       "                                       customer_id  \\\n",
       "location                                             \n",
       "Saint Helena  cda7bec0-7cbf-4145-baf9-e049bab94504   \n",
       "Saint Helena  cda7bec0-7cbf-4145-baf9-e049bab94504   \n",
       "Saint Helena  cda7bec0-7cbf-4145-baf9-e049bab94504   \n",
       "Saint Helena  cda7bec0-7cbf-4145-baf9-e049bab94504   \n",
       "Saint Helena  cda7bec0-7cbf-4145-baf9-e049bab94504   \n",
       "\n",
       "                                         device_id  item_id  line_item_id  \\\n",
       "location                                                                    \n",
       "Saint Helena  33b485de-7338-4997-b1d0-b988ba17b245        4          3201   \n",
       "Saint Helena  33b485de-7338-4997-b1d0-b988ba17b245        5          3202   \n",
       "Saint Helena  33b485de-7338-4997-b1d0-b988ba17b245        9          3203   \n",
       "Saint Helena  33b485de-7338-4997-b1d0-b988ba17b245       12          3204   \n",
       "Saint Helena  33b485de-7338-4997-b1d0-b988ba17b245        6          3205   \n",
       "\n",
       "                                          order_id  event_id  \\\n",
       "location                                                       \n",
       "Saint Helena  9e950ce3-2e12-479c-a051-493c1a497d49     14786   \n",
       "Saint Helena  9e950ce3-2e12-479c-a051-493c1a497d49     14786   \n",
       "Saint Helena  9e950ce3-2e12-479c-a051-493c1a497d49     14786   \n",
       "Saint Helena  9e950ce3-2e12-479c-a051-493c1a497d49     14786   \n",
       "Saint Helena  9e950ce3-2e12-479c-a051-493c1a497d49     14786   \n",
       "\n",
       "                         event_timestamp  quantity currency  \\\n",
       "location                                                      \n",
       "Saint Helena  2024-03-26 22:05:58.863661         2      NGN   \n",
       "Saint Helena  2024-03-26 22:05:58.863661         4      NGN   \n",
       "Saint Helena  2024-03-26 22:05:58.863661         5      NGN   \n",
       "Saint Helena  2024-03-26 22:05:58.863661         1      NGN   \n",
       "Saint Helena  2024-03-26 22:05:58.863661         2      NGN   \n",
       "\n",
       "                          checked_out_at   status  \n",
       "location                                           \n",
       "Saint Helena  2024-03-30 04:19:10.406794  success  \n",
       "Saint Helena  2024-03-30 04:19:10.406794  success  \n",
       "Saint Helena  2024-03-30 04:19:10.406794  success  \n",
       "Saint Helena  2024-03-30 04:19:10.406794  success  \n",
       "Saint Helena  2024-03-30 04:19:10.406794  success  "
      ]
     },
     "execution_count": 64,
     "metadata": {},
     "output_type": "execute_result"
    }
   ],
   "source": [
    "file.head(5)"
   ]
  },
  {
   "cell_type": "code",
   "execution_count": 65,
   "id": "2f071a02",
   "metadata": {},
   "outputs": [
    {
     "data": {
      "text/plain": [
       "Index(['Afghanistan', 'Albania', 'Algeria', 'American Samoa', 'Andorra',\n",
       "       'Angola', 'Anguilla', 'Antarctica (the territory South of 60 deg S)',\n",
       "       'Antigua and Barbuda', 'Argentina',\n",
       "       ...\n",
       "       'Uruguay', 'Uzbekistan', 'Vanuatu', 'Venezuela', 'Vietnam',\n",
       "       'Wallis and Futuna', 'Western Sahara', 'Yemen', 'Zambia', 'Zimbabwe'],\n",
       "      dtype='object', name='location', length=243)"
      ]
     },
     "execution_count": 65,
     "metadata": {},
     "output_type": "execute_result"
    }
   ],
   "source": [
    "file.index.unique().sort_values()"
   ]
  },
  {
   "cell_type": "code",
   "execution_count": 66,
   "id": "6d4f9f7b",
   "metadata": {},
   "outputs": [
    {
     "data": {
      "text/plain": [
       "location\n",
       "Korea                          6997\n",
       "Argentina                      4507\n",
       "Mauritius                      4414\n",
       "Jersey                         4130\n",
       "Panama                         3936\n",
       "French Guiana                  3851\n",
       "Guernsey                       3804\n",
       "Guatemala                      3731\n",
       "Albania                        3721\n",
       "Philippines                    3675\n",
       "Mali                           3670\n",
       "Congo                          3642\n",
       "Finland                        3615\n",
       "Cape Verde                     3509\n",
       "Christmas Island               3471\n",
       "China                          3429\n",
       "France                         3425\n",
       "French Southern Territories    3421\n",
       "Poland                         3355\n",
       "Cyprus                         3345\n",
       "Name: count, dtype: int64"
      ]
     },
     "execution_count": 66,
     "metadata": {},
     "output_type": "execute_result"
    }
   ],
   "source": [
    "unique_index = file.index.value_counts()\n",
    "unique_index.head(20)"
   ]
  },
  {
   "cell_type": "code",
   "execution_count": 67,
   "id": "46012a48",
   "metadata": {},
   "outputs": [
    {
     "data": {
      "text/plain": [
       "<Axes: xlabel='location'>"
      ]
     },
     "execution_count": 67,
     "metadata": {},
     "output_type": "execute_result"
    },
    {
     "data": {
      "image/png": "[encoded data removed]",
      "text/plain": [
       "<Figure size 640x480 with 1 Axes>"
      ]
     },
     "metadata": {},
     "output_type": "display_data"
    }
   ],
   "source": [
    "unique_index.head(20).plot(kind= 'bar')"
   ]
  },
  {
   "cell_type": "code",
   "execution_count": 68,
   "id": "699c2270",
   "metadata": {},
   "outputs": [
    {
     "data": {
      "text/plain": [
       "<Axes: xlabel='location'>"
      ]
     },
     "execution_count": 68,
     "metadata": {},
     "output_type": "execute_result"
    },
    {
     "data": {
      "image/png": "[encoded data removed]",
      "text/plain": [
       "<Figure size 2000x2000 with 1 Axes>"
      ]
     },
     "metadata": {},
     "output_type": "display_data"
    }
   ],
   "source": [
    "file.index.value_counts().head(100).plot(kind = 'bar',figsize = (20,20))"
   ]
  },
  {
   "cell_type": "code",
   "execution_count": 69,
   "id": "5dd1cdd5",
   "metadata": {},
   "outputs": [
    {
     "data": {
      "text/plain": [
       "<bound method IndexOpsMixin.nunique of location\n",
       "Korea        6997\n",
       "Argentina    4507\n",
       "Mauritius    4414\n",
       "Jersey       4130\n",
       "Panama       3936\n",
       "             ... \n",
       "Chad         1082\n",
       "Malaysia     1037\n",
       "Austria       921\n",
       "Italy         783\n",
       "Uruguay       734\n",
       "Name: count, Length: 243, dtype: int64>"
      ]
     },
     "execution_count": 69,
     "metadata": {},
     "output_type": "execute_result"
    }
   ],
   "source": [
    "unique_index.nunique"
   ]
  },
  {
   "cell_type": "code",
   "execution_count": 70,
   "id": "61cb87f3",
   "metadata": {},
   "outputs": [
    {
     "data": {
      "text/plain": [
       "Index(['customer_id', 'device_id', 'item_id', 'line_item_id', 'order_id',\n",
       "       'event_id', 'event_timestamp', 'quantity', 'currency', 'checked_out_at',\n",
       "       'status'],\n",
       "      dtype='object')"
      ]
     },
     "execution_count": 70,
     "metadata": {},
     "output_type": "execute_result"
    }
   ],
   "source": [
    "file.columns"
   ]
  },
  {
   "cell_type": "code",
   "execution_count": 71,
   "id": "195c36c7",
   "metadata": {},
   "outputs": [],
   "source": [
    "# Filtering/ Masking...\n",
    "# Using Booleans \"AND\" & \"OR\"\n",
    "# AND in pandas is written as \"&\"\n",
    "# OR in pandas is written as \"|\"\n",
    "#-------------------------------------------------#"
   ]
  },
  {
   "cell_type": "code",
   "execution_count": 72,
   "id": "db68ba70",
   "metadata": {},
   "outputs": [
    {
     "data": {
      "text/plain": [
       "<bound method Series.unique of location\n",
       "Saint Helena        cda7bec0-7cbf-4145-baf9-e049bab94504\n",
       "Saint Helena        cda7bec0-7cbf-4145-baf9-e049bab94504\n",
       "Saint Helena        cda7bec0-7cbf-4145-baf9-e049bab94504\n",
       "Saint Helena        cda7bec0-7cbf-4145-baf9-e049bab94504\n",
       "Saint Helena        cda7bec0-7cbf-4145-baf9-e049bab94504\n",
       "                                    ...                 \n",
       "Christmas Island    ef15a7b3-326c-405f-9eef-3dbf43c85a9d\n",
       "Christmas Island    ef15a7b3-326c-405f-9eef-3dbf43c85a9d\n",
       "Christmas Island    ef15a7b3-326c-405f-9eef-3dbf43c85a9d\n",
       "Christmas Island    ef15a7b3-326c-405f-9eef-3dbf43c85a9d\n",
       "Christmas Island    ef15a7b3-326c-405f-9eef-3dbf43c85a9d\n",
       "Name: customer_id, Length: 578320, dtype: object>"
      ]
     },
     "execution_count": 72,
     "metadata": {},
     "output_type": "execute_result"
    }
   ],
   "source": [
    "file['customer_id'].unique"
   ]
  },
  {
   "cell_type": "code",
   "execution_count": 73,
   "id": "e46915ec",
   "metadata": {},
   "outputs": [
    {
     "data": {
      "text/html": [
       "<div>\n",
       "<style scoped>\n",
       "    .dataframe tbody tr th:only-of-type {\n",
       "        vertical-align: middle;\n",
       "    }\n",
       "\n",
       "    .dataframe tbody tr th {\n",
       "        vertical-align: top;\n",
       "    }\n",
       "\n",
       "    .dataframe thead th {\n",
       "        text-align: right;\n",
       "    }\n",
       "</style>\n",
       "<table border=\"1\" class=\"dataframe\">\n",
       "  <thead>\n",
       "    <tr style=\"text-align: right;\">\n",
       "      <th></th>\n",
       "      <th>customer_id</th>\n",
       "      <th>device_id</th>\n",
       "      <th>item_id</th>\n",
       "      <th>line_item_id</th>\n",
       "      <th>order_id</th>\n",
       "      <th>event_id</th>\n",
       "      <th>event_timestamp</th>\n",
       "      <th>quantity</th>\n",
       "      <th>currency</th>\n",
       "      <th>checked_out_at</th>\n",
       "      <th>status</th>\n",
       "    </tr>\n",
       "    <tr>\n",
       "      <th>location</th>\n",
       "      <th></th>\n",
       "      <th></th>\n",
       "      <th></th>\n",
       "      <th></th>\n",
       "      <th></th>\n",
       "      <th></th>\n",
       "      <th></th>\n",
       "      <th></th>\n",
       "      <th></th>\n",
       "      <th></th>\n",
       "      <th></th>\n",
       "    </tr>\n",
       "  </thead>\n",
       "  <tbody>\n",
       "    <tr>\n",
       "      <th>Christmas Island</th>\n",
       "      <td>ef15a7b3-326c-405f-9eef-3dbf43c85a9d</td>\n",
       "      <td>74bb4936-9890-421b-a62a-ee544191fa1e</td>\n",
       "      <td>4</td>\n",
       "      <td>34940</td>\n",
       "      <td>ad73a2a0-354a-40bf-81cd-ff017ac859d5</td>\n",
       "      <td>161951</td>\n",
       "      <td>2024-03-26 11:21:06.639379</td>\n",
       "      <td>3</td>\n",
       "      <td>USD</td>\n",
       "      <td>2024-03-30 04:14:18.224200</td>\n",
       "      <td>failed</td>\n",
       "    </tr>\n",
       "    <tr>\n",
       "      <th>Christmas Island</th>\n",
       "      <td>ef15a7b3-326c-405f-9eef-3dbf43c85a9d</td>\n",
       "      <td>74bb4936-9890-421b-a62a-ee544191fa1e</td>\n",
       "      <td>1</td>\n",
       "      <td>34941</td>\n",
       "      <td>ad73a2a0-354a-40bf-81cd-ff017ac859d5</td>\n",
       "      <td>161951</td>\n",
       "      <td>2024-03-26 11:21:06.639379</td>\n",
       "      <td>3</td>\n",
       "      <td>USD</td>\n",
       "      <td>2024-03-30 04:14:18.224200</td>\n",
       "      <td>failed</td>\n",
       "    </tr>\n",
       "    <tr>\n",
       "      <th>Christmas Island</th>\n",
       "      <td>ef15a7b3-326c-405f-9eef-3dbf43c85a9d</td>\n",
       "      <td>74bb4936-9890-421b-a62a-ee544191fa1e</td>\n",
       "      <td>4</td>\n",
       "      <td>34940</td>\n",
       "      <td>ad73a2a0-354a-40bf-81cd-ff017ac859d5</td>\n",
       "      <td>161952</td>\n",
       "      <td>2024-03-21 13:01:50.266228</td>\n",
       "      <td>3</td>\n",
       "      <td>USD</td>\n",
       "      <td>2024-03-30 04:14:18.224200</td>\n",
       "      <td>failed</td>\n",
       "    </tr>\n",
       "    <tr>\n",
       "      <th>Christmas Island</th>\n",
       "      <td>ef15a7b3-326c-405f-9eef-3dbf43c85a9d</td>\n",
       "      <td>74bb4936-9890-421b-a62a-ee544191fa1e</td>\n",
       "      <td>1</td>\n",
       "      <td>34941</td>\n",
       "      <td>ad73a2a0-354a-40bf-81cd-ff017ac859d5</td>\n",
       "      <td>161952</td>\n",
       "      <td>2024-03-21 13:01:50.266228</td>\n",
       "      <td>3</td>\n",
       "      <td>USD</td>\n",
       "      <td>2024-03-30 04:14:18.224200</td>\n",
       "      <td>failed</td>\n",
       "    </tr>\n",
       "    <tr>\n",
       "      <th>Christmas Island</th>\n",
       "      <td>ef15a7b3-326c-405f-9eef-3dbf43c85a9d</td>\n",
       "      <td>74bb4936-9890-421b-a62a-ee544191fa1e</td>\n",
       "      <td>4</td>\n",
       "      <td>34940</td>\n",
       "      <td>ad73a2a0-354a-40bf-81cd-ff017ac859d5</td>\n",
       "      <td>161953</td>\n",
       "      <td>2024-03-20 02:34:28.814874</td>\n",
       "      <td>3</td>\n",
       "      <td>USD</td>\n",
       "      <td>2024-03-30 04:14:18.224200</td>\n",
       "      <td>failed</td>\n",
       "    </tr>\n",
       "    <tr>\n",
       "      <th>Christmas Island</th>\n",
       "      <td>ef15a7b3-326c-405f-9eef-3dbf43c85a9d</td>\n",
       "      <td>74bb4936-9890-421b-a62a-ee544191fa1e</td>\n",
       "      <td>1</td>\n",
       "      <td>34941</td>\n",
       "      <td>ad73a2a0-354a-40bf-81cd-ff017ac859d5</td>\n",
       "      <td>161953</td>\n",
       "      <td>2024-03-20 02:34:28.814874</td>\n",
       "      <td>3</td>\n",
       "      <td>USD</td>\n",
       "      <td>2024-03-30 04:14:18.224200</td>\n",
       "      <td>failed</td>\n",
       "    </tr>\n",
       "    <tr>\n",
       "      <th>Christmas Island</th>\n",
       "      <td>ef15a7b3-326c-405f-9eef-3dbf43c85a9d</td>\n",
       "      <td>74bb4936-9890-421b-a62a-ee544191fa1e</td>\n",
       "      <td>4</td>\n",
       "      <td>34940</td>\n",
       "      <td>ad73a2a0-354a-40bf-81cd-ff017ac859d5</td>\n",
       "      <td>161954</td>\n",
       "      <td>2024-03-25 11:26:41.849567</td>\n",
       "      <td>3</td>\n",
       "      <td>USD</td>\n",
       "      <td>2024-03-30 04:14:18.224200</td>\n",
       "      <td>failed</td>\n",
       "    </tr>\n",
       "    <tr>\n",
       "      <th>Christmas Island</th>\n",
       "      <td>ef15a7b3-326c-405f-9eef-3dbf43c85a9d</td>\n",
       "      <td>74bb4936-9890-421b-a62a-ee544191fa1e</td>\n",
       "      <td>1</td>\n",
       "      <td>34941</td>\n",
       "      <td>ad73a2a0-354a-40bf-81cd-ff017ac859d5</td>\n",
       "      <td>161954</td>\n",
       "      <td>2024-03-25 11:26:41.849567</td>\n",
       "      <td>3</td>\n",
       "      <td>USD</td>\n",
       "      <td>2024-03-30 04:14:18.224200</td>\n",
       "      <td>failed</td>\n",
       "    </tr>\n",
       "    <tr>\n",
       "      <th>Christmas Island</th>\n",
       "      <td>ef15a7b3-326c-405f-9eef-3dbf43c85a9d</td>\n",
       "      <td>74bb4936-9890-421b-a62a-ee544191fa1e</td>\n",
       "      <td>4</td>\n",
       "      <td>34940</td>\n",
       "      <td>ad73a2a0-354a-40bf-81cd-ff017ac859d5</td>\n",
       "      <td>161955</td>\n",
       "      <td>2024-03-30 04:03:18.224148</td>\n",
       "      <td>3</td>\n",
       "      <td>USD</td>\n",
       "      <td>2024-03-30 04:14:18.224200</td>\n",
       "      <td>failed</td>\n",
       "    </tr>\n",
       "    <tr>\n",
       "      <th>Christmas Island</th>\n",
       "      <td>ef15a7b3-326c-405f-9eef-3dbf43c85a9d</td>\n",
       "      <td>74bb4936-9890-421b-a62a-ee544191fa1e</td>\n",
       "      <td>1</td>\n",
       "      <td>34941</td>\n",
       "      <td>ad73a2a0-354a-40bf-81cd-ff017ac859d5</td>\n",
       "      <td>161955</td>\n",
       "      <td>2024-03-30 04:03:18.224148</td>\n",
       "      <td>3</td>\n",
       "      <td>USD</td>\n",
       "      <td>2024-03-30 04:14:18.224200</td>\n",
       "      <td>failed</td>\n",
       "    </tr>\n",
       "    <tr>\n",
       "      <th>Christmas Island</th>\n",
       "      <td>ef15a7b3-326c-405f-9eef-3dbf43c85a9d</td>\n",
       "      <td>74bb4936-9890-421b-a62a-ee544191fa1e</td>\n",
       "      <td>4</td>\n",
       "      <td>34940</td>\n",
       "      <td>ad73a2a0-354a-40bf-81cd-ff017ac859d5</td>\n",
       "      <td>161956</td>\n",
       "      <td>2024-03-30 04:03:18.224149</td>\n",
       "      <td>3</td>\n",
       "      <td>USD</td>\n",
       "      <td>2024-03-30 04:14:18.224200</td>\n",
       "      <td>failed</td>\n",
       "    </tr>\n",
       "    <tr>\n",
       "      <th>Christmas Island</th>\n",
       "      <td>ef15a7b3-326c-405f-9eef-3dbf43c85a9d</td>\n",
       "      <td>74bb4936-9890-421b-a62a-ee544191fa1e</td>\n",
       "      <td>1</td>\n",
       "      <td>34941</td>\n",
       "      <td>ad73a2a0-354a-40bf-81cd-ff017ac859d5</td>\n",
       "      <td>161956</td>\n",
       "      <td>2024-03-30 04:03:18.224149</td>\n",
       "      <td>3</td>\n",
       "      <td>USD</td>\n",
       "      <td>2024-03-30 04:14:18.224200</td>\n",
       "      <td>failed</td>\n",
       "    </tr>\n",
       "    <tr>\n",
       "      <th>Christmas Island</th>\n",
       "      <td>ef15a7b3-326c-405f-9eef-3dbf43c85a9d</td>\n",
       "      <td>74bb4936-9890-421b-a62a-ee544191fa1e</td>\n",
       "      <td>4</td>\n",
       "      <td>34940</td>\n",
       "      <td>ad73a2a0-354a-40bf-81cd-ff017ac859d5</td>\n",
       "      <td>161957</td>\n",
       "      <td>2024-03-30 04:03:18.224193</td>\n",
       "      <td>3</td>\n",
       "      <td>USD</td>\n",
       "      <td>2024-03-30 04:14:18.224200</td>\n",
       "      <td>failed</td>\n",
       "    </tr>\n",
       "    <tr>\n",
       "      <th>Christmas Island</th>\n",
       "      <td>ef15a7b3-326c-405f-9eef-3dbf43c85a9d</td>\n",
       "      <td>74bb4936-9890-421b-a62a-ee544191fa1e</td>\n",
       "      <td>1</td>\n",
       "      <td>34941</td>\n",
       "      <td>ad73a2a0-354a-40bf-81cd-ff017ac859d5</td>\n",
       "      <td>161957</td>\n",
       "      <td>2024-03-30 04:03:18.224193</td>\n",
       "      <td>3</td>\n",
       "      <td>USD</td>\n",
       "      <td>2024-03-30 04:14:18.224200</td>\n",
       "      <td>failed</td>\n",
       "    </tr>\n",
       "    <tr>\n",
       "      <th>Christmas Island</th>\n",
       "      <td>ef15a7b3-326c-405f-9eef-3dbf43c85a9d</td>\n",
       "      <td>74bb4936-9890-421b-a62a-ee544191fa1e</td>\n",
       "      <td>4</td>\n",
       "      <td>34940</td>\n",
       "      <td>ad73a2a0-354a-40bf-81cd-ff017ac859d5</td>\n",
       "      <td>161958</td>\n",
       "      <td>2024-03-30 04:03:18.224196</td>\n",
       "      <td>3</td>\n",
       "      <td>USD</td>\n",
       "      <td>2024-03-30 04:14:18.224200</td>\n",
       "      <td>failed</td>\n",
       "    </tr>\n",
       "    <tr>\n",
       "      <th>Christmas Island</th>\n",
       "      <td>ef15a7b3-326c-405f-9eef-3dbf43c85a9d</td>\n",
       "      <td>74bb4936-9890-421b-a62a-ee544191fa1e</td>\n",
       "      <td>1</td>\n",
       "      <td>34941</td>\n",
       "      <td>ad73a2a0-354a-40bf-81cd-ff017ac859d5</td>\n",
       "      <td>161958</td>\n",
       "      <td>2024-03-30 04:03:18.224196</td>\n",
       "      <td>3</td>\n",
       "      <td>USD</td>\n",
       "      <td>2024-03-30 04:14:18.224200</td>\n",
       "      <td>failed</td>\n",
       "    </tr>\n",
       "    <tr>\n",
       "      <th>Christmas Island</th>\n",
       "      <td>ef15a7b3-326c-405f-9eef-3dbf43c85a9d</td>\n",
       "      <td>74bb4936-9890-421b-a62a-ee544191fa1e</td>\n",
       "      <td>4</td>\n",
       "      <td>34940</td>\n",
       "      <td>ad73a2a0-354a-40bf-81cd-ff017ac859d5</td>\n",
       "      <td>161959</td>\n",
       "      <td>2024-03-30 04:03:18.224198</td>\n",
       "      <td>3</td>\n",
       "      <td>USD</td>\n",
       "      <td>2024-03-30 04:14:18.224200</td>\n",
       "      <td>failed</td>\n",
       "    </tr>\n",
       "    <tr>\n",
       "      <th>Christmas Island</th>\n",
       "      <td>ef15a7b3-326c-405f-9eef-3dbf43c85a9d</td>\n",
       "      <td>74bb4936-9890-421b-a62a-ee544191fa1e</td>\n",
       "      <td>1</td>\n",
       "      <td>34941</td>\n",
       "      <td>ad73a2a0-354a-40bf-81cd-ff017ac859d5</td>\n",
       "      <td>161959</td>\n",
       "      <td>2024-03-30 04:03:18.224198</td>\n",
       "      <td>3</td>\n",
       "      <td>USD</td>\n",
       "      <td>2024-03-30 04:14:18.224200</td>\n",
       "      <td>failed</td>\n",
       "    </tr>\n",
       "    <tr>\n",
       "      <th>Christmas Island</th>\n",
       "      <td>ef15a7b3-326c-405f-9eef-3dbf43c85a9d</td>\n",
       "      <td>74bb4936-9890-421b-a62a-ee544191fa1e</td>\n",
       "      <td>4</td>\n",
       "      <td>34940</td>\n",
       "      <td>ad73a2a0-354a-40bf-81cd-ff017ac859d5</td>\n",
       "      <td>161960</td>\n",
       "      <td>2024-03-30 04:14:18.224200</td>\n",
       "      <td>3</td>\n",
       "      <td>USD</td>\n",
       "      <td>2024-03-30 04:14:18.224200</td>\n",
       "      <td>failed</td>\n",
       "    </tr>\n",
       "    <tr>\n",
       "      <th>Christmas Island</th>\n",
       "      <td>ef15a7b3-326c-405f-9eef-3dbf43c85a9d</td>\n",
       "      <td>74bb4936-9890-421b-a62a-ee544191fa1e</td>\n",
       "      <td>1</td>\n",
       "      <td>34941</td>\n",
       "      <td>ad73a2a0-354a-40bf-81cd-ff017ac859d5</td>\n",
       "      <td>161960</td>\n",
       "      <td>2024-03-30 04:14:18.224200</td>\n",
       "      <td>3</td>\n",
       "      <td>USD</td>\n",
       "      <td>2024-03-30 04:14:18.224200</td>\n",
       "      <td>failed</td>\n",
       "    </tr>\n",
       "  </tbody>\n",
       "</table>\n",
       "</div>"
      ],
      "text/plain": [
       "                                           customer_id  \\\n",
       "location                                                 \n",
       "Christmas Island  ef15a7b3-326c-405f-9eef-3dbf43c85a9d   \n",
       "Christmas Island  ef15a7b3-326c-405f-9eef-3dbf43c85a9d   \n",
       "Christmas Island  ef15a7b3-326c-405f-9eef-3dbf43c85a9d   \n",
       "Christmas Island  ef15a7b3-326c-405f-9eef-3dbf43c85a9d   \n",
       "Christmas Island  ef15a7b3-326c-405f-9eef-3dbf43c85a9d   \n",
       "Christmas Island  ef15a7b3-326c-405f-9eef-3dbf43c85a9d   \n",
       "Christmas Island  ef15a7b3-326c-405f-9eef-3dbf43c85a9d   \n",
       "Christmas Island  ef15a7b3-326c-405f-9eef-3dbf43c85a9d   \n",
       "Christmas Island  ef15a7b3-326c-405f-9eef-3dbf43c85a9d   \n",
       "Christmas Island  ef15a7b3-326c-405f-9eef-3dbf43c85a9d   \n",
       "Christmas Island  ef15a7b3-326c-405f-9eef-3dbf43c85a9d   \n",
       "Christmas Island  ef15a7b3-326c-405f-9eef-3dbf43c85a9d   \n",
       "Christmas Island  ef15a7b3-326c-405f-9eef-3dbf43c85a9d   \n",
       "Christmas Island  ef15a7b3-326c-405f-9eef-3dbf43c85a9d   \n",
       "Christmas Island  ef15a7b3-326c-405f-9eef-3dbf43c85a9d   \n",
       "Christmas Island  ef15a7b3-326c-405f-9eef-3dbf43c85a9d   \n",
       "Christmas Island  ef15a7b3-326c-405f-9eef-3dbf43c85a9d   \n",
       "Christmas Island  ef15a7b3-326c-405f-9eef-3dbf43c85a9d   \n",
       "Christmas Island  ef15a7b3-326c-405f-9eef-3dbf43c85a9d   \n",
       "Christmas Island  ef15a7b3-326c-405f-9eef-3dbf43c85a9d   \n",
       "\n",
       "                                             device_id  item_id  line_item_id  \\\n",
       "location                                                                        \n",
       "Christmas Island  74bb4936-9890-421b-a62a-ee544191fa1e        4         34940   \n",
       "Christmas Island  74bb4936-9890-421b-a62a-ee544191fa1e        1         34941   \n",
       "Christmas Island  74bb4936-9890-421b-a62a-ee544191fa1e        4         34940   \n",
       "Christmas Island  74bb4936-9890-421b-a62a-ee544191fa1e        1         34941   \n",
       "Christmas Island  74bb4936-9890-421b-a62a-ee544191fa1e        4         34940   \n",
       "Christmas Island  74bb4936-9890-421b-a62a-ee544191fa1e        1         34941   \n",
       "Christmas Island  74bb4936-9890-421b-a62a-ee544191fa1e        4         34940   \n",
       "Christmas Island  74bb4936-9890-421b-a62a-ee544191fa1e        1         34941   \n",
       "Christmas Island  74bb4936-9890-421b-a62a-ee544191fa1e        4         34940   \n",
       "Christmas Island  74bb4936-9890-421b-a62a-ee544191fa1e        1         34941   \n",
       "Christmas Island  74bb4936-9890-421b-a62a-ee544191fa1e        4         34940   \n",
       "Christmas Island  74bb4936-9890-421b-a62a-ee544191fa1e        1         34941   \n",
       "Christmas Island  74bb4936-9890-421b-a62a-ee544191fa1e        4         34940   \n",
       "Christmas Island  74bb4936-9890-421b-a62a-ee544191fa1e        1         34941   \n",
       "Christmas Island  74bb4936-9890-421b-a62a-ee544191fa1e        4         34940   \n",
       "Christmas Island  74bb4936-9890-421b-a62a-ee544191fa1e        1         34941   \n",
       "Christmas Island  74bb4936-9890-421b-a62a-ee544191fa1e        4         34940   \n",
       "Christmas Island  74bb4936-9890-421b-a62a-ee544191fa1e        1         34941   \n",
       "Christmas Island  74bb4936-9890-421b-a62a-ee544191fa1e        4         34940   \n",
       "Christmas Island  74bb4936-9890-421b-a62a-ee544191fa1e        1         34941   \n",
       "\n",
       "                                              order_id  event_id  \\\n",
       "location                                                           \n",
       "Christmas Island  ad73a2a0-354a-40bf-81cd-ff017ac859d5    161951   \n",
       "Christmas Island  ad73a2a0-354a-40bf-81cd-ff017ac859d5    161951   \n",
       "Christmas Island  ad73a2a0-354a-40bf-81cd-ff017ac859d5    161952   \n",
       "Christmas Island  ad73a2a0-354a-40bf-81cd-ff017ac859d5    161952   \n",
       "Christmas Island  ad73a2a0-354a-40bf-81cd-ff017ac859d5    161953   \n",
       "Christmas Island  ad73a2a0-354a-40bf-81cd-ff017ac859d5    161953   \n",
       "Christmas Island  ad73a2a0-354a-40bf-81cd-ff017ac859d5    161954   \n",
       "Christmas Island  ad73a2a0-354a-40bf-81cd-ff017ac859d5    161954   \n",
       "Christmas Island  ad73a2a0-354a-40bf-81cd-ff017ac859d5    161955   \n",
       "Christmas Island  ad73a2a0-354a-40bf-81cd-ff017ac859d5    161955   \n",
       "Christmas Island  ad73a2a0-354a-40bf-81cd-ff017ac859d5    161956   \n",
       "Christmas Island  ad73a2a0-354a-40bf-81cd-ff017ac859d5    161956   \n",
       "Christmas Island  ad73a2a0-354a-40bf-81cd-ff017ac859d5    161957   \n",
       "Christmas Island  ad73a2a0-354a-40bf-81cd-ff017ac859d5    161957   \n",
       "Christmas Island  ad73a2a0-354a-40bf-81cd-ff017ac859d5    161958   \n",
       "Christmas Island  ad73a2a0-354a-40bf-81cd-ff017ac859d5    161958   \n",
       "Christmas Island  ad73a2a0-354a-40bf-81cd-ff017ac859d5    161959   \n",
       "Christmas Island  ad73a2a0-354a-40bf-81cd-ff017ac859d5    161959   \n",
       "Christmas Island  ad73a2a0-354a-40bf-81cd-ff017ac859d5    161960   \n",
       "Christmas Island  ad73a2a0-354a-40bf-81cd-ff017ac859d5    161960   \n",
       "\n",
       "                             event_timestamp  quantity currency  \\\n",
       "location                                                          \n",
       "Christmas Island  2024-03-26 11:21:06.639379         3      USD   \n",
       "Christmas Island  2024-03-26 11:21:06.639379         3      USD   \n",
       "Christmas Island  2024-03-21 13:01:50.266228         3      USD   \n",
       "Christmas Island  2024-03-21 13:01:50.266228         3      USD   \n",
       "Christmas Island  2024-03-20 02:34:28.814874         3      USD   \n",
       "Christmas Island  2024-03-20 02:34:28.814874         3      USD   \n",
       "Christmas Island  2024-03-25 11:26:41.849567         3      USD   \n",
       "Christmas Island  2024-03-25 11:26:41.849567         3      USD   \n",
       "Christmas Island  2024-03-30 04:03:18.224148         3      USD   \n",
       "Christmas Island  2024-03-30 04:03:18.224148         3      USD   \n",
       "Christmas Island  2024-03-30 04:03:18.224149         3      USD   \n",
       "Christmas Island  2024-03-30 04:03:18.224149         3      USD   \n",
       "Christmas Island  2024-03-30 04:03:18.224193         3      USD   \n",
       "Christmas Island  2024-03-30 04:03:18.224193         3      USD   \n",
       "Christmas Island  2024-03-30 04:03:18.224196         3      USD   \n",
       "Christmas Island  2024-03-30 04:03:18.224196         3      USD   \n",
       "Christmas Island  2024-03-30 04:03:18.224198         3      USD   \n",
       "Christmas Island  2024-03-30 04:03:18.224198         3      USD   \n",
       "Christmas Island  2024-03-30 04:14:18.224200         3      USD   \n",
       "Christmas Island  2024-03-30 04:14:18.224200         3      USD   \n",
       "\n",
       "                              checked_out_at  status  \n",
       "location                                              \n",
       "Christmas Island  2024-03-30 04:14:18.224200  failed  \n",
       "Christmas Island  2024-03-30 04:14:18.224200  failed  \n",
       "Christmas Island  2024-03-30 04:14:18.224200  failed  \n",
       "Christmas Island  2024-03-30 04:14:18.224200  failed  \n",
       "Christmas Island  2024-03-30 04:14:18.224200  failed  \n",
       "Christmas Island  2024-03-30 04:14:18.224200  failed  \n",
       "Christmas Island  2024-03-30 04:14:18.224200  failed  \n",
       "Christmas Island  2024-03-30 04:14:18.224200  failed  \n",
       "Christmas Island  2024-03-30 04:14:18.224200  failed  \n",
       "Christmas Island  2024-03-30 04:14:18.224200  failed  \n",
       "Christmas Island  2024-03-30 04:14:18.224200  failed  \n",
       "Christmas Island  2024-03-30 04:14:18.224200  failed  \n",
       "Christmas Island  2024-03-30 04:14:18.224200  failed  \n",
       "Christmas Island  2024-03-30 04:14:18.224200  failed  \n",
       "Christmas Island  2024-03-30 04:14:18.224200  failed  \n",
       "Christmas Island  2024-03-30 04:14:18.224200  failed  \n",
       "Christmas Island  2024-03-30 04:14:18.224200  failed  \n",
       "Christmas Island  2024-03-30 04:14:18.224200  failed  \n",
       "Christmas Island  2024-03-30 04:14:18.224200  failed  \n",
       "Christmas Island  2024-03-30 04:14:18.224200  failed  "
      ]
     },
     "execution_count": 73,
     "metadata": {},
     "output_type": "execute_result"
    }
   ],
   "source": [
    "file[file['customer_id'] == 'ef15a7b3-326c-405f-9eef-3dbf43c85a9d']"
   ]
  },
  {
   "cell_type": "code",
   "execution_count": 74,
   "id": "4058d33e",
   "metadata": {},
   "outputs": [
    {
     "data": {
      "text/plain": [
       "4594"
      ]
     },
     "execution_count": 74,
     "metadata": {},
     "output_type": "execute_result"
    }
   ],
   "source": [
    "# get the total number of unique customers\n",
    "file['customer_id'].nunique()"
   ]
  },
  {
   "cell_type": "code",
   "execution_count": 75,
   "id": "377fc33e",
   "metadata": {},
   "outputs": [
    {
     "data": {
      "text/plain": [
       "<Axes: xlabel='customer_id'>"
      ]
     },
     "execution_count": 75,
     "metadata": {},
     "output_type": "execute_result"
    },
    {
     "data": {
      "image/png": "[encoded data removed]",
      "text/plain": [
       "<Figure size 1000x600 with 1 Axes>"
      ]
     },
     "metadata": {},
     "output_type": "display_data"
    }
   ],
   "source": [
    "file['customer_id'].value_counts().sort_values(ascending=False).head(15).plot(kind = 'bar', figsize=(10, 6))"
   ]
  },
  {
   "cell_type": "code",
   "execution_count": 76,
   "id": "f7fbf287",
   "metadata": {},
   "outputs": [],
   "source": [
    "# pick one of the customers and see their behaviour\n",
    "\n",
    "mask = (file['customer_id'] == 'ef15a7b3-326c-405f-9eef-3dbf43c85a9d')"
   ]
  },
  {
   "cell_type": "code",
   "execution_count": 77,
   "id": "75068b06",
   "metadata": {},
   "outputs": [
    {
     "data": {
      "text/html": [
       "<div>\n",
       "<style scoped>\n",
       "    .dataframe tbody tr th:only-of-type {\n",
       "        vertical-align: middle;\n",
       "    }\n",
       "\n",
       "    .dataframe tbody tr th {\n",
       "        vertical-align: top;\n",
       "    }\n",
       "\n",
       "    .dataframe thead th {\n",
       "        text-align: right;\n",
       "    }\n",
       "</style>\n",
       "<table border=\"1\" class=\"dataframe\">\n",
       "  <thead>\n",
       "    <tr style=\"text-align: right;\">\n",
       "      <th></th>\n",
       "      <th>customer_id</th>\n",
       "      <th>device_id</th>\n",
       "      <th>item_id</th>\n",
       "      <th>line_item_id</th>\n",
       "      <th>order_id</th>\n",
       "      <th>event_id</th>\n",
       "      <th>event_timestamp</th>\n",
       "      <th>quantity</th>\n",
       "      <th>currency</th>\n",
       "      <th>checked_out_at</th>\n",
       "      <th>status</th>\n",
       "    </tr>\n",
       "    <tr>\n",
       "      <th>location</th>\n",
       "      <th></th>\n",
       "      <th></th>\n",
       "      <th></th>\n",
       "      <th></th>\n",
       "      <th></th>\n",
       "      <th></th>\n",
       "      <th></th>\n",
       "      <th></th>\n",
       "      <th></th>\n",
       "      <th></th>\n",
       "      <th></th>\n",
       "    </tr>\n",
       "  </thead>\n",
       "  <tbody>\n",
       "    <tr>\n",
       "      <th>Christmas Island</th>\n",
       "      <td>ef15a7b3-326c-405f-9eef-3dbf43c85a9d</td>\n",
       "      <td>74bb4936-9890-421b-a62a-ee544191fa1e</td>\n",
       "      <td>4</td>\n",
       "      <td>34940</td>\n",
       "      <td>ad73a2a0-354a-40bf-81cd-ff017ac859d5</td>\n",
       "      <td>161951</td>\n",
       "      <td>2024-03-26 11:21:06.639379</td>\n",
       "      <td>3</td>\n",
       "      <td>USD</td>\n",
       "      <td>2024-03-30 04:14:18.224200</td>\n",
       "      <td>failed</td>\n",
       "    </tr>\n",
       "    <tr>\n",
       "      <th>Christmas Island</th>\n",
       "      <td>ef15a7b3-326c-405f-9eef-3dbf43c85a9d</td>\n",
       "      <td>74bb4936-9890-421b-a62a-ee544191fa1e</td>\n",
       "      <td>1</td>\n",
       "      <td>34941</td>\n",
       "      <td>ad73a2a0-354a-40bf-81cd-ff017ac859d5</td>\n",
       "      <td>161951</td>\n",
       "      <td>2024-03-26 11:21:06.639379</td>\n",
       "      <td>3</td>\n",
       "      <td>USD</td>\n",
       "      <td>2024-03-30 04:14:18.224200</td>\n",
       "      <td>failed</td>\n",
       "    </tr>\n",
       "    <tr>\n",
       "      <th>Christmas Island</th>\n",
       "      <td>ef15a7b3-326c-405f-9eef-3dbf43c85a9d</td>\n",
       "      <td>74bb4936-9890-421b-a62a-ee544191fa1e</td>\n",
       "      <td>4</td>\n",
       "      <td>34940</td>\n",
       "      <td>ad73a2a0-354a-40bf-81cd-ff017ac859d5</td>\n",
       "      <td>161952</td>\n",
       "      <td>2024-03-21 13:01:50.266228</td>\n",
       "      <td>3</td>\n",
       "      <td>USD</td>\n",
       "      <td>2024-03-30 04:14:18.224200</td>\n",
       "      <td>failed</td>\n",
       "    </tr>\n",
       "    <tr>\n",
       "      <th>Christmas Island</th>\n",
       "      <td>ef15a7b3-326c-405f-9eef-3dbf43c85a9d</td>\n",
       "      <td>74bb4936-9890-421b-a62a-ee544191fa1e</td>\n",
       "      <td>1</td>\n",
       "      <td>34941</td>\n",
       "      <td>ad73a2a0-354a-40bf-81cd-ff017ac859d5</td>\n",
       "      <td>161952</td>\n",
       "      <td>2024-03-21 13:01:50.266228</td>\n",
       "      <td>3</td>\n",
       "      <td>USD</td>\n",
       "      <td>2024-03-30 04:14:18.224200</td>\n",
       "      <td>failed</td>\n",
       "    </tr>\n",
       "    <tr>\n",
       "      <th>Christmas Island</th>\n",
       "      <td>ef15a7b3-326c-405f-9eef-3dbf43c85a9d</td>\n",
       "      <td>74bb4936-9890-421b-a62a-ee544191fa1e</td>\n",
       "      <td>4</td>\n",
       "      <td>34940</td>\n",
       "      <td>ad73a2a0-354a-40bf-81cd-ff017ac859d5</td>\n",
       "      <td>161953</td>\n",
       "      <td>2024-03-20 02:34:28.814874</td>\n",
       "      <td>3</td>\n",
       "      <td>USD</td>\n",
       "      <td>2024-03-30 04:14:18.224200</td>\n",
       "      <td>failed</td>\n",
       "    </tr>\n",
       "  </tbody>\n",
       "</table>\n",
       "</div>"
      ],
      "text/plain": [
       "                                           customer_id  \\\n",
       "location                                                 \n",
       "Christmas Island  ef15a7b3-326c-405f-9eef-3dbf43c85a9d   \n",
       "Christmas Island  ef15a7b3-326c-405f-9eef-3dbf43c85a9d   \n",
       "Christmas Island  ef15a7b3-326c-405f-9eef-3dbf43c85a9d   \n",
       "Christmas Island  ef15a7b3-326c-405f-9eef-3dbf43c85a9d   \n",
       "Christmas Island  ef15a7b3-326c-405f-9eef-3dbf43c85a9d   \n",
       "\n",
       "                                             device_id  item_id  line_item_id  \\\n",
       "location                                                                        \n",
       "Christmas Island  74bb4936-9890-421b-a62a-ee544191fa1e        4         34940   \n",
       "Christmas Island  74bb4936-9890-421b-a62a-ee544191fa1e        1         34941   \n",
       "Christmas Island  74bb4936-9890-421b-a62a-ee544191fa1e        4         34940   \n",
       "Christmas Island  74bb4936-9890-421b-a62a-ee544191fa1e        1         34941   \n",
       "Christmas Island  74bb4936-9890-421b-a62a-ee544191fa1e        4         34940   \n",
       "\n",
       "                                              order_id  event_id  \\\n",
       "location                                                           \n",
       "Christmas Island  ad73a2a0-354a-40bf-81cd-ff017ac859d5    161951   \n",
       "Christmas Island  ad73a2a0-354a-40bf-81cd-ff017ac859d5    161951   \n",
       "Christmas Island  ad73a2a0-354a-40bf-81cd-ff017ac859d5    161952   \n",
       "Christmas Island  ad73a2a0-354a-40bf-81cd-ff017ac859d5    161952   \n",
       "Christmas Island  ad73a2a0-354a-40bf-81cd-ff017ac859d5    161953   \n",
       "\n",
       "                             event_timestamp  quantity currency  \\\n",
       "location                                                          \n",
       "Christmas Island  2024-03-26 11:21:06.639379         3      USD   \n",
       "Christmas Island  2024-03-26 11:21:06.639379         3      USD   \n",
       "Christmas Island  2024-03-21 13:01:50.266228         3      USD   \n",
       "Christmas Island  2024-03-21 13:01:50.266228         3      USD   \n",
       "Christmas Island  2024-03-20 02:34:28.814874         3      USD   \n",
       "\n",
       "                              checked_out_at  status  \n",
       "location                                              \n",
       "Christmas Island  2024-03-30 04:14:18.224200  failed  \n",
       "Christmas Island  2024-03-30 04:14:18.224200  failed  \n",
       "Christmas Island  2024-03-30 04:14:18.224200  failed  \n",
       "Christmas Island  2024-03-30 04:14:18.224200  failed  \n",
       "Christmas Island  2024-03-30 04:14:18.224200  failed  "
      ]
     },
     "execution_count": 77,
     "metadata": {},
     "output_type": "execute_result"
    }
   ],
   "source": [
    "file.loc[mask].head()"
   ]
  },
  {
   "cell_type": "code",
   "execution_count": 78,
   "id": "4983dcae",
   "metadata": {},
   "outputs": [
    {
     "data": {
      "text/html": [
       "<div>\n",
       "<style scoped>\n",
       "    .dataframe tbody tr th:only-of-type {\n",
       "        vertical-align: middle;\n",
       "    }\n",
       "\n",
       "    .dataframe tbody tr th {\n",
       "        vertical-align: top;\n",
       "    }\n",
       "\n",
       "    .dataframe thead th {\n",
       "        text-align: right;\n",
       "    }\n",
       "</style>\n",
       "<table border=\"1\" class=\"dataframe\">\n",
       "  <thead>\n",
       "    <tr style=\"text-align: right;\">\n",
       "      <th></th>\n",
       "      <th>customer_id</th>\n",
       "      <th>device_id</th>\n",
       "      <th>item_id</th>\n",
       "      <th>line_item_id</th>\n",
       "      <th>order_id</th>\n",
       "      <th>event_id</th>\n",
       "      <th>event_timestamp</th>\n",
       "      <th>quantity</th>\n",
       "      <th>currency</th>\n",
       "    </tr>\n",
       "    <tr>\n",
       "      <th>location</th>\n",
       "      <th></th>\n",
       "      <th></th>\n",
       "      <th></th>\n",
       "      <th></th>\n",
       "      <th></th>\n",
       "      <th></th>\n",
       "      <th></th>\n",
       "      <th></th>\n",
       "      <th></th>\n",
       "    </tr>\n",
       "  </thead>\n",
       "  <tbody>\n",
       "    <tr>\n",
       "      <th>Christmas Island</th>\n",
       "      <td>ef15a7b3-326c-405f-9eef-3dbf43c85a9d</td>\n",
       "      <td>74bb4936-9890-421b-a62a-ee544191fa1e</td>\n",
       "      <td>4</td>\n",
       "      <td>34940</td>\n",
       "      <td>ad73a2a0-354a-40bf-81cd-ff017ac859d5</td>\n",
       "      <td>161951</td>\n",
       "      <td>2024-03-26 11:21:06.639379</td>\n",
       "      <td>3</td>\n",
       "      <td>USD</td>\n",
       "    </tr>\n",
       "    <tr>\n",
       "      <th>Christmas Island</th>\n",
       "      <td>ef15a7b3-326c-405f-9eef-3dbf43c85a9d</td>\n",
       "      <td>74bb4936-9890-421b-a62a-ee544191fa1e</td>\n",
       "      <td>1</td>\n",
       "      <td>34941</td>\n",
       "      <td>ad73a2a0-354a-40bf-81cd-ff017ac859d5</td>\n",
       "      <td>161951</td>\n",
       "      <td>2024-03-26 11:21:06.639379</td>\n",
       "      <td>3</td>\n",
       "      <td>USD</td>\n",
       "    </tr>\n",
       "    <tr>\n",
       "      <th>Christmas Island</th>\n",
       "      <td>ef15a7b3-326c-405f-9eef-3dbf43c85a9d</td>\n",
       "      <td>74bb4936-9890-421b-a62a-ee544191fa1e</td>\n",
       "      <td>4</td>\n",
       "      <td>34940</td>\n",
       "      <td>ad73a2a0-354a-40bf-81cd-ff017ac859d5</td>\n",
       "      <td>161952</td>\n",
       "      <td>2024-03-21 13:01:50.266228</td>\n",
       "      <td>3</td>\n",
       "      <td>USD</td>\n",
       "    </tr>\n",
       "    <tr>\n",
       "      <th>Christmas Island</th>\n",
       "      <td>ef15a7b3-326c-405f-9eef-3dbf43c85a9d</td>\n",
       "      <td>74bb4936-9890-421b-a62a-ee544191fa1e</td>\n",
       "      <td>1</td>\n",
       "      <td>34941</td>\n",
       "      <td>ad73a2a0-354a-40bf-81cd-ff017ac859d5</td>\n",
       "      <td>161952</td>\n",
       "      <td>2024-03-21 13:01:50.266228</td>\n",
       "      <td>3</td>\n",
       "      <td>USD</td>\n",
       "    </tr>\n",
       "    <tr>\n",
       "      <th>Christmas Island</th>\n",
       "      <td>ef15a7b3-326c-405f-9eef-3dbf43c85a9d</td>\n",
       "      <td>74bb4936-9890-421b-a62a-ee544191fa1e</td>\n",
       "      <td>4</td>\n",
       "      <td>34940</td>\n",
       "      <td>ad73a2a0-354a-40bf-81cd-ff017ac859d5</td>\n",
       "      <td>161953</td>\n",
       "      <td>2024-03-20 02:34:28.814874</td>\n",
       "      <td>3</td>\n",
       "      <td>USD</td>\n",
       "    </tr>\n",
       "  </tbody>\n",
       "</table>\n",
       "</div>"
      ],
      "text/plain": [
       "                                           customer_id  \\\n",
       "location                                                 \n",
       "Christmas Island  ef15a7b3-326c-405f-9eef-3dbf43c85a9d   \n",
       "Christmas Island  ef15a7b3-326c-405f-9eef-3dbf43c85a9d   \n",
       "Christmas Island  ef15a7b3-326c-405f-9eef-3dbf43c85a9d   \n",
       "Christmas Island  ef15a7b3-326c-405f-9eef-3dbf43c85a9d   \n",
       "Christmas Island  ef15a7b3-326c-405f-9eef-3dbf43c85a9d   \n",
       "\n",
       "                                             device_id  item_id  line_item_id  \\\n",
       "location                                                                        \n",
       "Christmas Island  74bb4936-9890-421b-a62a-ee544191fa1e        4         34940   \n",
       "Christmas Island  74bb4936-9890-421b-a62a-ee544191fa1e        1         34941   \n",
       "Christmas Island  74bb4936-9890-421b-a62a-ee544191fa1e        4         34940   \n",
       "Christmas Island  74bb4936-9890-421b-a62a-ee544191fa1e        1         34941   \n",
       "Christmas Island  74bb4936-9890-421b-a62a-ee544191fa1e        4         34940   \n",
       "\n",
       "                                              order_id  event_id  \\\n",
       "location                                                           \n",
       "Christmas Island  ad73a2a0-354a-40bf-81cd-ff017ac859d5    161951   \n",
       "Christmas Island  ad73a2a0-354a-40bf-81cd-ff017ac859d5    161951   \n",
       "Christmas Island  ad73a2a0-354a-40bf-81cd-ff017ac859d5    161952   \n",
       "Christmas Island  ad73a2a0-354a-40bf-81cd-ff017ac859d5    161952   \n",
       "Christmas Island  ad73a2a0-354a-40bf-81cd-ff017ac859d5    161953   \n",
       "\n",
       "                             event_timestamp  quantity currency  \n",
       "location                                                         \n",
       "Christmas Island  2024-03-26 11:21:06.639379         3      USD  \n",
       "Christmas Island  2024-03-26 11:21:06.639379         3      USD  \n",
       "Christmas Island  2024-03-21 13:01:50.266228         3      USD  \n",
       "Christmas Island  2024-03-21 13:01:50.266228         3      USD  \n",
       "Christmas Island  2024-03-20 02:34:28.814874         3      USD  "
      ]
     },
     "execution_count": 78,
     "metadata": {},
     "output_type": "execute_result"
    }
   ],
   "source": [
    "file.loc[mask, 'customer_id':'currency'].head()"
   ]
  },
  {
   "cell_type": "code",
   "execution_count": 79,
   "id": "aaed45c8",
   "metadata": {},
   "outputs": [
    {
     "data": {
      "text/plain": [
       "currency\n",
       "USD    198037\n",
       "GBP    191403\n",
       "NGN    188880\n",
       "Name: count, dtype: int64"
      ]
     },
     "execution_count": 79,
     "metadata": {},
     "output_type": "execute_result"
    }
   ],
   "source": [
    "currency_and_no_of_times_used = file['currency'].value_counts()\n",
    "currency_and_no_of_times_used\n"
   ]
  },
  {
   "cell_type": "code",
   "execution_count": 102,
   "id": "26260836",
   "metadata": {},
   "outputs": [
    {
     "data": {
      "text/plain": [
       "<Axes: ylabel='count'>"
      ]
     },
     "execution_count": 102,
     "metadata": {},
     "output_type": "execute_result"
    },
    {
     "data": {
      "image/png": "[encoded data removed]",
      "text/plain": [
       "<Figure size 640x480 with 1 Axes>"
      ]
     },
     "metadata": {},
     "output_type": "display_data"
    }
   ],
   "source": [
    "currency_and_no_of_times_used.plot(kind='pie', autopct='%.1f%%')"
   ]
  },
  {
   "cell_type": "code",
   "execution_count": 81,
   "id": "64c79059",
   "metadata": {},
   "outputs": [],
   "source": [
    "## Applying multiple filters....\n",
    "# here we would be using the \"&\" and \"|\" operators...\n",
    "# We have picked out the this particular customer... and the successful  transaction\n",
    "mask1 = file['customer_id'] == 'ebcb2343-be1b-421e-83eb-6f79a321d999'"
   ]
  },
  {
   "cell_type": "code",
   "execution_count": 82,
   "id": "d8c5e493",
   "metadata": {},
   "outputs": [],
   "source": [
    "mask2 = (file['customer_id'] == 'ebcb2343-be1b-421e-83eb-6f79a321d999') & (file['status'] == 'success')"
   ]
  },
  {
   "cell_type": "code",
   "execution_count": 83,
   "id": "625cce96",
   "metadata": {},
   "outputs": [
    {
     "data": {
      "text/html": [
       "<div>\n",
       "<style scoped>\n",
       "    .dataframe tbody tr th:only-of-type {\n",
       "        vertical-align: middle;\n",
       "    }\n",
       "\n",
       "    .dataframe tbody tr th {\n",
       "        vertical-align: top;\n",
       "    }\n",
       "\n",
       "    .dataframe thead th {\n",
       "        text-align: right;\n",
       "    }\n",
       "</style>\n",
       "<table border=\"1\" class=\"dataframe\">\n",
       "  <thead>\n",
       "    <tr style=\"text-align: right;\">\n",
       "      <th></th>\n",
       "      <th>customer_id</th>\n",
       "      <th>device_id</th>\n",
       "      <th>item_id</th>\n",
       "      <th>line_item_id</th>\n",
       "      <th>order_id</th>\n",
       "      <th>event_id</th>\n",
       "      <th>event_timestamp</th>\n",
       "      <th>quantity</th>\n",
       "      <th>currency</th>\n",
       "      <th>checked_out_at</th>\n",
       "      <th>status</th>\n",
       "    </tr>\n",
       "    <tr>\n",
       "      <th>location</th>\n",
       "      <th></th>\n",
       "      <th></th>\n",
       "      <th></th>\n",
       "      <th></th>\n",
       "      <th></th>\n",
       "      <th></th>\n",
       "      <th></th>\n",
       "      <th></th>\n",
       "      <th></th>\n",
       "      <th></th>\n",
       "      <th></th>\n",
       "    </tr>\n",
       "  </thead>\n",
       "  <tbody>\n",
       "    <tr>\n",
       "      <th>Wallis and Futuna</th>\n",
       "      <td>ebcb2343-be1b-421e-83eb-6f79a321d999</td>\n",
       "      <td>aa3a57b3-6636-4b91-8fa8-56b0524de6c2</td>\n",
       "      <td>5</td>\n",
       "      <td>26108</td>\n",
       "      <td>5984596b-0ed5-4571-8e79-b261e6f138ad</td>\n",
       "      <td>121373</td>\n",
       "      <td>2024-03-27 12:43:53.991103</td>\n",
       "      <td>5</td>\n",
       "      <td>NGN</td>\n",
       "      <td>2024-03-30 04:14:16.072620</td>\n",
       "      <td>success</td>\n",
       "    </tr>\n",
       "    <tr>\n",
       "      <th>Wallis and Futuna</th>\n",
       "      <td>ebcb2343-be1b-421e-83eb-6f79a321d999</td>\n",
       "      <td>aa3a57b3-6636-4b91-8fa8-56b0524de6c2</td>\n",
       "      <td>11</td>\n",
       "      <td>26109</td>\n",
       "      <td>5984596b-0ed5-4571-8e79-b261e6f138ad</td>\n",
       "      <td>121373</td>\n",
       "      <td>2024-03-27 12:43:53.991103</td>\n",
       "      <td>1</td>\n",
       "      <td>NGN</td>\n",
       "      <td>2024-03-30 04:14:16.072620</td>\n",
       "      <td>success</td>\n",
       "    </tr>\n",
       "    <tr>\n",
       "      <th>Wallis and Futuna</th>\n",
       "      <td>ebcb2343-be1b-421e-83eb-6f79a321d999</td>\n",
       "      <td>aa3a57b3-6636-4b91-8fa8-56b0524de6c2</td>\n",
       "      <td>4</td>\n",
       "      <td>26110</td>\n",
       "      <td>5984596b-0ed5-4571-8e79-b261e6f138ad</td>\n",
       "      <td>121373</td>\n",
       "      <td>2024-03-27 12:43:53.991103</td>\n",
       "      <td>2</td>\n",
       "      <td>NGN</td>\n",
       "      <td>2024-03-30 04:14:16.072620</td>\n",
       "      <td>success</td>\n",
       "    </tr>\n",
       "  </tbody>\n",
       "</table>\n",
       "</div>"
      ],
      "text/plain": [
       "                                            customer_id  \\\n",
       "location                                                  \n",
       "Wallis and Futuna  ebcb2343-be1b-421e-83eb-6f79a321d999   \n",
       "Wallis and Futuna  ebcb2343-be1b-421e-83eb-6f79a321d999   \n",
       "Wallis and Futuna  ebcb2343-be1b-421e-83eb-6f79a321d999   \n",
       "\n",
       "                                              device_id  item_id  \\\n",
       "location                                                           \n",
       "Wallis and Futuna  aa3a57b3-6636-4b91-8fa8-56b0524de6c2        5   \n",
       "Wallis and Futuna  aa3a57b3-6636-4b91-8fa8-56b0524de6c2       11   \n",
       "Wallis and Futuna  aa3a57b3-6636-4b91-8fa8-56b0524de6c2        4   \n",
       "\n",
       "                   line_item_id                              order_id  \\\n",
       "location                                                                \n",
       "Wallis and Futuna         26108  5984596b-0ed5-4571-8e79-b261e6f138ad   \n",
       "Wallis and Futuna         26109  5984596b-0ed5-4571-8e79-b261e6f138ad   \n",
       "Wallis and Futuna         26110  5984596b-0ed5-4571-8e79-b261e6f138ad   \n",
       "\n",
       "                   event_id             event_timestamp  quantity currency  \\\n",
       "location                                                                     \n",
       "Wallis and Futuna    121373  2024-03-27 12:43:53.991103         5      NGN   \n",
       "Wallis and Futuna    121373  2024-03-27 12:43:53.991103         1      NGN   \n",
       "Wallis and Futuna    121373  2024-03-27 12:43:53.991103         2      NGN   \n",
       "\n",
       "                               checked_out_at   status  \n",
       "location                                                \n",
       "Wallis and Futuna  2024-03-30 04:14:16.072620  success  \n",
       "Wallis and Futuna  2024-03-30 04:14:16.072620  success  \n",
       "Wallis and Futuna  2024-03-30 04:14:16.072620  success  "
      ]
     },
     "execution_count": 83,
     "metadata": {},
     "output_type": "execute_result"
    }
   ],
   "source": [
    "file.loc[mask2].head(3)"
   ]
  },
  {
   "cell_type": "code",
   "execution_count": 84,
   "id": "6feb77e1",
   "metadata": {},
   "outputs": [],
   "source": [
    "# lets see the numbers of sucessful transaction carried out by this customer\n",
    "\n",
    "customer = file.loc[mask2]"
   ]
  },
  {
   "cell_type": "code",
   "execution_count": 85,
   "id": "60e571af",
   "metadata": {},
   "outputs": [
    {
     "data": {
      "text/plain": [
       "status\n",
       "success    360\n",
       "Name: count, dtype: int64"
      ]
     },
     "execution_count": 85,
     "metadata": {},
     "output_type": "execute_result"
    }
   ],
   "source": [
    "customer['status'].value_counts()\n",
    "\n",
    "# The output showsthat the particular customer has not experienced failed transaction  at all."
   ]
  },
  {
   "cell_type": "code",
   "execution_count": 86,
   "id": "8fc0bdc1",
   "metadata": {},
   "outputs": [],
   "source": [
    "#Finding out the number of failed transactions compared to others\n",
    "transaction_status = file['status'].value_counts()"
   ]
  },
  {
   "cell_type": "code",
   "execution_count": 55,
   "id": "3f60ceba",
   "metadata": {},
   "outputs": [
    {
     "data": {
      "text/plain": [
       "<Axes: xlabel='status'>"
      ]
     },
     "execution_count": 55,
     "metadata": {},
     "output_type": "execute_result"
    },
    {
     "data": {
      "image/png": "[encoded data removed]",
      "text/plain": [
       "<Figure size 640x480 with 1 Axes>"
      ]
     },
     "metadata": {},
     "output_type": "display_data"
    }
   ],
   "source": [
    "transaction_status.plot(kind='bar')"
   ]
  },
  {
   "cell_type": "code",
   "execution_count": 54,
   "id": "317a76de",
   "metadata": {},
   "outputs": [],
   "source": [
    "#Checking if currency has any effect on status\n",
    "\n",
    "currency_by_status = file.groupby('status')['currency']\n"
   ]
  },
  {
   "cell_type": "code",
   "execution_count": null,
   "id": "b432c918",
   "metadata": {},
   "outputs": [
    {
     "data": {
      "text/html": [
       "<div>\n",
       "<style scoped>\n",
       "    .dataframe tbody tr th:only-of-type {\n",
       "        vertical-align: middle;\n",
       "    }\n",
       "\n",
       "    .dataframe tbody tr th {\n",
       "        vertical-align: top;\n",
       "    }\n",
       "\n",
       "    .dataframe thead th {\n",
       "        text-align: right;\n",
       "    }\n",
       "</style>\n",
       "<table border=\"1\" class=\"dataframe\">\n",
       "  <thead>\n",
       "    <tr style=\"text-align: right;\">\n",
       "      <th></th>\n",
       "      <th>customer_id</th>\n",
       "      <th>device_id</th>\n",
       "      <th>item_id</th>\n",
       "      <th>line_item_id</th>\n",
       "      <th>order_id</th>\n",
       "      <th>event_id</th>\n",
       "      <th>event_timestamp</th>\n",
       "      <th>quantity</th>\n",
       "      <th>currency</th>\n",
       "      <th>checked_out_at</th>\n",
       "      <th>status</th>\n",
       "    </tr>\n",
       "    <tr>\n",
       "      <th>location</th>\n",
       "      <th></th>\n",
       "      <th></th>\n",
       "      <th></th>\n",
       "      <th></th>\n",
       "      <th></th>\n",
       "      <th></th>\n",
       "      <th></th>\n",
       "      <th></th>\n",
       "      <th></th>\n",
       "      <th></th>\n",
       "      <th></th>\n",
       "    </tr>\n",
       "  </thead>\n",
       "  <tbody>\n",
       "    <tr>\n",
       "      <th>Venezuela</th>\n",
       "      <td>fac04056-f7aa-49b1-9ac6-7e48876f77e7</td>\n",
       "      <td>3842175e-653f-46c4-9a1b-21302def9917</td>\n",
       "      <td>12</td>\n",
       "      <td>5885</td>\n",
       "      <td>132a5ccc-e2c1-457c-995e-fee6b64fc828</td>\n",
       "      <td>27026</td>\n",
       "      <td>2024-03-30 04:03:11.092115</td>\n",
       "      <td>3</td>\n",
       "      <td>GBP</td>\n",
       "      <td>2024-03-30 04:19:11.092183</td>\n",
       "      <td>cancelled</td>\n",
       "    </tr>\n",
       "    <tr>\n",
       "      <th>Venezuela</th>\n",
       "      <td>fac04056-f7aa-49b1-9ac6-7e48876f77e7</td>\n",
       "      <td>3842175e-653f-46c4-9a1b-21302def9917</td>\n",
       "      <td>11</td>\n",
       "      <td>5886</td>\n",
       "      <td>132a5ccc-e2c1-457c-995e-fee6b64fc828</td>\n",
       "      <td>27026</td>\n",
       "      <td>2024-03-30 04:03:11.092115</td>\n",
       "      <td>2</td>\n",
       "      <td>GBP</td>\n",
       "      <td>2024-03-30 04:19:11.092183</td>\n",
       "      <td>cancelled</td>\n",
       "    </tr>\n",
       "    <tr>\n",
       "      <th>Venezuela</th>\n",
       "      <td>fac04056-f7aa-49b1-9ac6-7e48876f77e7</td>\n",
       "      <td>3842175e-653f-46c4-9a1b-21302def9917</td>\n",
       "      <td>13</td>\n",
       "      <td>5887</td>\n",
       "      <td>132a5ccc-e2c1-457c-995e-fee6b64fc828</td>\n",
       "      <td>27026</td>\n",
       "      <td>2024-03-30 04:03:11.092115</td>\n",
       "      <td>2</td>\n",
       "      <td>GBP</td>\n",
       "      <td>2024-03-30 04:19:11.092183</td>\n",
       "      <td>cancelled</td>\n",
       "    </tr>\n",
       "  </tbody>\n",
       "</table>\n",
       "</div>"
      ],
      "text/plain": [
       "                                    customer_id  \\\n",
       "location                                          \n",
       "Venezuela  fac04056-f7aa-49b1-9ac6-7e48876f77e7   \n",
       "Venezuela  fac04056-f7aa-49b1-9ac6-7e48876f77e7   \n",
       "Venezuela  fac04056-f7aa-49b1-9ac6-7e48876f77e7   \n",
       "\n",
       "                                      device_id  item_id  line_item_id  \\\n",
       "location                                                                 \n",
       "Venezuela  3842175e-653f-46c4-9a1b-21302def9917       12          5885   \n",
       "Venezuela  3842175e-653f-46c4-9a1b-21302def9917       11          5886   \n",
       "Venezuela  3842175e-653f-46c4-9a1b-21302def9917       13          5887   \n",
       "\n",
       "                                       order_id  event_id  \\\n",
       "location                                                    \n",
       "Venezuela  132a5ccc-e2c1-457c-995e-fee6b64fc828     27026   \n",
       "Venezuela  132a5ccc-e2c1-457c-995e-fee6b64fc828     27026   \n",
       "Venezuela  132a5ccc-e2c1-457c-995e-fee6b64fc828     27026   \n",
       "\n",
       "                      event_timestamp  quantity currency  \\\n",
       "location                                                   \n",
       "Venezuela  2024-03-30 04:03:11.092115         3      GBP   \n",
       "Venezuela  2024-03-30 04:03:11.092115         2      GBP   \n",
       "Venezuela  2024-03-30 04:03:11.092115         2      GBP   \n",
       "\n",
       "                       checked_out_at     status  \n",
       "location                                          \n",
       "Venezuela  2024-03-30 04:19:11.092183  cancelled  \n",
       "Venezuela  2024-03-30 04:19:11.092183  cancelled  \n",
       "Venezuela  2024-03-30 04:19:11.092183  cancelled  "
      ]
     },
     "execution_count": 89,
     "metadata": {},
     "output_type": "execute_result"
    }
   ],
   "source": [
    "# Highlighting Venezuela as a case study\n",
    "\n",
    "venezuela = file.loc['Venezuela']\n",
    "venezuela.head(3)\n"
   ]
  },
  {
   "cell_type": "code",
   "execution_count": 90,
   "id": "dc881c72",
   "metadata": {},
   "outputs": [
    {
     "name": "stdout",
     "output_type": "stream",
     "text": [
      "<class 'pandas.core.frame.DataFrame'>\n",
      "Index: 1875 entries, Venezuela to Venezuela\n",
      "Data columns (total 11 columns):\n",
      " #   Column           Non-Null Count  Dtype \n",
      "---  ------           --------------  ----- \n",
      " 0   customer_id      1875 non-null   object\n",
      " 1   device_id        1875 non-null   object\n",
      " 2   item_id          1875 non-null   int64 \n",
      " 3   line_item_id     1875 non-null   int64 \n",
      " 4   order_id         1875 non-null   object\n",
      " 5   event_id         1875 non-null   int64 \n",
      " 6   event_timestamp  1875 non-null   object\n",
      " 7   quantity         1875 non-null   int64 \n",
      " 8   currency         1875 non-null   object\n",
      " 9   checked_out_at   1875 non-null   object\n",
      " 10  status           1875 non-null   object\n",
      "dtypes: int64(4), object(7)\n",
      "memory usage: 175.8+ KB\n"
     ]
    }
   ],
   "source": [
    "venezuela.info()"
   ]
  },
  {
   "cell_type": "code",
   "execution_count": 92,
   "id": "ce0b1aab",
   "metadata": {},
   "outputs": [
    {
     "data": {
      "text/plain": [
       "(1875, 11)"
      ]
     },
     "execution_count": 92,
     "metadata": {},
     "output_type": "execute_result"
    }
   ],
   "source": [
    "# checking the shape of venezuela data. The output shows 1875 rows and 11 columns\n",
    "venezuela.shape"
   ]
  },
  {
   "cell_type": "code",
   "execution_count": 93,
   "id": "7045ab85",
   "metadata": {},
   "outputs": [],
   "source": [
    "# Discovering all transaction status in Venezuela\n",
    "failed = venezuela[venezuela['status'] == 'failed']\n",
    "success = venezuela[venezuela['status'] == 'success']\n",
    "cancelled = venezuela[venezuela['status'] == 'cancelled']\n"
   ]
  },
  {
   "cell_type": "code",
   "execution_count": 94,
   "id": "8af78ab2",
   "metadata": {},
   "outputs": [
    {
     "data": {
      "text/html": [
       "<div>\n",
       "<style scoped>\n",
       "    .dataframe tbody tr th:only-of-type {\n",
       "        vertical-align: middle;\n",
       "    }\n",
       "\n",
       "    .dataframe tbody tr th {\n",
       "        vertical-align: top;\n",
       "    }\n",
       "\n",
       "    .dataframe thead th {\n",
       "        text-align: right;\n",
       "    }\n",
       "</style>\n",
       "<table border=\"1\" class=\"dataframe\">\n",
       "  <thead>\n",
       "    <tr style=\"text-align: right;\">\n",
       "      <th></th>\n",
       "      <th>customer_id</th>\n",
       "      <th>device_id</th>\n",
       "      <th>item_id</th>\n",
       "      <th>line_item_id</th>\n",
       "      <th>order_id</th>\n",
       "      <th>event_id</th>\n",
       "      <th>event_timestamp</th>\n",
       "      <th>quantity</th>\n",
       "      <th>currency</th>\n",
       "      <th>checked_out_at</th>\n",
       "      <th>status</th>\n",
       "    </tr>\n",
       "    <tr>\n",
       "      <th>location</th>\n",
       "      <th></th>\n",
       "      <th></th>\n",
       "      <th></th>\n",
       "      <th></th>\n",
       "      <th></th>\n",
       "      <th></th>\n",
       "      <th></th>\n",
       "      <th></th>\n",
       "      <th></th>\n",
       "      <th></th>\n",
       "      <th></th>\n",
       "    </tr>\n",
       "  </thead>\n",
       "  <tbody>\n",
       "    <tr>\n",
       "      <th>Venezuela</th>\n",
       "      <td>fac04056-f7aa-49b1-9ac6-7e48876f77e7</td>\n",
       "      <td>3842175e-653f-46c4-9a1b-21302def9917</td>\n",
       "      <td>12</td>\n",
       "      <td>5885</td>\n",
       "      <td>132a5ccc-e2c1-457c-995e-fee6b64fc828</td>\n",
       "      <td>27026</td>\n",
       "      <td>2024-03-30 04:03:11.092115</td>\n",
       "      <td>3</td>\n",
       "      <td>GBP</td>\n",
       "      <td>2024-03-30 04:19:11.092183</td>\n",
       "      <td>cancelled</td>\n",
       "    </tr>\n",
       "    <tr>\n",
       "      <th>Venezuela</th>\n",
       "      <td>fac04056-f7aa-49b1-9ac6-7e48876f77e7</td>\n",
       "      <td>3842175e-653f-46c4-9a1b-21302def9917</td>\n",
       "      <td>11</td>\n",
       "      <td>5886</td>\n",
       "      <td>132a5ccc-e2c1-457c-995e-fee6b64fc828</td>\n",
       "      <td>27026</td>\n",
       "      <td>2024-03-30 04:03:11.092115</td>\n",
       "      <td>2</td>\n",
       "      <td>GBP</td>\n",
       "      <td>2024-03-30 04:19:11.092183</td>\n",
       "      <td>cancelled</td>\n",
       "    </tr>\n",
       "    <tr>\n",
       "      <th>Venezuela</th>\n",
       "      <td>fac04056-f7aa-49b1-9ac6-7e48876f77e7</td>\n",
       "      <td>3842175e-653f-46c4-9a1b-21302def9917</td>\n",
       "      <td>13</td>\n",
       "      <td>5887</td>\n",
       "      <td>132a5ccc-e2c1-457c-995e-fee6b64fc828</td>\n",
       "      <td>27026</td>\n",
       "      <td>2024-03-30 04:03:11.092115</td>\n",
       "      <td>2</td>\n",
       "      <td>GBP</td>\n",
       "      <td>2024-03-30 04:19:11.092183</td>\n",
       "      <td>cancelled</td>\n",
       "    </tr>\n",
       "    <tr>\n",
       "      <th>Venezuela</th>\n",
       "      <td>fac04056-f7aa-49b1-9ac6-7e48876f77e7</td>\n",
       "      <td>3842175e-653f-46c4-9a1b-21302def9917</td>\n",
       "      <td>4</td>\n",
       "      <td>5888</td>\n",
       "      <td>132a5ccc-e2c1-457c-995e-fee6b64fc828</td>\n",
       "      <td>27026</td>\n",
       "      <td>2024-03-30 04:03:11.092115</td>\n",
       "      <td>4</td>\n",
       "      <td>GBP</td>\n",
       "      <td>2024-03-30 04:19:11.092183</td>\n",
       "      <td>cancelled</td>\n",
       "    </tr>\n",
       "  </tbody>\n",
       "</table>\n",
       "</div>"
      ],
      "text/plain": [
       "                                    customer_id  \\\n",
       "location                                          \n",
       "Venezuela  fac04056-f7aa-49b1-9ac6-7e48876f77e7   \n",
       "Venezuela  fac04056-f7aa-49b1-9ac6-7e48876f77e7   \n",
       "Venezuela  fac04056-f7aa-49b1-9ac6-7e48876f77e7   \n",
       "Venezuela  fac04056-f7aa-49b1-9ac6-7e48876f77e7   \n",
       "\n",
       "                                      device_id  item_id  line_item_id  \\\n",
       "location                                                                 \n",
       "Venezuela  3842175e-653f-46c4-9a1b-21302def9917       12          5885   \n",
       "Venezuela  3842175e-653f-46c4-9a1b-21302def9917       11          5886   \n",
       "Venezuela  3842175e-653f-46c4-9a1b-21302def9917       13          5887   \n",
       "Venezuela  3842175e-653f-46c4-9a1b-21302def9917        4          5888   \n",
       "\n",
       "                                       order_id  event_id  \\\n",
       "location                                                    \n",
       "Venezuela  132a5ccc-e2c1-457c-995e-fee6b64fc828     27026   \n",
       "Venezuela  132a5ccc-e2c1-457c-995e-fee6b64fc828     27026   \n",
       "Venezuela  132a5ccc-e2c1-457c-995e-fee6b64fc828     27026   \n",
       "Venezuela  132a5ccc-e2c1-457c-995e-fee6b64fc828     27026   \n",
       "\n",
       "                      event_timestamp  quantity currency  \\\n",
       "location                                                   \n",
       "Venezuela  2024-03-30 04:03:11.092115         3      GBP   \n",
       "Venezuela  2024-03-30 04:03:11.092115         2      GBP   \n",
       "Venezuela  2024-03-30 04:03:11.092115         2      GBP   \n",
       "Venezuela  2024-03-30 04:03:11.092115         4      GBP   \n",
       "\n",
       "                       checked_out_at     status  \n",
       "location                                          \n",
       "Venezuela  2024-03-30 04:19:11.092183  cancelled  \n",
       "Venezuela  2024-03-30 04:19:11.092183  cancelled  \n",
       "Venezuela  2024-03-30 04:19:11.092183  cancelled  \n",
       "Venezuela  2024-03-30 04:19:11.092183  cancelled  "
      ]
     },
     "execution_count": 94,
     "metadata": {},
     "output_type": "execute_result"
    }
   ],
   "source": [
    "cancelled.head(4)"
   ]
  },
  {
   "cell_type": "code",
   "execution_count": null,
   "id": "13984424",
   "metadata": {},
   "outputs": [
    {
     "data": {
      "text/plain": [
       "(884, 11)"
      ]
     },
     "execution_count": 98,
     "metadata": {},
     "output_type": "execute_result"
    }
   ],
   "source": [
    "# checking the total numbers of failed transactions\n",
    "failed.shape\n",
    "\n",
    "# The output shows that there are 884 failed transactions"
   ]
  },
  {
   "cell_type": "code",
   "execution_count": 100,
   "id": "5d7e7709",
   "metadata": {},
   "outputs": [
    {
     "data": {
      "text/plain": [
       "10"
      ]
     },
     "execution_count": 100,
     "metadata": {},
     "output_type": "execute_result"
    }
   ],
   "source": [
    "# checking the total number of people who experienced failed tranactions\n",
    "\n",
    "failed.customer_id.nunique()"
   ]
  },
  {
   "cell_type": "code",
   "execution_count": null,
   "id": "3530ea84",
   "metadata": {},
   "outputs": [
    {
     "data": {
      "text/plain": [
       "array(['73466005-4251-41e3-b0f6-2c769b8070e4',\n",
       "       'a1a20b8a-c896-4a7d-bef6-de2b817c92dc',\n",
       "       '0509bb42-bc58-48fd-8f55-583b59974fa7',\n",
       "       '62f07e90-e9aa-4e39-82e0-0b670a72458b',\n",
       "       '46753a24-fef0-4115-b601-30f26aaeb6ad',\n",
       "       '7df232a8-a103-4591-a390-4fc6842d5829',\n",
       "       '695ecd9d-25f8-483a-9da4-3463b5943c93',\n",
       "       '8ee29849-d3b0-4ac5-8f39-fecacb2dfa64',\n",
       "       '3d534c87-f162-4b09-bb73-ab194cec491b',\n",
       "       '7847cae3-e3b6-4076-93ed-0a5366c5639c'], dtype=object)"
      ]
     },
     "execution_count": 99,
     "metadata": {},
     "output_type": "execute_result"
    }
   ],
   "source": [
    "# checking the particular people whose transactions failed\n",
    "failed.customer_id.unique()\n",
    "\n",
    "# The output shows that there are 10 people whose transactions failed"
   ]
  },
  {
   "cell_type": "code",
   "execution_count": 106,
   "id": "de606627",
   "metadata": {},
   "outputs": [],
   "source": [
    "# Picking a random customer to see if I can garner any information\n",
    "\n",
    "cust1 = failed[failed['customer_id'] == '7847cae3-e3b6-4076-93ed-0a5366c5639c']"
   ]
  },
  {
   "cell_type": "code",
   "execution_count": null,
   "id": "c92ecefd",
   "metadata": {},
   "outputs": [
    {
     "data": {
      "text/plain": [
       "(78, 11)"
      ]
     },
     "execution_count": 107,
     "metadata": {},
     "output_type": "execute_result"
    }
   ],
   "source": [
    "cust1.shape\n",
    "\n",
    "# The result shows that this particular customer has 78 failed transactions"
   ]
  },
  {
   "cell_type": "code",
   "execution_count": null,
   "id": "4b99f2d0",
   "metadata": {},
   "outputs": [
    {
     "data": {
      "text/plain": [
       "array(['USD'], dtype=object)"
      ]
     },
     "execution_count": 108,
     "metadata": {},
     "output_type": "execute_result"
    }
   ],
   "source": [
    "# Confirming the currency this customer uses to carry out his/her transactions\n",
    "\n",
    "cust1.currency.unique()\n",
    "\n",
    "# The result shows that the customer spends US Dollars"
   ]
  },
  {
   "cell_type": "code",
   "execution_count": 112,
   "id": "02a87a4f",
   "metadata": {},
   "outputs": [
    {
     "data": {
      "text/html": [
       "<div>\n",
       "<style scoped>\n",
       "    .dataframe tbody tr th:only-of-type {\n",
       "        vertical-align: middle;\n",
       "    }\n",
       "\n",
       "    .dataframe tbody tr th {\n",
       "        vertical-align: top;\n",
       "    }\n",
       "\n",
       "    .dataframe thead th {\n",
       "        text-align: right;\n",
       "    }\n",
       "</style>\n",
       "<table border=\"1\" class=\"dataframe\">\n",
       "  <thead>\n",
       "    <tr style=\"text-align: right;\">\n",
       "      <th></th>\n",
       "      <th>customer_id</th>\n",
       "      <th>device_id</th>\n",
       "      <th>item_id</th>\n",
       "      <th>line_item_id</th>\n",
       "      <th>order_id</th>\n",
       "      <th>event_id</th>\n",
       "      <th>event_timestamp</th>\n",
       "      <th>quantity</th>\n",
       "      <th>currency</th>\n",
       "      <th>checked_out_at</th>\n",
       "      <th>status</th>\n",
       "    </tr>\n",
       "    <tr>\n",
       "      <th>location</th>\n",
       "      <th></th>\n",
       "      <th></th>\n",
       "      <th></th>\n",
       "      <th></th>\n",
       "      <th></th>\n",
       "      <th></th>\n",
       "      <th></th>\n",
       "      <th></th>\n",
       "      <th></th>\n",
       "      <th></th>\n",
       "      <th></th>\n",
       "    </tr>\n",
       "  </thead>\n",
       "  <tbody>\n",
       "  </tbody>\n",
       "</table>\n",
       "</div>"
      ],
      "text/plain": [
       "Empty DataFrame\n",
       "Columns: [customer_id, device_id, item_id, line_item_id, order_id, event_id, event_timestamp, quantity, currency, checked_out_at, status]\n",
       "Index: []"
      ]
     },
     "execution_count": 112,
     "metadata": {},
     "output_type": "execute_result"
    }
   ],
   "source": [
    "# confirming the successful transactions this customer carried out\n",
    "\n",
    "success[success['customer_id'] == '7847cae3-e3b6-4076-93ed-0a5366c5639c']\n",
    "\n",
    "# The result reveal that this customer never had any successful transaction"
   ]
  },
  {
   "cell_type": "code",
   "execution_count": null,
   "id": "4cabf493",
   "metadata": {},
   "outputs": [
    {
     "data": {
      "text/plain": [
       "event_timestamp\n",
       "2024-03-28 10:05:07.521518    6\n",
       "2024-03-23 17:04:21.604671    6\n",
       "2024-03-30 04:03:17.582012    6\n",
       "2024-03-30 04:03:17.582013    6\n",
       "2024-03-30 04:03:17.582073    6\n",
       "2024-03-30 04:03:17.582080    6\n",
       "2024-03-30 04:03:17.582081    6\n",
       "2024-03-30 04:03:17.582083    6\n",
       "2024-03-30 04:03:17.582085    6\n",
       "2024-03-30 04:03:17.582086    6\n",
       "2024-03-30 04:03:17.582088    6\n",
       "2024-03-30 04:03:17.582089    6\n",
       "2024-03-30 04:16:17.582092    6\n",
       "Name: count, dtype: int64"
      ]
     },
     "execution_count": 113,
     "metadata": {},
     "output_type": "execute_result"
    }
   ],
   "source": [
    "# Checking the timestamp of this customer to know if I can extract any inf from there\n",
    "cust1['event_timestamp'].value_counts()\n",
    "\n",
    "\n",
    "# The result reveals that most of  the transactions happened in the space of just one minute, which sounds suspicious"
   ]
  },
  {
   "cell_type": "code",
   "execution_count": null,
   "id": "d536d02c",
   "metadata": {},
   "outputs": [
    {
     "data": {
      "text/plain": [
       "location\n",
       "Venezuela    5\n",
       "Venezuela    5\n",
       "Venezuela    5\n",
       "Venezuela    5\n",
       "Venezuela    5\n",
       "            ..\n",
       "Venezuela    1\n",
       "Venezuela    1\n",
       "Venezuela    1\n",
       "Venezuela    1\n",
       "Venezuela    1\n",
       "Name: quantity, Length: 78, dtype: int64"
      ]
     },
     "execution_count": 114,
     "metadata": {},
     "output_type": "execute_result"
    }
   ],
   "source": [
    "# checking the quantity of orders made\n",
    "cust1['quantity'].sort_values(ascending=False)"
   ]
  },
  {
   "cell_type": "code",
   "execution_count": 116,
   "id": "d154348c",
   "metadata": {},
   "outputs": [
    {
     "data": {
      "text/plain": [
       "order_id\n",
       "c202a598-fbd4-4630-b1f0-d85da19f3b3b    78\n",
       "Name: count, dtype: int64"
      ]
     },
     "execution_count": 116,
     "metadata": {},
     "output_type": "execute_result"
    }
   ],
   "source": [
    "cust1['order_id'].value_counts()\n",
    "\n",
    "# The result "
   ]
  },
  {
   "cell_type": "code",
   "execution_count": null,
   "id": "aca6d66b",
   "metadata": {},
   "outputs": [
    {
     "data": {
      "text/plain": [
       "array([ 8, 11,  9,  1, 10,  6])"
      ]
     },
     "execution_count": 120,
     "metadata": {},
     "output_type": "execute_result"
    }
   ],
   "source": [
    "# checking the item_id\n",
    "\n",
    "cust1['item_id'].unique()\n",
    "\n",
    "# the result shows that this customer ordered for 6 different product t the same time"
   ]
  },
  {
   "cell_type": "code",
   "execution_count": null,
   "id": "86714232",
   "metadata": {},
   "outputs": [
    {
     "data": {
      "text/plain": [
       "item_id\n",
       "8     13\n",
       "11    13\n",
       "9     13\n",
       "1     13\n",
       "10    13\n",
       "6     13\n",
       "Name: count, dtype: int64"
      ]
     },
     "execution_count": 122,
     "metadata": {},
     "output_type": "execute_result"
    }
   ],
   "source": [
    "cust1['item_id'].value_counts()\n",
    "\n",
    "# The result shows that each item was ordered 13 times"
   ]
  },
  {
   "cell_type": "code",
   "execution_count": null,
   "id": "471c3d38",
   "metadata": {},
   "outputs": [
    {
     "data": {
      "text/plain": [
       "13"
      ]
     },
     "execution_count": 123,
     "metadata": {},
     "output_type": "execute_result"
    }
   ],
   "source": [
    "cust1['event_id'].nunique()\n",
    "\n",
    "# The result shows that there are 13 events each"
   ]
  },
  {
   "cell_type": "code",
   "execution_count": 125,
   "id": "636d3a28",
   "metadata": {},
   "outputs": [
    {
     "data": {
      "text/plain": [
       "event_id\n",
       "151469    6\n",
       "151470    6\n",
       "151471    6\n",
       "151472    6\n",
       "151473    6\n",
       "151474    6\n",
       "151475    6\n",
       "151476    6\n",
       "151477    6\n",
       "151478    6\n",
       "151479    6\n",
       "151480    6\n",
       "151481    6\n",
       "Name: count, dtype: int64"
      ]
     },
     "execution_count": 125,
     "metadata": {},
     "output_type": "execute_result"
    }
   ],
   "source": [
    "cust1['event_id'].value_counts()"
   ]
  },
  {
   "cell_type": "code",
   "execution_count": null,
   "id": "3bc7a09f",
   "metadata": {},
   "outputs": [
    {
     "data": {
      "text/plain": [
       "np.int64(0)"
      ]
     },
     "execution_count": 126,
     "metadata": {},
     "output_type": "execute_result"
    }
   ],
   "source": [
    "cust1.duplicated().sum()\n",
    "\n",
    "# This customer has no duplicate records"
   ]
  },
  {
   "cell_type": "markdown",
   "id": "5a53d8be",
   "metadata": {},
   "source": [
    "#### Insights\n",
    "\n",
    "From the analysis carrie out on this dataset, it is obvious that the transactions from 'cust1' was likely not done by humabs, as the consistency indicates that it is either a general problem of system error, or a bot .\n",
    "\n",
    "#### Recommendations\n",
    "Iwould suggest that the case is studied all the more across different customers, perhaps there might be more insights to dig out"
   ]
  },
  {
   "cell_type": "code",
   "execution_count": 131,
   "id": "dd355b32",
   "metadata": {},
   "outputs": [],
   "source": [
    "## Since Korea has the highest level of purchase,  dig a little bit deeper..\n",
    "Korea = file.loc['Korea']"
   ]
  },
  {
   "cell_type": "code",
   "execution_count": 132,
   "id": "1da877c0",
   "metadata": {},
   "outputs": [
    {
     "data": {
      "text/plain": [
       "array(['USD', 'GBP', 'NGN'], dtype=object)"
      ]
     },
     "execution_count": 132,
     "metadata": {},
     "output_type": "execute_result"
    }
   ],
   "source": [
    "Korea.currency.unique()"
   ]
  },
  {
   "cell_type": "code",
   "execution_count": 137,
   "id": "20e25492",
   "metadata": {},
   "outputs": [
    {
     "data": {
      "text/plain": [
       "<Axes: xlabel='currency'>"
      ]
     },
     "execution_count": 137,
     "metadata": {},
     "output_type": "execute_result"
    },
    {
     "data": {
      "image/png": "[encoded data removed]",
      "text/plain": [
       "<Figure size 640x480 with 1 Axes>"
      ]
     },
     "metadata": {},
     "output_type": "display_data"
    }
   ],
   "source": [
    "Korea.currency.value_counts().plot(kind='bar')"
   ]
  },
  {
   "cell_type": "code",
   "execution_count": 138,
   "id": "b026a0bb",
   "metadata": {},
   "outputs": [
    {
     "data": {
      "text/plain": [
       "array(['cancelled', 'success', 'failed'], dtype=object)"
      ]
     },
     "execution_count": 138,
     "metadata": {},
     "output_type": "execute_result"
    }
   ],
   "source": [
    "# checking the status of transactions in Korea\n",
    "Korea['status'].unique()"
   ]
  },
  {
   "cell_type": "code",
   "execution_count": 139,
   "id": "354f7a21",
   "metadata": {},
   "outputs": [
    {
     "data": {
      "text/plain": [
       "status\n",
       "cancelled    2571\n",
       "success      2444\n",
       "failed       1982\n",
       "Name: count, dtype: int64"
      ]
     },
     "execution_count": 139,
     "metadata": {},
     "output_type": "execute_result"
    }
   ],
   "source": [
    "Korea.status.value_counts()"
   ]
  },
  {
   "cell_type": "code",
   "execution_count": 140,
   "id": "5e6e9157",
   "metadata": {},
   "outputs": [
    {
     "data": {
      "text/plain": [
       "<Axes: xlabel='status'>"
      ]
     },
     "execution_count": 140,
     "metadata": {},
     "output_type": "execute_result"
    },
    {
     "data": {
      "image/png": "[encoded data removed]",
      "text/plain": [
       "<Figure size 640x480 with 1 Axes>"
      ]
     },
     "metadata": {},
     "output_type": "display_data"
    }
   ],
   "source": [
    "Korea.status.value_counts().plot(kind='bar')"
   ]
  },
  {
   "cell_type": "code",
   "execution_count": null,
   "id": "778b4e44",
   "metadata": {},
   "outputs": [
    {
     "data": {
      "text/plain": [
       "Index(['customer_id', 'device_id', 'item_id', 'line_item_id', 'order_id',\n",
       "       'event_id', 'event_timestamp', 'quantity', 'currency', 'checked_out_at',\n",
       "       'status'],\n",
       "      dtype='object')"
      ]
     },
     "execution_count": 141,
     "metadata": {},
     "output_type": "execute_result"
    }
   ],
   "source": [
    "# Digging further"
   ]
  },
  {
   "cell_type": "code",
   "execution_count": 142,
   "id": "f6df3398",
   "metadata": {},
   "outputs": [
    {
     "data": {
      "text/plain": [
       "array(['3b0ae8c1-68c6-40c8-a13a-e2bffb5ffdf9',\n",
       "       '06dd6a77-c841-4939-b036-cfe3bdf53da2',\n",
       "       '34d3c5e1-7e40-40c9-84c3-7d50edfb7eaf',\n",
       "       '9c22dec8-5972-48a8-bbb7-799a143c8ed8',\n",
       "       'b457e733-476a-4e7a-937e-43663473cf2c',\n",
       "       '537e15dd-d4b4-4c88-9bf5-a9d91b28bfae',\n",
       "       'dc92921e-d371-4be4-83a1-a6cf1ae6f14c',\n",
       "       '6c43713d-d00b-4f6c-8f12-c12d544ef10e',\n",
       "       'b96e4177-81e7-4707-b2e9-f595a767f91d',\n",
       "       '2933e91f-39d6-44af-b1e8-933ad172a3c6',\n",
       "       'eb7e787b-1b51-498f-9eb4-abb076497eb4',\n",
       "       'fb5d6586-f262-4b2a-9f98-7026bbe1f627',\n",
       "       '06e91d5f-3189-45b8-9c6b-5a1624eebddd',\n",
       "       'b20fe203-25fc-4ad8-96e9-5c8031093064',\n",
       "       '74a50970-d815-4f32-b958-5bc152098746',\n",
       "       '6160bf50-4da5-4a66-b8ee-7afc316bbb7d',\n",
       "       '7fa5edef-7d33-46d3-b0ba-37f8d7ef6d43',\n",
       "       '3b854d31-c6d8-4726-ab17-f37ad98de785',\n",
       "       'c3915c78-69af-4c0d-adcb-cc5e2ce7b30e',\n",
       "       'c9b3c52a-9b77-4d33-b9eb-5a3a34dc5810',\n",
       "       '27493173-b1c8-4260-9a70-263929d06890',\n",
       "       '15760ae0-fa3d-48c8-b23c-a8326a5e0576',\n",
       "       '06a20369-6680-4f64-874e-c304b6b5b9c9',\n",
       "       'ea2aa16a-a791-47f0-95c5-066d17b5f09d',\n",
       "       'd3020319-b4d6-4318-bad8-faabccada7ec',\n",
       "       '39568cc0-3642-4234-9b88-c339d6953adf',\n",
       "       '383da070-be2d-462a-99ce-d428880882c8',\n",
       "       '14b95b46-73a0-47e2-b061-47a904aa5bd7',\n",
       "       'bfdc561c-c8f0-40fc-820c-3e5af46b639d',\n",
       "       '0af30150-d4e3-4a65-a719-df2b7a17da93',\n",
       "       'e47e0c9b-2a0f-484c-b037-4405b48763af',\n",
       "       '6a885f26-25da-436a-9723-67cd14518579',\n",
       "       'cd03dc6b-c884-433b-9e01-735e19ade944',\n",
       "       'b801ab0f-aed7-4707-b82b-f2b1f62123d1',\n",
       "       '66e4bef6-a448-4e9e-b807-14a06728753f',\n",
       "       '95960342-6a57-4fc3-a360-6cc094281e3e',\n",
       "       'eef6632c-2ee9-4e75-8f44-9a60a1db4626',\n",
       "       '8498e8be-5899-4ad4-821f-d0df3da83157',\n",
       "       '90e76254-adc5-4b89-9c3b-c23fd5a60df7',\n",
       "       '6301a1f1-4726-4197-83af-f79cfc804f05',\n",
       "       'b4139e14-0478-41f0-bcbb-6792f0c6d957',\n",
       "       'be397c29-0766-4bf0-a315-fa230d7e41d9',\n",
       "       '28744ba1-f5ab-425a-805b-c38c18323e26',\n",
       "       '12290fe7-402f-4bd2-949e-7f2c59fb85e0',\n",
       "       '4c1667ec-ebbd-4a89-9d00-d8ffb94403ba',\n",
       "       'e9345bdc-3b15-4cab-9526-0d690021db61'], dtype=object)"
      ]
     },
     "execution_count": 142,
     "metadata": {},
     "output_type": "execute_result"
    }
   ],
   "source": [
    "# tryinng to check through the different transaction statuses and see if there is anything that could have influenced it\n",
    "Korea['customer_id'].unique()"
   ]
  },
  {
   "cell_type": "code",
   "execution_count": 143,
   "id": "ca4ceb02",
   "metadata": {},
   "outputs": [
    {
     "data": {
      "text/plain": [
       "array([14,  8, 10,  4,  7,  6,  2, 15, 11,  3, 12,  9,  1,  5, 13])"
      ]
     },
     "execution_count": 143,
     "metadata": {},
     "output_type": "execute_result"
    }
   ],
   "source": [
    "Korea.item_id.unique()"
   ]
  },
  {
   "cell_type": "code",
   "execution_count": 144,
   "id": "bd5fbd5f",
   "metadata": {},
   "outputs": [
    {
     "data": {
      "text/plain": [
       "array([ 3914,  3915,  3916,  3917,  3918,  3919,  3920,  3921,  3922,\n",
       "        3923,  3924,  3925,  4103,  4104,  4105,  4123,  4124,  4125,\n",
       "        4126,  4127,  4128,  4129,  4130,  4131,  4200,  4469,  4470,\n",
       "        4471,  4472,  4473,  4474,  4475,  4476,  6240,  6241,  6242,\n",
       "        6243,  6244,  6245,  6246,  6247,  6248,  7244,  7245,  7246,\n",
       "        7247,  7248,  7249,  7250,  7251,  7252,  7253,  7254,  9210,\n",
       "        9211,  9212,  9213,  9214,  9215,  9216,  9217,  9218,  9219,\n",
       "        9220,  9576,  9577,  9578,  9579,  9580,  9581,  9582,  9583,\n",
       "        9584,  9585,  9586,  9587,  9588,  9589,  9590,  9591,  9592,\n",
       "        9593,  9594,  9595,  9596,  9597,  9598, 10105, 10106, 10107,\n",
       "       10108, 10109, 10110, 10111, 10112, 10266, 10267, 10268, 10269,\n",
       "       10270, 10271, 10272, 10273, 10274, 10275, 11523, 11524, 11525,\n",
       "       11526, 11527, 11528, 11529, 11530, 11531, 11532, 11533, 12139,\n",
       "       12140, 12141, 12142, 12143, 12144, 12145, 12146, 12147, 12148,\n",
       "       12171, 12172, 12173, 12174, 12175, 12744, 12745, 12746, 12747,\n",
       "       12748, 12749, 12750, 13163, 13164, 13165, 13166, 15717, 15718,\n",
       "       15719, 15720, 15721, 15722, 15723, 15724, 15725, 16124, 16125,\n",
       "       16126, 16127, 16128, 16573, 16574, 16575, 16576, 16577, 16578,\n",
       "       16579, 16580, 16581, 16582, 16583, 17835, 17836, 17837, 17838,\n",
       "       17839, 17840, 17938, 17939, 17940, 17941, 17942, 17943, 17944,\n",
       "       17945, 17946, 17947, 17948, 18770, 18771, 18772, 18773, 18774,\n",
       "       18775, 19232, 19515, 19516, 19517, 19518, 19519, 19520, 19521,\n",
       "       19522, 19523, 19524, 19525, 19526, 20057, 20058, 20059, 20060,\n",
       "       20061, 20062, 20063, 20064, 20065, 20066, 20067, 20569, 20570,\n",
       "       20571, 20572, 20573, 20574, 21020, 21021, 21022, 21023, 21024,\n",
       "       21025, 21026, 21027, 21028, 21029, 21826, 21827, 21828, 21829,\n",
       "       21830, 22412, 22413, 22414, 22415, 22416, 22417, 22418, 22419,\n",
       "       22420, 22421, 22422, 22423, 22477, 22478, 24026, 24027, 24028,\n",
       "       24029, 24030, 24031, 24116, 24117, 24371, 24372, 24373, 24374,\n",
       "       24375, 25407, 25408, 25409, 27061, 27062, 27063, 27064, 27065,\n",
       "       27066, 27067, 27068, 27069, 27070, 27275, 27276, 27686, 27687,\n",
       "       27688, 27689, 27690, 27691, 27692, 27693, 27694, 27695, 27696,\n",
       "       29235, 29236, 29237, 29238, 29239, 29240, 29241, 29242, 29243,\n",
       "       29244, 29245, 29246, 29261, 29262, 29263, 29264, 29265, 29266,\n",
       "       29267, 29268, 29269, 29529, 29530, 29531, 29532, 29533, 29534,\n",
       "       29535, 29536, 29537, 29538, 29539, 29760, 29761, 29762, 29763,\n",
       "       29764, 29765, 30748, 30749, 30750, 30751, 30752, 30753, 30754,\n",
       "       30755, 32363, 32364, 32365, 32366, 32367, 32368, 32369, 32370,\n",
       "       32653, 32654, 32655, 34178, 34179])"
      ]
     },
     "execution_count": 144,
     "metadata": {},
     "output_type": "execute_result"
    }
   ],
   "source": [
    "Korea.line_item_id.unique()"
   ]
  },
  {
   "cell_type": "code",
   "execution_count": 145,
   "id": "ed009477",
   "metadata": {},
   "outputs": [
    {
     "data": {
      "text/plain": [
       "347"
      ]
     },
     "execution_count": 145,
     "metadata": {},
     "output_type": "execute_result"
    }
   ],
   "source": [
    "Korea.line_item_id.nunique()"
   ]
  },
  {
   "cell_type": "code",
   "execution_count": 147,
   "id": "fcf7a966",
   "metadata": {},
   "outputs": [],
   "source": [
    "# using str.contains to select a particular status\n",
    "mask4 = (file['status'].str.contains('failed'))"
   ]
  },
  {
   "cell_type": "code",
   "execution_count": 148,
   "id": "50679640",
   "metadata": {},
   "outputs": [
    {
     "data": {
      "text/html": [
       "<div>\n",
       "<style scoped>\n",
       "    .dataframe tbody tr th:only-of-type {\n",
       "        vertical-align: middle;\n",
       "    }\n",
       "\n",
       "    .dataframe tbody tr th {\n",
       "        vertical-align: top;\n",
       "    }\n",
       "\n",
       "    .dataframe thead th {\n",
       "        text-align: right;\n",
       "    }\n",
       "</style>\n",
       "<table border=\"1\" class=\"dataframe\">\n",
       "  <thead>\n",
       "    <tr style=\"text-align: right;\">\n",
       "      <th></th>\n",
       "      <th>customer_id</th>\n",
       "      <th>device_id</th>\n",
       "      <th>item_id</th>\n",
       "      <th>line_item_id</th>\n",
       "      <th>order_id</th>\n",
       "      <th>event_id</th>\n",
       "      <th>event_timestamp</th>\n",
       "      <th>quantity</th>\n",
       "      <th>currency</th>\n",
       "      <th>checked_out_at</th>\n",
       "      <th>status</th>\n",
       "    </tr>\n",
       "    <tr>\n",
       "      <th>location</th>\n",
       "      <th></th>\n",
       "      <th></th>\n",
       "      <th></th>\n",
       "      <th></th>\n",
       "      <th></th>\n",
       "      <th></th>\n",
       "      <th></th>\n",
       "      <th></th>\n",
       "      <th></th>\n",
       "      <th></th>\n",
       "      <th></th>\n",
       "    </tr>\n",
       "  </thead>\n",
       "  <tbody>\n",
       "    <tr>\n",
       "      <th>Djibouti</th>\n",
       "      <td>e7f07fd1-05af-494a-ae5a-78c405b6f9c3</td>\n",
       "      <td>428688d6-31e6-4c73-a5d0-c8e849ccf6a3</td>\n",
       "      <td>9</td>\n",
       "      <td>3207</td>\n",
       "      <td>cddddfea-27ef-437f-817d-8f849d604c3c</td>\n",
       "      <td>14800</td>\n",
       "      <td>2024-03-19 19:06:51.166018</td>\n",
       "      <td>3</td>\n",
       "      <td>NGN</td>\n",
       "      <td>2024-03-30 04:09:10.411149</td>\n",
       "      <td>failed</td>\n",
       "    </tr>\n",
       "    <tr>\n",
       "      <th>Djibouti</th>\n",
       "      <td>e7f07fd1-05af-494a-ae5a-78c405b6f9c3</td>\n",
       "      <td>428688d6-31e6-4c73-a5d0-c8e849ccf6a3</td>\n",
       "      <td>9</td>\n",
       "      <td>3207</td>\n",
       "      <td>cddddfea-27ef-437f-817d-8f849d604c3c</td>\n",
       "      <td>14801</td>\n",
       "      <td>2024-03-30 04:03:10.410889</td>\n",
       "      <td>3</td>\n",
       "      <td>NGN</td>\n",
       "      <td>2024-03-30 04:09:10.411149</td>\n",
       "      <td>failed</td>\n",
       "    </tr>\n",
       "    <tr>\n",
       "      <th>Djibouti</th>\n",
       "      <td>e7f07fd1-05af-494a-ae5a-78c405b6f9c3</td>\n",
       "      <td>428688d6-31e6-4c73-a5d0-c8e849ccf6a3</td>\n",
       "      <td>9</td>\n",
       "      <td>3207</td>\n",
       "      <td>cddddfea-27ef-437f-817d-8f849d604c3c</td>\n",
       "      <td>14802</td>\n",
       "      <td>2024-03-30 04:03:10.411144</td>\n",
       "      <td>3</td>\n",
       "      <td>NGN</td>\n",
       "      <td>2024-03-30 04:09:10.411149</td>\n",
       "      <td>failed</td>\n",
       "    </tr>\n",
       "    <tr>\n",
       "      <th>Djibouti</th>\n",
       "      <td>e7f07fd1-05af-494a-ae5a-78c405b6f9c3</td>\n",
       "      <td>428688d6-31e6-4c73-a5d0-c8e849ccf6a3</td>\n",
       "      <td>9</td>\n",
       "      <td>3207</td>\n",
       "      <td>cddddfea-27ef-437f-817d-8f849d604c3c</td>\n",
       "      <td>14803</td>\n",
       "      <td>2024-03-30 04:09:10.411149</td>\n",
       "      <td>3</td>\n",
       "      <td>NGN</td>\n",
       "      <td>2024-03-30 04:09:10.411149</td>\n",
       "      <td>failed</td>\n",
       "    </tr>\n",
       "  </tbody>\n",
       "</table>\n",
       "</div>"
      ],
      "text/plain": [
       "                                   customer_id  \\\n",
       "location                                         \n",
       "Djibouti  e7f07fd1-05af-494a-ae5a-78c405b6f9c3   \n",
       "Djibouti  e7f07fd1-05af-494a-ae5a-78c405b6f9c3   \n",
       "Djibouti  e7f07fd1-05af-494a-ae5a-78c405b6f9c3   \n",
       "Djibouti  e7f07fd1-05af-494a-ae5a-78c405b6f9c3   \n",
       "\n",
       "                                     device_id  item_id  line_item_id  \\\n",
       "location                                                                \n",
       "Djibouti  428688d6-31e6-4c73-a5d0-c8e849ccf6a3        9          3207   \n",
       "Djibouti  428688d6-31e6-4c73-a5d0-c8e849ccf6a3        9          3207   \n",
       "Djibouti  428688d6-31e6-4c73-a5d0-c8e849ccf6a3        9          3207   \n",
       "Djibouti  428688d6-31e6-4c73-a5d0-c8e849ccf6a3        9          3207   \n",
       "\n",
       "                                      order_id  event_id  \\\n",
       "location                                                   \n",
       "Djibouti  cddddfea-27ef-437f-817d-8f849d604c3c     14800   \n",
       "Djibouti  cddddfea-27ef-437f-817d-8f849d604c3c     14801   \n",
       "Djibouti  cddddfea-27ef-437f-817d-8f849d604c3c     14802   \n",
       "Djibouti  cddddfea-27ef-437f-817d-8f849d604c3c     14803   \n",
       "\n",
       "                     event_timestamp  quantity currency  \\\n",
       "location                                                  \n",
       "Djibouti  2024-03-19 19:06:51.166018         3      NGN   \n",
       "Djibouti  2024-03-30 04:03:10.410889         3      NGN   \n",
       "Djibouti  2024-03-30 04:03:10.411144         3      NGN   \n",
       "Djibouti  2024-03-30 04:09:10.411149         3      NGN   \n",
       "\n",
       "                      checked_out_at  status  \n",
       "location                                      \n",
       "Djibouti  2024-03-30 04:09:10.411149  failed  \n",
       "Djibouti  2024-03-30 04:09:10.411149  failed  \n",
       "Djibouti  2024-03-30 04:09:10.411149  failed  \n",
       "Djibouti  2024-03-30 04:09:10.411149  failed  "
      ]
     },
     "execution_count": 148,
     "metadata": {},
     "output_type": "execute_result"
    }
   ],
   "source": [
    "file.loc[mask4].head(4)"
   ]
  },
  {
   "cell_type": "code",
   "execution_count": null,
   "id": "c42c0df3",
   "metadata": {},
   "outputs": [],
   "source": [
    "#filtering the ones with failed using~3"
   ]
  }
 ],
 "metadata": {
  "kernelspec": {
   "display_name": "Python 3",
   "language": "python",
   "name": "python3"
  },
  "language_info": {
   "codemirror_mode": {
    "name": "ipython",
    "version": 3
   },
   "file_extension": ".py",
   "mimetype": "text/x-python",
   "name": "python",
   "nbconvert_exporter": "python",
   "pygments_lexer": "ipython3",
   "version": "3.13.7"
  }
 },
 "nbformat": 4,
 "nbformat_minor": 5
}
