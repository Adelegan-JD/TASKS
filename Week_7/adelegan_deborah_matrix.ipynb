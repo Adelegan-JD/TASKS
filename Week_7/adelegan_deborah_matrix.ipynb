{
 "cells": [
  {
   "cell_type": "markdown",
   "id": "2b348ed6",
   "metadata": {},
   "source": [
    "### **Task 2**"
   ]
  },
  {
   "cell_type": "markdown",
   "id": "5146402d",
   "metadata": {},
   "source": [
    "A = [[2 -1 3],\n",
    "     [0 4 1]] \n",
    "\n",
    "B = [[1 2],\n",
    "      [-2 0],\n",
    "       [5 -3]]\n",
    "\n",
    "##### **Question 1**. Identify the number of rows and columns in each matrix\n",
    "##### **Question 2**. Determine whether the matrices can be multiplied. If so, specify whether its (AB), (BA) or both.\n",
    "##### **Question3**. If the multiplication is defined, compute the resulting matrix"
   ]
  },
  {
   "cell_type": "code",
   "execution_count": 1,
   "id": "146669e4",
   "metadata": {},
   "outputs": [],
   "source": [
    "# import necessary package\n",
    "import numpy as np\n",
    "\n"
   ]
  },
  {
   "cell_type": "code",
   "execution_count": 2,
   "id": "980d6247",
   "metadata": {},
   "outputs": [
    {
     "name": "stdout",
     "output_type": "stream",
     "text": [
      "(2, 3)\n",
      "(3, 2)\n"
     ]
    }
   ],
   "source": [
    "# compute both matrices into arrays\n",
    "matrixA = np.array([[2, -1, 3],\n",
    "                    [0, 4, 1]])\n",
    "\n",
    "matrixB = np.array([[1, 2], \n",
    "                    [-2, 0], \n",
    "                    [5, -3]])\n",
    "\n",
    "# confirm the shape of the matrices\n",
    "print(matrixA.shape)\n",
    "print(matrixB.shape)\n"
   ]
  },
  {
   "cell_type": "markdown",
   "id": "6b14fa9d",
   "metadata": {},
   "source": [
    "##### **Question** 1: Identify the number of rows and columns in each matrix"
   ]
  },
  {
   "cell_type": "code",
   "execution_count": 3,
   "id": "41210b68",
   "metadata": {},
   "outputs": [
    {
     "name": "stdout",
     "output_type": "stream",
     "text": [
      "The shape of matrix A is (2, 3)\n",
      "The shape of matrixB is (3, 2)\n"
     ]
    }
   ],
   "source": [
    "print('The shape of matrix A is', matrixA.shape)\n",
    "print('The shape of matrixB is', matrixB.shape)"
   ]
  },
  {
   "cell_type": "markdown",
   "id": "3ad7e043",
   "metadata": {},
   "source": [
    "##### **Question 2**. Determine whether the matrices can be multiplied. If so, specify whether its (AB), (BA) or both.\n",
    "\n"
   ]
  },
  {
   "cell_type": "markdown",
   "id": "846ca0ac",
   "metadata": {},
   "source": [
    "AB = A(2, 3) and B(3, 2)\n",
    "Matrix A has 2 rows and 3 columns, while Matrix B has 3 rows and 2 columns. As such matrix A can be multiplied with matrix B in the (AB) order because the three columns of MatrixA will align and multiply with the 3 rows in MatrixB.\n",
    "\n",
    "BA = B(3, 2) and A(2, 3)\n",
    "It is also possible for matrixA and matrixB to multiply in the BA order because the columns  of matrixB aligns with the rows of matrixA\n"
   ]
  },
  {
   "cell_type": "markdown",
   "id": "d18921f0",
   "metadata": {},
   "source": [
    "##### **Question3**. If the multiplication is defined, compute the resulting matrix"
   ]
  },
  {
   "cell_type": "code",
   "execution_count": 4,
   "id": "e7198547",
   "metadata": {},
   "outputs": [
    {
     "name": "stdout",
     "output_type": "stream",
     "text": [
      "The product of matrixA and matrixB is:\n",
      " [[19 -5]\n",
      " [-3 -3]], \n",
      " And the shape is: (2, 2)\n"
     ]
    }
   ],
   "source": [
    "# multiply both matrices \n",
    "result = np.dot(matrixA, matrixB)\n",
    "print(f'The product of matrixA and matrixB is:\\n {result}, \\n And the shape is: {result.shape}')"
   ]
  },
  {
   "cell_type": "markdown",
   "id": "08e1e905",
   "metadata": {},
   "source": []
  }
 ],
 "metadata": {
  "kernelspec": {
   "display_name": "Python 3",
   "language": "python",
   "name": "python3"
  },
  "language_info": {
   "codemirror_mode": {
    "name": "ipython",
    "version": 3
   },
   "file_extension": ".py",
   "mimetype": "text/x-python",
   "name": "python",
   "nbconvert_exporter": "python",
   "pygments_lexer": "ipython3",
   "version": "3.13.7"
  }
 },
 "nbformat": 4,
 "nbformat_minor": 5
}
