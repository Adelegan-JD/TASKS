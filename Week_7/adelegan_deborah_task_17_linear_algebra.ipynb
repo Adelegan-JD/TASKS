{
 "cells": [
  {
   "cell_type": "markdown",
   "id": "5dc4bada",
   "metadata": {},
   "source": [
    "student_array = [[80, 70, 90],\n",
    "                 [60, 85, 75],\n",
    "                 [95, 88, 92],\n",
    "                 [70, 60, 65]]"
   ]
  },
  {
   "cell_type": "markdown",
   "id": "1ae8a2f6",
   "metadata": {},
   "source": []
  },
  {
   "cell_type": "code",
   "execution_count": 1,
   "id": "6173efee",
   "metadata": {},
   "outputs": [
    {
     "ename": "NameError",
     "evalue": "name 'np' is not defined",
     "output_type": "error",
     "traceback": [
      "\u001b[31m---------------------------------------------------------------------------\u001b[39m",
      "\u001b[31mNameError\u001b[39m                                 Traceback (most recent call last)",
      "\u001b[36mCell\u001b[39m\u001b[36m \u001b[39m\u001b[32mIn[1]\u001b[39m\u001b[32m, line 7\u001b[39m\n\u001b[32m      4\u001b[39m student_3 = [\u001b[32m95\u001b[39m, \u001b[32m88\u001b[39m, \u001b[32m92\u001b[39m]\n\u001b[32m      5\u001b[39m student_4 = [\u001b[32m70\u001b[39m, \u001b[32m60\u001b[39m, \u001b[32m65\u001b[39m]\n\u001b[32m----> \u001b[39m\u001b[32m7\u001b[39m student = \u001b[43mnp\u001b[49m.array([student_1, student_2, student_3, student_4])\n\u001b[32m      9\u001b[39m student\n",
      "\u001b[31mNameError\u001b[39m: name 'np' is not defined"
     ]
    }
   ],
   "source": [
    "# Computing in Numpy\n",
    "student_1 = [80, 70, 90]\n",
    "student_2 = [60, 85, 75]\n",
    "student_3 = [95, 88, 92]\n",
    "student_4 = [70, 60, 65]\n",
    "\n",
    "student = np.array([student_1, student_2, student_3, student_4])\n",
    "\n",
    "student"
   ]
  },
  {
   "cell_type": "markdown",
   "id": "add0806b",
   "metadata": {},
   "source": [
    "3.2 **Total Scores per Student (Vector Addition)** \n",
    "\n",
    "Compute the total score for each student by summing across the row vector."
   ]
  },
  {
   "cell_type": "markdown",
   "id": "d775b831",
   "metadata": {},
   "source": [
    "student1_total_scores = [80 + 70 + 90] = [240]\n",
    "student2_total_scores = [60 + 85 + 75] = [220]\n",
    "student3_total_scores = [95 + 88 + 92] = [275]\n",
    "student4-total_scores = [70 + 60 + 65] = [195]\n",
    "\n",
    "total scores = [[240],\n",
    "                [220],\n",
    "                [275],\n",
    "                [195]]"
   ]
  },
  {
   "cell_type": "code",
   "execution_count": null,
   "id": "a1434de6",
   "metadata": {},
   "outputs": [
    {
     "name": "stdout",
     "output_type": "stream",
     "text": [
      "The sum of the total scores of student 1 is: 240\n",
      "The sum of the total scores of student 2 is: 220\n",
      "The sum of the total scores of student 3 is: 275\n",
      "The sum of the total scores of student 4 is: 195\n"
     ]
    }
   ],
   "source": [
    "total_score1 = np.sum(student_1)\n",
    "total_score2 = np.sum(student_2)\n",
    "total_score3 = np.sum(student_3)\n",
    "total_score4 = np.sum(student_4)\n",
    "\n",
    "print('The sum of the total scores of student 1 is:', total_score1)\n",
    "print('The sum of the total scores of student 2 is:', total_score2)\n",
    "print('The sum of the total scores of student 3 is:', total_score3)\n",
    "print('The sum of the total scores of student 4 is:', total_score4)\n",
    "\n"
   ]
  },
  {
   "cell_type": "markdown",
   "id": "c5a2c489",
   "metadata": {},
   "source": [
    "**3.3 Applying Weights (Scalar Multiplication)** \n",
    "\n",
    "Apply subject weights (e.g., Math is twice as important as others) using scalar \n",
    "multiplication."
   ]
  },
  {
   "cell_type": "markdown",
   "id": "53704c5d",
   "metadata": {},
   "source": [
    "subject_weight = 2\n",
    "math_subject_weight = subject_weight * 2\n",
    "\n",
    "math_scalar_weight = math_subject_weight * [80, 60, 95, 70]\n",
    "math_scalar_weight = [320, 240, 380, 280]\n",
    "\n"
   ]
  },
  {
   "cell_type": "code",
   "execution_count": null,
   "id": "dcd77a61",
   "metadata": {},
   "outputs": [
    {
     "name": "stdout",
     "output_type": "stream",
     "text": [
      "The subject weight for Mathematics =  [320 240 380 280]\n",
      "The subject weight for English =  [140 170 176 120]\n",
      "The subject weight for Science =  [180 150 184 130]\n"
     ]
    }
   ],
   "source": [
    "math_scalar_weight = np.dot(4, student[:, 0])\n",
    "english_scalar_weight = np.dot(2, student[:, 1])\n",
    "science_scalar_weight = np.dot(2, student[:, 2])\n",
    "print('The subject weight for Mathematics = ',  math_scalar_weight)\n",
    "print('The subject weight for English = ',  english_scalar_weight)\n",
    "print('The subject weight for Science = ',  science_scalar_weight)"
   ]
  },
  {
   "cell_type": "markdown",
   "id": "09876f88",
   "metadata": {},
   "source": [
    "**3.4 Average Score per Subject (Matrix Operations)**\n",
    " \n",
    "Compute the average score for each subject by calculating the column-wise mean. "
   ]
  },
  {
   "cell_type": "code",
   "execution_count": null,
   "id": "da56d3f6",
   "metadata": {},
   "outputs": [
    {
     "data": {
      "text/plain": [
       "4"
      ]
     },
     "execution_count": 6,
     "metadata": {},
     "output_type": "execute_result"
    }
   ],
   "source": [
    "subject_length = len(student[:, 0])\n",
    "subject_length"
   ]
  },
  {
   "cell_type": "code",
   "execution_count": null,
   "id": "3b865325",
   "metadata": {},
   "outputs": [
    {
     "name": "stdout",
     "output_type": "stream",
     "text": [
      "The average score for Mathematics is: 76.25\n",
      "The average score for English is: 75.75\n",
      "The average score for Science is: 80.5\n"
     ]
    }
   ],
   "source": [
    "math_average_score = sum(student[:, 0] / len(student[:, 0]))\n",
    "english_average_score = sum(student[:, 1] / len(student[:, 1]))\n",
    "science_average_score = sum(student[:, 2] / len(student[:, 2]))\n",
    "\n",
    "print('The average score for Mathematics is:', math_average_score)\n",
    "print('The average score for English is:', english_average_score)\n",
    "print('The average score for Science is:', science_average_score)"
   ]
  },
  {
   "cell_type": "markdown",
   "id": "bf3c4a7c",
   "metadata": {},
   "source": [
    "**3.5 Final Grades using Matrix Multiplication**\n",
    " \n",
    "Use matrix multiplication with a weight vector (e.g., [0.5, 0.3, 0.2]) to calculate final grades. "
   ]
  },
  {
   "cell_type": "code",
   "execution_count": null,
   "id": "0a6a704a",
   "metadata": {},
   "outputs": [
    {
     "name": "stdout",
     "output_type": "stream",
     "text": [
      "The final grades for student 1 is: 82.00\n",
      "The final grades for student 2 is: 67.00\n",
      "The final grades for student 3 is: 93.40\n",
      "The final grades for student 4 is: 67.50\n"
     ]
    }
   ],
   "source": [
    "weight_vector = np.array([0.6, 0.1, 0.3])\n",
    "\n",
    "final_grade1 = np.dot(weight_vector, student[0, :])\n",
    "final_grade2 = np.dot(weight_vector, student[1, :])\n",
    "final_grade3 = np.dot(weight_vector, student[2, :])\n",
    "final_grade4 = np.dot(weight_vector, student[3, :])\n",
    "print(f'The final grades for student 1 is: {final_grade1:.2f}')\n",
    "print(f'The final grades for student 2 is: {final_grade2:.2f}')\n",
    "print(f'The final grades for student 3 is: {final_grade3:.2f}')\n",
    "print(f'The final grades for student 4 is: {final_grade4:.2f}')\n",
    "\n"
   ]
  },
  {
   "cell_type": "markdown",
   "id": "fc561c44",
   "metadata": {},
   "source": [
    "**3.6 Comparing Students (Vector Subtraction) \n",
    "Compare two students’ performances by subtracting their score vectors. "
   ]
  },
  {
   "cell_type": "code",
   "execution_count": null,
   "id": "69b0588f",
   "metadata": {},
   "outputs": [
    {
     "data": {
      "text/plain": [
       "array([ 20, -15,  15])"
      ]
     },
     "execution_count": 9,
     "metadata": {},
     "output_type": "execute_result"
    }
   ],
   "source": [
    "student_performance = student[0, :] - student[1, :]\n",
    "student_performance\n"
   ]
  },
  {
   "cell_type": "markdown",
   "id": "935c1c48",
   "metadata": {},
   "source": [
    "### **ADD-ON EXERCISES**\n",
    "\n",
    "1. Create a new 5×4 matrix of scores (5 students, 4 subjects). Compute each student’s total score and the average per subject. \n",
    "\n",
    "2. Suppose one subject (e.g., Science) is 3 times more important than others. Apply scalar multiplication and recompute totals.\n",
    "\n",
    "3. Define new weights for grading (e.g., 40%, 20%, 30%, 10%)Compute final grades using matrix multiplication. \n",
    "\n",
    "4. Compare Student 3 and Student 4 using vector subtraction. Who performed better in each subject?"
   ]
  },
  {
   "cell_type": "markdown",
   "id": "9d4f557b",
   "metadata": {},
   "source": [
    "**Question 1**\n",
    "\n",
    "Create a new 5×4 matrix of scores (5 students, 4 subjects). Compute each student’s total score and the average per subject. "
   ]
  },
  {
   "cell_type": "code",
   "execution_count": null,
   "id": "e2d2a040",
   "metadata": {},
   "outputs": [
    {
     "name": "stdout",
     "output_type": "stream",
     "text": [
      "[[88 84 84 91]\n",
      " [85 89 82 99]\n",
      " [98 93 99 80]\n",
      " [95 87 83 95]\n",
      " [97 76 91 87]]\n",
      "\n",
      "\n",
      "The total score of student 1 is 347\n",
      "\n",
      "\n",
      "The total score of student 2 is 355\n",
      "\n",
      "\n",
      "The total score of student 3 is 370\n",
      "\n",
      "\n",
      "The total score of student 4 is 360\n",
      "\n",
      "\n",
      "The total score of student 5 is 351\n",
      "\n",
      "\n",
      "The average score of  Mathematics is 92.6\n",
      "\n",
      "\n",
      "The average score of  English is 85.8\n",
      "\n",
      "\n",
      "The average score of  Science is 87.8\n",
      "\n",
      "\n",
      "The average score of  Biology is 90.4\n"
     ]
    }
   ],
   "source": [
    "matrix = np.random.choice(np.arange(75, 100), size=(5, 4))\n",
    "print(matrix)\n",
    "\n",
    "#To compute the total score of each student\n",
    "\n",
    "for i, row in enumerate(matrix):\n",
    "        total_score = np.sum(row)\n",
    "        print(f'The total score of student {i + 1} is {total_score}')\n",
    "\n",
    "\n",
    "# To compute the average score per  subject\n",
    "for i, column_index in enumerate(range(matrix.shape[1])):\n",
    "        average = np.average(matrix[:, column_index])\n",
    "        subjects = ['Mathematics', 'English', 'Science', 'Biology']\n",
    "        print(f'The average score of  {subjects[i]} is {average}')\n",
    "\n",
    "        "
   ]
  },
  {
   "cell_type": "code",
   "execution_count": null,
   "id": "8009bb73",
   "metadata": {},
   "outputs": [
    {
     "data": {
      "text/plain": [
       "np.int64(356)"
      ]
     },
     "execution_count": 112,
     "metadata": {},
     "output_type": "execute_result"
    }
   ],
   "source": []
  },
  {
   "cell_type": "code",
   "execution_count": null,
   "id": "df05f8bb",
   "metadata": {},
   "outputs": [],
   "source": []
  }
 ],
 "metadata": {
  "kernelspec": {
   "display_name": "Python 3",
   "language": "python",
   "name": "python3"
  },
  "language_info": {
   "codemirror_mode": {
    "name": "ipython",
    "version": 3
   },
   "file_extension": ".py",
   "mimetype": "text/x-python",
   "name": "python",
   "nbconvert_exporter": "python",
   "pygments_lexer": "ipython3",
   "version": "3.13.7"
  }
 },
 "nbformat": 4,
 "nbformat_minor": 5
}
