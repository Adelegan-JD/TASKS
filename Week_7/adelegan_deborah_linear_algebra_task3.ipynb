{
 "cells": [
  {
   "cell_type": "markdown",
   "id": "e0f7fd3a",
   "metadata": {},
   "source": [
    "\n",
    "**CLASS TASK 3**\n",
    "\n",
    "\n",
    "Let A = [[2, - 1], [0, 3]] B = [[1, 4], [- 2, 5]] and let the scalars (c = 2), (d = 3) .\n",
    "\n",
    "a) Compute the following: (CA), (dB), and (c + d) * A\n",
    "\n",
    "b) Using the results gotten, Verify the Scalar Multiplication Properties\n",
    "\n",
    "c) Find the transpose of both matrices\n",
    "\n",
    "d) Check if (A) and (B) are invertible by computing their determinants. If they are invertible, find: A ^ - 1 and B ^ - 1"
   ]
  },
  {
   "cell_type": "markdown",
   "id": "e8a530e8",
   "metadata": {},
   "source": [
    "**SOLUTION**\n"
   ]
  },
  {
   "cell_type": "code",
   "execution_count": null,
   "id": "4c9b6ffa",
   "metadata": {},
   "outputs": [],
   "source": [
    "A = [[2, - 1], \n",
    "     [0, 3]]\n",
    "\n",
    "B = [[1, 4], \n",
    "    [- 2, 5]]\n",
    "\n",
    "C = 2\n",
    "d = 3"
   ]
  },
  {
   "cell_type": "markdown",
   "id": "0fa31990",
   "metadata": {},
   "source": [
    "\n",
    "**Question 1**\n",
    "\n",
    "Compute the following: (cA), (dB), and (c + d) * A"
   ]
  },
  {
   "cell_type": "code",
   "execution_count": null,
   "id": "bf05b4b9",
   "metadata": {},
   "outputs": [],
   "source": [
    "# To compute cA, multiply the scalar 2 by the matrix A\n",
    "\n",
    "cA = 2 * [[2, - 1], \n",
    "          [0, 3]]\n",
    "\n",
    "cA = [[2*2, 2*(-1)],\n",
    "      [2*0, 2*3]]\n",
    "\n",
    "cA = [[4, -2],\n",
    "      [0, 6]]\n",
    "\n",
    "\n",
    "\n",
    "# To compute dB\n",
    "dB = 3 * [[1, 4], \n",
    "         [-2, 5]]\n",
    "\n",
    "dB = [[3*1, 3*4],\n",
    "     [3*(-2), 3*5]]\n",
    "\n",
    "dB = [[3, 12],\n",
    "      [-6, 15]]\n",
    "\n",
    "\n",
    "# To compute (c + d) * A\n",
    "(2 + 3) * [[2, - 1], \n",
    "           [0, 3]]\n",
    "# First calculate (c + d) \n",
    "c + d = 2 + 3 = 5\n",
    "# Now multiply the result by the matrix A\n",
    "5 * [[2, - 1],     \n",
    "     [0, 3]]\n",
    "\n",
    "result = [[5*2, 5*(-1)],\n",
    "           [5*0, 5*3]]\n",
    "\n",
    "result = [[10, -5],\n",
    "          [0, 15]]\n"
   ]
  },
  {
   "cell_type": "markdown",
   "id": "29fd5c60",
   "metadata": {},
   "source": [
    "**Question 2**\n",
    "\n",
    "Using the results gotten, Verify the Scalar Multiplication Properties"
   ]
  },
  {
   "cell_type": "code",
   "execution_count": null,
   "id": "5655124e",
   "metadata": {},
   "outputs": [],
   "source": [
    "# To verify the scalar multiplication properties\n",
    "# 1. Associativity of scalar multiplication\n",
    "(c*d)*A = c*(d*A)\n",
    "(2*3)*[[2, - 1], [0, 3]] = 2*(8*[[2, - 1], [0, 3]])\n",
    "\n",
    "\n",
    "\n",
    "#  2. Distributivity over matrix addition\n",
    "c(A + B) = cA + cB\n",
    "2([[2, - 1], [0, 3]] + [[1, 4], [- 2, 5]])\n",
    "\n"
   ]
  },
  {
   "cell_type": "markdown",
   "id": "5a5a0bb0",
   "metadata": {},
   "source": [
    "**Question 3**\n",
    "\n",
    "Find the transpose of both matrices"
   ]
  },
  {
   "cell_type": "code",
   "execution_count": null,
   "id": "276ae60c",
   "metadata": {},
   "outputs": [],
   "source": [
    "A = [[2, - 1], \n",
    "     [0, 3]]\n",
    "\n",
    "B = [[1, 4], \n",
    "    [-2, 5]]\n",
    "\n",
    "# To find the transpose of A, the matrix will be flipped over such that the rows will now take the order or position of the columns and vice-versa\n",
    "\n",
    "A_transpose = [[2, 0],\n",
    "               [-1, 3]]\n",
    "\n",
    "# To find the transpose of A, the matrix will be flipped over such that the rows will now take the order or position of the columns and vice-versa\n",
    "B_Transpose = [[1, -2],\n",
    "                [4, 5]]\n"
   ]
  },
  {
   "cell_type": "markdown",
   "id": "91f381b9",
   "metadata": {},
   "source": [
    "**Question 4**\n",
    "\n",
    "Check if (A) and (B) are invertible by computing their determinants. If they are invertible, find: A ^ - 1 and B ^ - 1"
   ]
  },
  {
   "cell_type": "code",
   "execution_count": null,
   "id": "7ba00b62",
   "metadata": {},
   "outputs": [],
   "source": [
    "# To check if Matrix A is invertible, compute the determinant\n",
    "det(A) = ((2*3) - ((-1)*0))\n",
    "det(A) = 6 - 0\n",
    "det(A) = 6\n",
    "\n",
    "# To check if Matrix B is invertible, compute the determinant\n",
    "det(B) = ((1*5) - (-2*4))\n",
    "det(B) = (5 - (-8))\n",
    "det(B) = 5 + 8\n",
    "det(B) = 13\n",
    "\n",
    "\n",
    "# Since the determinant of A is not zero, then matrix A is invertible  \n",
    "# To get the inverse of A\n",
    "det(A) = 6\n",
    "1/det(A)*[[2, -1],\n",
    "            [0, 3]]\n",
    "# Cross multiplying the matrix, we have\n",
    "(1/6)*[[3, -(-1)], [-0, 2]]\n",
    "result = [[3/6, 1/6],\n",
    "          [0/6], [2/6]]\n",
    "# The final result is therefore\n",
    "result = [[3/6, 1/6],\n",
    "          [0, 1/2]]\n",
    "\n",
    "\n",
    "\n",
    "# Since the determinant of B is not zero, then matrix B is invertible  \n",
    "# To get the inverse of B\n",
    "det(B) = 13\n",
    "1/det(B)*[[1, 4], [(-2), 5]]\n",
    "# Cross multiplying the matrix, we have\n",
    "result = 1/13 * [[5, -4], [-(-2), 1]]\n",
    "result = [[5/13, -4/13],\n",
    "           [2/13, 1/13]]"
   ]
  },
  {
   "cell_type": "code",
   "execution_count": null,
   "id": "656c34ae",
   "metadata": {},
   "outputs": [],
   "source": []
  }
 ],
 "metadata": {
  "kernelspec": {
   "display_name": "Python 3",
   "language": "python",
   "name": "python3"
  },
  "language_info": {
   "codemirror_mode": {
    "name": "ipython",
    "version": 3
   },
   "file_extension": ".py",
   "mimetype": "text/x-python",
   "name": "python",
   "nbconvert_exporter": "python",
   "pygments_lexer": "ipython3",
   "version": "3.13.7"
  }
 },
 "nbformat": 4,
 "nbformat_minor": 5
}
