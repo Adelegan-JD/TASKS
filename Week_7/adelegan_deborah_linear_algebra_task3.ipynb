{
 "cells": [
  {
   "cell_type": "markdown",
   "id": "e0f7fd3a",
   "metadata": {},
   "source": [
    "\n",
    "**CLASS TASK 3**\n",
    "\n",
    " CLASS TASK 3\n",
    "Let A = [[2, - 1], [0, 3]] B = [[1, 4], [- 2, 5]] and let the scalars (c = 2), (d = 3) .\n",
    "\n",
    "a) Compute the following: (CA), (dB), and (c + d) * A\n",
    "\n",
    "b) Using the results gotten, Verify the Scalar Multiplication Properties\n",
    "\n",
    "c) Find the transpose of both matrices\n",
    "\n",
    "d) Check if (A) and (B) are invertible by computing their determinants. If they are invertible, find: A ^ - 1 and B ^ - 1"
   ]
  },
  {
   "cell_type": "markdown",
   "id": "e8a530e8",
   "metadata": {},
   "source": [
    "**SOLUTION**\n"
   ]
  },
  {
   "cell_type": "code",
   "execution_count": null,
   "id": "4c9b6ffa",
   "metadata": {},
   "outputs": [],
   "source": [
    "A = [[2, - 1], [0, 3]]\n",
    "\n",
    "B = [[1, 4], [- 2, 5]]\n",
    "\n",
    "#scalars\n",
    "c, d = 2, 3"
   ]
  }
 ],
 "metadata": {
  "language_info": {
   "name": "python"
  }
 },
 "nbformat": 4,
 "nbformat_minor": 5
}
