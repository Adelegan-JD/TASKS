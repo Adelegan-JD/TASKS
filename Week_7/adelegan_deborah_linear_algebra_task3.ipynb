{
 "cells": [
  {
   "cell_type": "markdown",
   "id": "e0f7fd3a",
   "metadata": {},
   "source": [
    "\n",
    "**CLASS TASK 3**\n",
    "\n",
    "\n",
    "Let A = [[2, - 1], [0, 3]] B = [[1, 4], [- 2, 5]] and let the scalars (c = 2), (d = 3) .\n",
    "\n",
    "a) Compute the following: (CA), (dB), and (c + d) * A\n",
    "\n",
    "b) Using the results gotten, Verify the Scalar Multiplication Properties\n",
    "\n",
    "c) Find the transpose of both matrices\n",
    "\n",
    "d) Check if (A) and (B) are invertible by computing their determinants. If they are invertible, find: A ^ - 1 and B ^ - 1"
   ]
  },
  {
   "cell_type": "markdown",
   "id": "e8a530e8",
   "metadata": {},
   "source": [
    "**SOLUTION**\n"
   ]
  },
  {
   "cell_type": "code",
   "execution_count": null,
   "id": "96ebdb3f",
   "metadata": {},
   "outputs": [],
   "source": [
    "# import necessary packages\n",
    "import numpy as np\n",
    "import pandas as pd"
   ]
  },
  {
   "cell_type": "code",
   "execution_count": null,
   "id": "4c9b6ffa",
   "metadata": {},
   "outputs": [],
   "source": [
    "A = [[2, - 1], \n",
    "     [0, 3]]\n",
    "\n",
    "B = [[1, 4], \n",
    "    [- 2, 5]]\n",
    "\n",
    "# scalars: assigning 2 to scalar c and 3 to scalar d\n",
    "c, d = 2, 3"
   ]
  },
  {
   "cell_type": "markdown",
   "id": "0fa31990",
   "metadata": {},
   "source": [
    "**Question 1**\n",
    "\n",
    "Compute the following: (cA), (dB), and (c + d) * A"
   ]
  },
  {
   "cell_type": "code",
   "execution_count": null,
   "id": "bf05b4b9",
   "metadata": {},
   "outputs": [],
   "source": [
    "# To compute cA, multiply the scalar 2 by the matrix A\n",
    "\n",
    "cA = 2 * [[2, - 1], \n",
    "          [0, 3]]\n",
    "\n",
    "cA = [[2*2, 2*(-1)],\n",
    "      [2*0, 2*3]]\n",
    "\n",
    "cA = [[4, -2],\n",
    "      [0, 6]]\n",
    "\n",
    "\n",
    "\n",
    "# To compute dB\n",
    "dB = 3 * [[1, 4], \n",
    "         [-2, 5]]\n",
    "\n",
    "dB = [[3*1, 3*4],\n",
    "     [3*(-2), 3*5]]\n",
    "\n",
    "dB = [[3, 12],\n",
    "      [-6, 15]]\n",
    "\n",
    "\n",
    "# To compute (c + d) * A\n",
    "(2 + 3) * [[2, - 1], \n",
    "           [0, 3]]\n",
    "# First calculate (c + d) \n",
    "c + d = 2 + 3 = 5\n",
    "# Now multiply the result by the matrix\n",
    "5 * [[2, - 1],     \n",
    "     [0, 3]]\n",
    "\n",
    "result = [[5*2, 5*(-1)],\n",
    "           [5*0, 5*3]]\n",
    "\n",
    "result = [[10, -5],\n",
    "          [0, 15]]\n"
   ]
  }
 ],
 "metadata": {
  "kernelspec": {
   "display_name": "Python 3",
   "language": "python",
   "name": "python3"
  },
  "language_info": {
   "codemirror_mode": {
    "name": "ipython",
    "version": 3
   },
   "file_extension": ".py",
   "mimetype": "text/x-python",
   "name": "python",
   "nbconvert_exporter": "python",
   "pygments_lexer": "ipython3",
   "version": "3.13.7"
  }
 },
 "nbformat": 4,
 "nbformat_minor": 5
}
