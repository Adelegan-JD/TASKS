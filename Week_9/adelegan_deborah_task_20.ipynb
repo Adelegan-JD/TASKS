{
 "cells": [
  {
   "cell_type": "code",
   "execution_count": null,
   "id": "c0dcb8e0",
   "metadata": {},
   "outputs": [],
   "source": [
    "import pandas as pd"
   ]
  }
 ],
 "metadata": {
  "kernelspec": {
   "display_name": "Python 3",
   "language": "python",
   "name": "python3"
  },
  "language_info": {
   "name": "python",
   "version": "3.13.7"
  }
 },
 "nbformat": 4,
 "nbformat_minor": 5
}
