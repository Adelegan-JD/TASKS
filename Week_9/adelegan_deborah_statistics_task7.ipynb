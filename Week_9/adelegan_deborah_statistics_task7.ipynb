{
 "cells": [
  {
   "cell_type": "markdown",
   "id": "36ff77a7",
   "metadata": {},
   "source": [
    "### **Data Ingestion**"
   ]
  },
  {
   "cell_type": "code",
   "execution_count": 5,
   "id": "ac15b6e6",
   "metadata": {},
   "outputs": [],
   "source": [
    "# import necessary package\n",
    "import gdown\n",
    "import pandas as pd\n",
    "import numpy as np\n",
    "import scipy.stats as stat"
   ]
  },
  {
   "cell_type": "code",
   "execution_count": 6,
   "id": "512ed0ef",
   "metadata": {},
   "outputs": [
    {
     "name": "stderr",
     "output_type": "stream",
     "text": [
      "Downloading...\n",
      "From: https://drive.google.com/uc?id=1yB5qSBOLl96Y563nIewKOU8RN_gsY3dO\n",
      "To: c:\\Users\\ncc\\Desktop\\task\\Week_9\\data.csv\n",
      "100%|██████████| 52.0k/52.0k [00:00<00:00, 240kB/s]\n"
     ]
    },
    {
     "data": {
      "text/plain": [
       "'data.csv'"
      ]
     },
     "execution_count": 6,
     "metadata": {},
     "output_type": "execute_result"
    }
   ],
   "source": [
    "# load the data\n",
    "\n",
    "file_id = '1yB5qSBOLl96Y563nIewKOU8RN_gsY3dO'  # Make sure it's a string\n",
    "gdown.download(f'https://drive.google.com/uc?id={file_id}', 'data.csv', quiet=False)"
   ]
  },
  {
   "cell_type": "code",
   "execution_count": 7,
   "id": "ab4fe05d",
   "metadata": {},
   "outputs": [],
   "source": [
    "file = pd.read_csv('data.csv')"
   ]
  },
  {
   "cell_type": "markdown",
   "id": "1445aaad",
   "metadata": {},
   "source": [
    "### **Data Cleaning**"
   ]
  },
  {
   "cell_type": "code",
   "execution_count": 8,
   "id": "bf7ebde7",
   "metadata": {},
   "outputs": [
    {
     "data": {
      "text/plain": [
       "Unnamed: 0       0\n",
       "country          0\n",
       "food_category    0\n",
       "consumption      0\n",
       "co2_emission     0\n",
       "dtype: int64"
      ]
     },
     "execution_count": 8,
     "metadata": {},
     "output_type": "execute_result"
    }
   ],
   "source": [
    "file.isna().sum()"
   ]
  },
  {
   "cell_type": "code",
   "execution_count": 10,
   "id": "e259683d",
   "metadata": {},
   "outputs": [],
   "source": [
    "# drop unnecessary columns\n",
    "file.drop('Unnamed: 0', axis = 1, inplace = True)"
   ]
  },
  {
   "cell_type": "markdown",
   "id": "2f21fb37",
   "metadata": {},
   "source": [
    "#### **Question**\n",
    "\n",
    "Is the beef consumption in Argentina significantly different from that in Bangladesh?"
   ]
  },
  {
   "cell_type": "markdown",
   "id": "05a05d66",
   "metadata": {},
   "source": [
    "\n",
    "- H₀: Mean beef consumption (Argentina) = Mean beef consumption (Bangladesh)\n",
    "\n",
    "- H₁: Mean beef consumption (Argentina) ≠ Mean beef consumption (Bangladesh)"
   ]
  },
  {
   "cell_type": "markdown",
   "id": "a4af8e9b",
   "metadata": {},
   "source": [
    "#### **Solution:**"
   ]
  },
  {
   "cell_type": "markdown",
   "id": "eac84c35",
   "metadata": {},
   "source": [
    "To identify is the beef consumption in Argentina is slightly different from that in Bangladesh, we have to take the mean of both nations into consideration.\n",
    "\n",
    "H₀: Mean beef consumption in Argentina = Mean beef consumption in Bangladesh\n",
    "\n",
    "H₁: Mean beef consumption in Argentina ≠ Mean beef consumption in Bangladesh"
   ]
  },
  {
   "cell_type": "code",
   "execution_count": null,
   "id": "d5dd1b76",
   "metadata": {},
   "outputs": [
    {
     "data": {
      "text/html": [
       "<div>\n",
       "<style scoped>\n",
       "    .dataframe tbody tr th:only-of-type {\n",
       "        vertical-align: middle;\n",
       "    }\n",
       "\n",
       "    .dataframe tbody tr th {\n",
       "        vertical-align: top;\n",
       "    }\n",
       "\n",
       "    .dataframe thead th {\n",
       "        text-align: right;\n",
       "    }\n",
       "</style>\n",
       "<table border=\"1\" class=\"dataframe\">\n",
       "  <thead>\n",
       "    <tr style=\"text-align: right;\">\n",
       "      <th></th>\n",
       "      <th>country</th>\n",
       "      <th>food_category</th>\n",
       "      <th>consumption</th>\n",
       "      <th>co2_emission</th>\n",
       "    </tr>\n",
       "  </thead>\n",
       "  <tbody>\n",
       "    <tr>\n",
       "      <th>2</th>\n",
       "      <td>Argentina</td>\n",
       "      <td>beef</td>\n",
       "      <td>55.48</td>\n",
       "      <td>1712.0</td>\n",
       "    </tr>\n",
       "  </tbody>\n",
       "</table>\n",
       "</div>"
      ],
      "text/plain": [
       "     country food_category  consumption  co2_emission\n",
       "2  Argentina          beef        55.48        1712.0"
      ]
     },
     "execution_count": 24,
     "metadata": {},
     "output_type": "execute_result"
    }
   ],
   "source": [
    "# Select Argentina beef consumption\n",
    "arg_beef = file[(file[\"country\"]==\"Argentina\") & (file[\"food_category\"]==\"beef\")]\n",
    "arg_beef"
   ]
  },
  {
   "cell_type": "code",
   "execution_count": null,
   "id": "1e6bb5ee",
   "metadata": {},
   "outputs": [
    {
     "data": {
      "text/html": [
       "<div>\n",
       "<style scoped>\n",
       "    .dataframe tbody tr th:only-of-type {\n",
       "        vertical-align: middle;\n",
       "    }\n",
       "\n",
       "    .dataframe tbody tr th {\n",
       "        vertical-align: top;\n",
       "    }\n",
       "\n",
       "    .dataframe thead th {\n",
       "        text-align: right;\n",
       "    }\n",
       "</style>\n",
       "<table border=\"1\" class=\"dataframe\">\n",
       "  <thead>\n",
       "    <tr style=\"text-align: right;\">\n",
       "      <th></th>\n",
       "      <th>country</th>\n",
       "      <th>food_category</th>\n",
       "      <th>consumption</th>\n",
       "      <th>co2_emission</th>\n",
       "    </tr>\n",
       "  </thead>\n",
       "  <tbody>\n",
       "    <tr>\n",
       "      <th>1421</th>\n",
       "      <td>Bangladesh</td>\n",
       "      <td>beef</td>\n",
       "      <td>1.28</td>\n",
       "      <td>39.5</td>\n",
       "    </tr>\n",
       "  </tbody>\n",
       "</table>\n",
       "</div>"
      ],
      "text/plain": [
       "         country food_category  consumption  co2_emission\n",
       "1421  Bangladesh          beef         1.28          39.5"
      ]
     },
     "execution_count": 25,
     "metadata": {},
     "output_type": "execute_result"
    }
   ],
   "source": [
    "# Select Bangladesh beef consumption\n",
    "bang_beef = file[(file['country'] == 'Bangladesh') & (file['food_category'] == 'beef')]\n",
    "bang_beef"
   ]
  },
  {
   "cell_type": "code",
   "execution_count": 26,
   "id": "a46bdd67",
   "metadata": {},
   "outputs": [],
   "source": [
    "# Brong out the consumption rate for both countries\n",
    "arg_consump = arg_beef[\"consumption\"]\n",
    "bang_consump = bang_beef['consumption']"
   ]
  },
  {
   "cell_type": "code",
   "execution_count": 28,
   "id": "87a731e8",
   "metadata": {},
   "outputs": [
    {
     "name": "stdout",
     "output_type": "stream",
     "text": [
      "The mean consumption for Argentina is: 55.48\n",
      "The mean consumption for Bangladesh is : 1.28\n"
     ]
    }
   ],
   "source": [
    "# Get the consumption mean of both countries\n",
    "arg_consump_mean = arg_consump.mean()\n",
    "bang_consump_mean = bang_consump.mean()\n",
    "\n",
    "print(f'The mean consumption for Argentina is: {arg_consump_mean}\\nThe mean consumption for Bangladesh is : {bang_consump_mean}')"
   ]
  },
  {
   "cell_type": "code",
   "execution_count": 29,
   "id": "8ddf8b94",
   "metadata": {},
   "outputs": [
    {
     "data": {
      "text/plain": [
       "array([51.72689367, 49.32880518, 57.63086503, 50.44784177, 55.22003662,\n",
       "       60.71995913, 53.55656492, 59.63675417, 48.86241364, 60.21104525,\n",
       "       56.46874139, 54.02369781, 60.29904946, 46.61847023, 65.07971936,\n",
       "       50.9535088 , 58.09514997, 56.2461046 , 55.59148433, 54.33427123,\n",
       "       61.15477623, 56.70274767, 55.28860963, 54.68961909, 51.83041659,\n",
       "       64.8309752 , 59.67205768, 59.19455662, 50.15818384, 57.06493335])"
      ]
     },
     "execution_count": 29,
     "metadata": {},
     "output_type": "execute_result"
    }
   ],
   "source": [
    "rg_beef_samples = np.random.normal(loc=arg_consump_mean, scale=5, size=30)\n",
    "rg_beef_samples"
   ]
  },
  {
   "cell_type": "code",
   "execution_count": 30,
   "id": "43713f65",
   "metadata": {},
   "outputs": [],
   "source": [
    "# One-sample t-test\n",
    "t_stat, p_val = stat.ttest_1samp(rg_beef_samples, 50)"
   ]
  },
  {
   "cell_type": "code",
   "execution_count": 31,
   "id": "41c2b58c",
   "metadata": {},
   "outputs": [
    {
     "name": "stdout",
     "output_type": "stream",
     "text": [
      "T-statistic: 6.958242448732897\n"
     ]
    }
   ],
   "source": [
    "print(\"T-statistic:\", t_stat)"
   ]
  },
  {
   "cell_type": "code",
   "execution_count": 33,
   "id": "a0f9d57d",
   "metadata": {},
   "outputs": [
    {
     "name": "stdout",
     "output_type": "stream",
     "text": [
      "P-value:  1.1953807721651018e-07\n"
     ]
    }
   ],
   "source": [
    "print('P-value: ', p_val)\n",
    "\n"
   ]
  },
  {
   "cell_type": "markdown",
   "id": "44220cfd",
   "metadata": {},
   "source": [
    "#### **Interpretation**\n",
    "\n",
    "If p < 0.05, reject H₀ → beef consumption differs significantly.\n",
    "\n",
    "If p ≥ 0.05, fail to reject H₀."
   ]
  }
 ],
 "metadata": {
  "kernelspec": {
   "display_name": "Python 3",
   "language": "python",
   "name": "python3"
  },
  "language_info": {
   "codemirror_mode": {
    "name": "ipython",
    "version": 3
   },
   "file_extension": ".py",
   "mimetype": "text/x-python",
   "name": "python",
   "nbconvert_exporter": "python",
   "pygments_lexer": "ipython3",
   "version": "3.13.7"
  }
 },
 "nbformat": 4,
 "nbformat_minor": 5
}
