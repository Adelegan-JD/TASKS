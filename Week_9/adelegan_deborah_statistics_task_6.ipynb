{
 "cells": [
  {
   "cell_type": "markdown",
   "id": "36ff77a7",
   "metadata": {},
   "source": [
    "### **Data Ingestion**"
   ]
  },
  {
   "cell_type": "code",
   "execution_count": 27,
   "id": "ac15b6e6",
   "metadata": {},
   "outputs": [],
   "source": [
    "# import necessary package\n",
    "import gdown\n",
    "import pandas as pd\n",
    "import numpy as np\n",
    "import scipy.stats as stat\n",
    "import seaborn as sns\n",
    "import matplotlib.pyplot as plt"
   ]
  },
  {
   "cell_type": "code",
   "execution_count": 28,
   "id": "512ed0ef",
   "metadata": {},
   "outputs": [
    {
     "name": "stderr",
     "output_type": "stream",
     "text": [
      "Downloading...\n",
      "From: https://drive.google.com/uc?id=1yB5qSBOLl96Y563nIewKOU8RN_gsY3dO\n",
      "To: c:\\Users\\ncc\\Desktop\\task\\Week_9\\data.csv\n",
      "100%|██████████| 52.0k/52.0k [00:00<00:00, 47.5MB/s]\n"
     ]
    },
    {
     "data": {
      "text/plain": [
       "'data.csv'"
      ]
     },
     "execution_count": 28,
     "metadata": {},
     "output_type": "execute_result"
    }
   ],
   "source": [
    "# load the data\n",
    "\n",
    "file_id = '1yB5qSBOLl96Y563nIewKOU8RN_gsY3dO'  # Make sure it's a string\n",
    "gdown.download(f'https://drive.google.com/uc?id={file_id}', 'data.csv', quiet=False)"
   ]
  },
  {
   "cell_type": "code",
   "execution_count": 29,
   "id": "ab4fe05d",
   "metadata": {},
   "outputs": [],
   "source": [
    "file = pd.read_csv('data.csv')"
   ]
  },
  {
   "cell_type": "markdown",
   "id": "1445aaad",
   "metadata": {},
   "source": [
    "### **Data Cleaning**"
   ]
  },
  {
   "cell_type": "code",
   "execution_count": 30,
   "id": "bf7ebde7",
   "metadata": {},
   "outputs": [
    {
     "data": {
      "text/plain": [
       "Unnamed: 0       0\n",
       "country          0\n",
       "food_category    0\n",
       "consumption      0\n",
       "co2_emission     0\n",
       "dtype: int64"
      ]
     },
     "execution_count": 30,
     "metadata": {},
     "output_type": "execute_result"
    }
   ],
   "source": [
    "file.isna().sum()"
   ]
  },
  {
   "cell_type": "code",
   "execution_count": 31,
   "id": "e259683d",
   "metadata": {},
   "outputs": [],
   "source": [
    "# drop unnecessary columns\n",
    "file.drop('Unnamed: 0', axis = 1, inplace = True)"
   ]
  },
  {
   "cell_type": "markdown",
   "id": "34c0491d",
   "metadata": {},
   "source": [
    "### **Statistical Analysis:** One sample T-test"
   ]
  },
  {
   "cell_type": "markdown",
   "id": "2f21fb37",
   "metadata": {},
   "source": [
    "#### **Question**\n",
    "\n",
    "Is the beef consumption in Argentina significantly different from that in Bangladesh?"
   ]
  },
  {
   "cell_type": "markdown",
   "id": "05a05d66",
   "metadata": {},
   "source": [
    "\n",
    "- H₀: Mean beef consumption (Argentina) = Mean beef consumption (Bangladesh)\n",
    "\n",
    "- H₁: Mean beef consumption (Argentina) ≠ Mean beef consumption (Bangladesh)"
   ]
  },
  {
   "cell_type": "markdown",
   "id": "a4af8e9b",
   "metadata": {},
   "source": [
    "#### **Solution:**"
   ]
  },
  {
   "cell_type": "markdown",
   "id": "eac84c35",
   "metadata": {},
   "source": [
    "To identify is the beef consumption in Argentina is slightly different from that in Bangladesh, we have to take the mean of both nations into consideration.\n",
    "\n",
    "H₀: Mean beef consumption in Argentina = Mean beef consumption in Bangladesh\n",
    "\n",
    "H₁: Mean beef consumption in Argentina ≠ Mean beef consumption in Bangladesh"
   ]
  },
  {
   "cell_type": "code",
   "execution_count": 32,
   "id": "d5dd1b76",
   "metadata": {},
   "outputs": [
    {
     "data": {
      "text/html": [
       "<div>\n",
       "<style scoped>\n",
       "    .dataframe tbody tr th:only-of-type {\n",
       "        vertical-align: middle;\n",
       "    }\n",
       "\n",
       "    .dataframe tbody tr th {\n",
       "        vertical-align: top;\n",
       "    }\n",
       "\n",
       "    .dataframe thead th {\n",
       "        text-align: right;\n",
       "    }\n",
       "</style>\n",
       "<table border=\"1\" class=\"dataframe\">\n",
       "  <thead>\n",
       "    <tr style=\"text-align: right;\">\n",
       "      <th></th>\n",
       "      <th>country</th>\n",
       "      <th>food_category</th>\n",
       "      <th>consumption</th>\n",
       "      <th>co2_emission</th>\n",
       "    </tr>\n",
       "  </thead>\n",
       "  <tbody>\n",
       "    <tr>\n",
       "      <th>2</th>\n",
       "      <td>Argentina</td>\n",
       "      <td>beef</td>\n",
       "      <td>55.48</td>\n",
       "      <td>1712.0</td>\n",
       "    </tr>\n",
       "  </tbody>\n",
       "</table>\n",
       "</div>"
      ],
      "text/plain": [
       "     country food_category  consumption  co2_emission\n",
       "2  Argentina          beef        55.48        1712.0"
      ]
     },
     "execution_count": 32,
     "metadata": {},
     "output_type": "execute_result"
    }
   ],
   "source": [
    "# Select Argentina beef consumption\n",
    "arg_beef = file[(file[\"country\"]==\"Argentina\") & (file[\"food_category\"]==\"beef\")]\n",
    "arg_beef"
   ]
  },
  {
   "cell_type": "code",
   "execution_count": 33,
   "id": "1e6bb5ee",
   "metadata": {},
   "outputs": [
    {
     "data": {
      "text/html": [
       "<div>\n",
       "<style scoped>\n",
       "    .dataframe tbody tr th:only-of-type {\n",
       "        vertical-align: middle;\n",
       "    }\n",
       "\n",
       "    .dataframe tbody tr th {\n",
       "        vertical-align: top;\n",
       "    }\n",
       "\n",
       "    .dataframe thead th {\n",
       "        text-align: right;\n",
       "    }\n",
       "</style>\n",
       "<table border=\"1\" class=\"dataframe\">\n",
       "  <thead>\n",
       "    <tr style=\"text-align: right;\">\n",
       "      <th></th>\n",
       "      <th>country</th>\n",
       "      <th>food_category</th>\n",
       "      <th>consumption</th>\n",
       "      <th>co2_emission</th>\n",
       "    </tr>\n",
       "  </thead>\n",
       "  <tbody>\n",
       "    <tr>\n",
       "      <th>1421</th>\n",
       "      <td>Bangladesh</td>\n",
       "      <td>beef</td>\n",
       "      <td>1.28</td>\n",
       "      <td>39.5</td>\n",
       "    </tr>\n",
       "  </tbody>\n",
       "</table>\n",
       "</div>"
      ],
      "text/plain": [
       "         country food_category  consumption  co2_emission\n",
       "1421  Bangladesh          beef         1.28          39.5"
      ]
     },
     "execution_count": 33,
     "metadata": {},
     "output_type": "execute_result"
    }
   ],
   "source": [
    "# Select Bangladesh beef consumption\n",
    "bang_beef = file[(file['country'] == 'Bangladesh') & (file['food_category'] == 'beef')]\n",
    "bang_beef"
   ]
  },
  {
   "cell_type": "code",
   "execution_count": 34,
   "id": "a46bdd67",
   "metadata": {},
   "outputs": [],
   "source": [
    "# Brong out the consumption rate for both countries\n",
    "arg_consump = arg_beef[\"consumption\"]\n",
    "bang_consump = bang_beef['consumption']"
   ]
  },
  {
   "cell_type": "code",
   "execution_count": 35,
   "id": "87a731e8",
   "metadata": {},
   "outputs": [
    {
     "name": "stdout",
     "output_type": "stream",
     "text": [
      "The mean consumption for Argentina is: 55.48\n",
      "The mean consumption for Bangladesh is : 1.28\n",
      "[np.float64(55.48), np.float64(1.28)]\n"
     ]
    }
   ],
   "source": [
    "# Get the consumption mean of both countries\n",
    "arg_consump_mean = arg_consump.mean()\n",
    "bang_consump_mean = bang_consump.mean()\n",
    "\n",
    "means = [arg_consump_mean, bang_consump_mean]\n",
    "print(f'The mean consumption for Argentina is: {arg_consump_mean}\\nThe mean consumption for Bangladesh is : {bang_consump_mean}')\n",
    "print(means)"
   ]
  },
  {
   "cell_type": "code",
   "execution_count": null,
   "id": "432c9282",
   "metadata": {},
   "outputs": [],
   "source": []
  },
  {
   "cell_type": "code",
   "execution_count": null,
   "id": "8ddf8b94",
   "metadata": {},
   "outputs": [
    {
     "data": {
      "text/plain": [
       "array([57.78370376, 60.79162572, 43.71737736, 51.27589084, 57.03403163,\n",
       "       48.00765905, 53.27769892, 60.63669328, 48.97079492, 61.92798236,\n",
       "       58.2298846 , 51.87700784, 55.78206889, 55.32808195, 48.45544564,\n",
       "       59.61449217, 55.0677338 , 67.92614119, 63.5006471 , 57.10472195,\n",
       "       51.1487727 , 59.65200217, 56.8072683 , 53.23372801, 60.19556237,\n",
       "       56.17873064, 53.68912798, 57.43836239, 60.22344152, 60.51831921])"
      ]
     },
     "execution_count": 13,
     "metadata": {},
     "output_type": "execute_result"
    }
   ],
   "source": [
    "rg_beef_samples = np.random.normal(loc=arg_consump_mean, scale=5, size=30)\n",
    "rg_beef_samples"
   ]
  },
  {
   "cell_type": "code",
   "execution_count": null,
   "id": "43713f65",
   "metadata": {},
   "outputs": [],
   "source": [
    "# One-sample t-test\n",
    "t_stat, p_val = stat.ttest_1samp(rg_beef_samples, 50)"
   ]
  },
  {
   "cell_type": "code",
   "execution_count": null,
   "id": "41c2b58c",
   "metadata": {},
   "outputs": [
    {
     "name": "stdout",
     "output_type": "stream",
     "text": [
      "T-statistic: 6.533891460294526\n"
     ]
    }
   ],
   "source": [
    "print(\"T-statistic:\", t_stat)"
   ]
  },
  {
   "cell_type": "code",
   "execution_count": null,
   "id": "a0f9d57d",
   "metadata": {},
   "outputs": [
    {
     "name": "stdout",
     "output_type": "stream",
     "text": [
      "P-value:  3.7235383278763725e-07\n"
     ]
    }
   ],
   "source": [
    "print('P-value: ', p_val)\n",
    "\n"
   ]
  },
  {
   "cell_type": "markdown",
   "id": "bd1565f7",
   "metadata": {},
   "source": [
    "#### **Interpretation**\n",
    "\n",
    "Since the P-value (0.00000119) is less than the alpha (0.05), my decision will be to reject H₀. \n",
    "\n",
    "This means the mean consumption of beef in Argentina is not the same as the mean beef consumption in Bangladesh."
   ]
  }
 ],
 "metadata": {
  "kernelspec": {
   "display_name": "Python 3",
   "language": "python",
   "name": "python3"
  },
  "language_info": {
   "codemirror_mode": {
    "name": "ipython",
    "version": 3
   },
   "file_extension": ".py",
   "mimetype": "text/x-python",
   "name": "python",
   "nbconvert_exporter": "python",
   "pygments_lexer": "ipython3",
   "version": "3.13.7"
  }
 },
 "nbformat": 4,
 "nbformat_minor": 5
}
