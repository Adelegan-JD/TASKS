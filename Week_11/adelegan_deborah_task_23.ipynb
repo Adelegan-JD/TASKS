{
 "cells": [
  {
   "cell_type": "code",
   "execution_count": null,
   "id": "2c928a66",
   "metadata": {
    "vscode": {
     "languageId": "plaintext"
    }
   },
   "outputs": [],
   "source": [
    "### Create a Type Validation for Twitter username and post length using Pydantic"
   ]
  },
  {
   "cell_type": "code",
   "execution_count": null,
   "id": "10fb008d",
   "metadata": {
    "vscode": {
     "languageId": "plaintext"
    }
   },
   "outputs": [],
   "source": [
    "%%capture\n",
    "%pip install pydantic"
   ]
  },
  {
   "cell_type": "code",
   "execution_count": null,
   "id": "7c7153e2",
   "metadata": {
    "vscode": {
     "languageId": "plaintext"
    }
   },
   "outputs": [],
   "source": [
    "from pydantic import BaseModel, Field, ValidationError\n",
    "from typing import List\n"
   ]
  },
  {
   "cell_type": "code",
   "execution_count": null,
   "id": "4d5445a9",
   "metadata": {
    "vscode": {
     "languageId": "plaintext"
    }
   },
   "outputs": [],
   "source": [
    "class TwitterValidation(BaseModel):\n",
    "    username: str = Field(..., min_length=3, max_length=12, pattern=r\"^[A-Za-z0-9_]+$\")\n",
    "    email: EmailStr = Field(..., )\n",
    "    postlength: str = (..., min_length=0, max_length=240)\n",
    "\n"
   ]
  },
  {
   "cell_type": "code",
   "execution_count": null,
   "id": "fdfb49d9",
   "metadata": {
    "vscode": {
     "languageId": "plaintext"
    }
   },
   "outputs": [],
   "source": [
    "# To demo for the username\n",
    "\n",
    "def demo_twitter_username():\n",
    "    print(''Twitter Username Validation)\n",
    "    try:\n",
    "        TwitterValidation(username= 34, email=user01@gmail.com, )"
   ]
  }
 ],
 "metadata": {
  "language_info": {
   "name": "python"
  }
 },
 "nbformat": 4,
 "nbformat_minor": 5
}
